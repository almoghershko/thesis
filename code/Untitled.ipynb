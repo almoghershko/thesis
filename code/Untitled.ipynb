{
 "cells": [
  {
   "cell_type": "code",
   "execution_count": 1,
   "id": "1345ab0a-5666-40f4-abe7-69458d3c3600",
   "metadata": {},
   "outputs": [
    {
     "name": "stdout",
     "output_type": "stream",
     "text": [
      "Collecting boto3\n",
      "  Downloading boto3-1.20.27-py3-none-any.whl (131 kB)\n",
      "     |████████████████████████████████| 131 kB 21.6 MB/s            \n",
      "\u001b[?25hCollecting progressbar2\n",
      "  Using cached progressbar2-3.55.0-py2.py3-none-any.whl (26 kB)\n",
      "Collecting sfdmap\n",
      "  Using cached sfdmap-0.1.1-py3-none-any.whl\n",
      "Collecting GPUtil\n",
      "  Using cached GPUtil-1.4.0-py3-none-any.whl\n",
      "Collecting botocore<1.24.0,>=1.23.27\n",
      "  Downloading botocore-1.23.27-py3-none-any.whl (8.5 MB)\n",
      "     |████████████████████████████████| 8.5 MB 78.9 MB/s            \n",
      "\u001b[?25hCollecting s3transfer<0.6.0,>=0.5.0\n",
      "  Using cached s3transfer-0.5.0-py3-none-any.whl (79 kB)\n",
      "Collecting jmespath<1.0.0,>=0.7.1\n",
      "  Using cached jmespath-0.10.0-py2.py3-none-any.whl (24 kB)\n",
      "Collecting python-utils>=2.3.0\n",
      "  Using cached python_utils-2.7.1-py2.py3-none-any.whl (14 kB)\n",
      "Requirement already satisfied: six in /opt/conda/lib/python3.9/site-packages (from progressbar2) (1.15.0)\n",
      "Requirement already satisfied: numpy in /opt/conda/lib/python3.9/site-packages (from sfdmap) (1.19.5)\n",
      "Requirement already satisfied: python-dateutil<3.0.0,>=2.1 in /opt/conda/lib/python3.9/site-packages (from botocore<1.24.0,>=1.23.27->boto3) (2.8.2)\n",
      "Requirement already satisfied: urllib3<1.27,>=1.25.4 in /opt/conda/lib/python3.9/site-packages (from botocore<1.24.0,>=1.23.27->boto3) (1.26.7)\n",
      "Installing collected packages: jmespath, botocore, s3transfer, python-utils, sfdmap, progressbar2, GPUtil, boto3\n",
      "Successfully installed GPUtil-1.4.0 boto3-1.20.27 botocore-1.23.27 jmespath-0.10.0 progressbar2-3.55.0 python-utils-2.7.1 s3transfer-0.5.0 sfdmap-0.1.1\n"
     ]
    }
   ],
   "source": [
    "!pip install boto3 progressbar2 sfdmap GPUtil"
   ]
  },
  {
   "cell_type": "code",
   "execution_count": 2,
   "id": "dfc97ead-757e-4178-8441-cd20bece6dc7",
   "metadata": {},
   "outputs": [],
   "source": [
    "# imports\n",
    "import pandas as pd\n",
    "import numpy as np\n",
    "import os\n",
    "import sys\n",
    "import pickle\n",
    "from matplotlib import pyplot as plt\n",
    "import matplotlib\n",
    "import boto3\n",
    "\n",
    "# random seed\n",
    "seed = 42\n",
    "np.random.seed(seed)\n",
    "\n",
    "# local files paths\n",
    "local_home_dir_path = os.path.expanduser(\"~\")\n",
    "local_work_dir_path = os.path.join(local_home_dir_path, 'workdir3')\n",
    "local_code_dir_path = os.path.join(local_work_dir_path , 'code')\n",
    "\n",
    "# S3 file paths\n",
    "endpoint_url = 'https://s3.nautilus.optiputer.net'\n",
    "bucket_name = 'tau-astro'\n",
    "prefix = 'almogh'\n",
    "s3_work_dir_path = os.path.join(prefix, 'workdir3')\n",
    "s3_saves_dir_path = os.path.join(s3_work_dir_path , 'model_saves')\n",
    "s3_data_dir_path = os.path.join(s3_work_dir_path , 'data')\n",
    "s3_data_ver_dir_path = os.path.join(s3_data_dir_path,'HighSNR_12K_V1')\n",
    "\n",
    "s3_client = boto3.client(\"s3\", endpoint_url=endpoint_url)\n",
    "\n",
    "# adding code folder to path\n",
    "sys.path.insert(1, local_code_dir_path)\n",
    "from s3 import to_s3_npy, to_s3_pkl, from_s3_npy, from_s3_pkl, to_s3_fig"
   ]
  },
  {
   "cell_type": "code",
   "execution_count": 3,
   "id": "69f654f9-e9f3-4dd2-a1a0-05f17f6a54a3",
   "metadata": {},
   "outputs": [
    {
     "name": "stdout",
     "output_type": "stream",
     "text": [
      "loading from folder (S3): almogh/workdir3/model_saves/RF/simple___2021_11_27___22_09_00___standard_RF_max_depth_10\n",
      "loading from uri: s3://tau-astro/almogh/workdir3/model_saves/RF/simple___2021_11_27___22_09_00___standard_RF_max_depth_10/X.npy\n",
      "loading from uri: s3://tau-astro/almogh/workdir3/model_saves/RF/simple___2021_11_27___22_09_00___standard_RF_max_depth_10/sim_mat.npy\n"
     ]
    }
   ],
   "source": [
    "load_RF_name = 'simple___2021_11_27___22_09_00___standard_RF_max_depth_10'\n",
    "s3_load_dir_path = os.path.join(s3_saves_dir_path, 'RF', load_RF_name)\n",
    "print('loading from folder (S3): {0}'.format(s3_load_dir_path))\n",
    "X = from_s3_npy(s3_client, bucket_name, os.path.join(s3_load_dir_path, 'X.npy'))\n",
    "sim_mat = from_s3_npy(s3_client, bucket_name, os.path.join(s3_load_dir_path, 'sim_mat.npy'))\n",
    "dis_mat = 1 - sim_mat"
   ]
  },
  {
   "cell_type": "code",
   "execution_count": 5,
   "id": "3146445b-072b-449b-a7d5-c5c2ef8b5d65",
   "metadata": {},
   "outputs": [],
   "source": [
    "from sklearn.model_selection import train_test_split\n",
    "X_train, X_val, I_train, I_test = train_test_split(X, np.arange(X.shape[0]), train_size=9000, random_state=seed)\n",
    "\n",
    "batch_size = 128\n",
    "\n",
    "from NN import DistillationDataGenerator\n",
    "train_gen = DistillationDataGenerator(X_train, dis_mat[I_train,:][:,I_train], shuffle=False, seed=seed, batch_size=batch_size, full_epoch=True)\n",
    "val_gen = DistillationDataGenerator(X_val, dis_mat[I_test,:][:,I_test], shuffle=False, seed=seed, batch_size=batch_size, full_epoch=True)"
   ]
  },
  {
   "cell_type": "code",
   "execution_count": 4,
   "id": "85288362-3fdd-448a-8175-af5e3dbaa615",
   "metadata": {},
   "outputs": [
    {
     "name": "stdout",
     "output_type": "stream",
     "text": [
      "loading from uri: s3://tau-astro/almogh/workdir3/model_saves/NN/simple___2021_12_06___21_36_21___Kernels_31_Filters_64_32_16_8_4_Hiddens_512_128_tanh/Z.npy\n"
     ]
    }
   ],
   "source": [
    "from s3 import to_s3_npy\n",
    "Z = from_s3_npy(s3_client, bucket_name, 'almogh/workdir3/model_saves/NN/simple___2021_12_06___21_36_21___Kernels_31_Filters_64_32_16_8_4_Hiddens_512_128_tanh/Z.npy')"
   ]
  },
  {
   "cell_type": "code",
   "execution_count": 22,
   "id": "5959c149-3d38-4fcf-ac07-1da69daf3093",
   "metadata": {},
   "outputs": [
    {
     "data": {
      "text/plain": [
       "array([[   0,    0],\n",
       "       [   1,    0],\n",
       "       [   2,    0],\n",
       "       ...,\n",
       "       [8997, 8999],\n",
       "       [8998, 8999],\n",
       "       [8999, 8999]])"
      ]
     },
     "execution_count": 22,
     "metadata": {},
     "output_type": "execute_result"
    }
   ],
   "source": [
    "train_gen.couples"
   ]
  },
  {
   "cell_type": "code",
   "execution_count": 9,
   "id": "20b4afe4-1aa6-4d6a-a930-7d964e77040d",
   "metadata": {},
   "outputs": [],
   "source": [
    "Z = Z.reshape(9000,9000)"
   ]
  },
  {
   "cell_type": "code",
   "execution_count": 14,
   "id": "bc70c7cd-df26-4bb7-a23c-e1af82265bf2",
   "metadata": {},
   "outputs": [],
   "source": [
    "dis_mat = dis_mat[I_train,:][:,I_train]"
   ]
  },
  {
   "cell_type": "code",
   "execution_count": 15,
   "id": "7cb4d63a-6729-4c9c-9901-44dbeb060fdf",
   "metadata": {},
   "outputs": [],
   "source": [
    "err = abs(Z-dis_mat)"
   ]
  },
  {
   "cell_type": "code",
   "execution_count": 18,
   "id": "bd822512-184a-46d1-8ae1-716bc059097b",
   "metadata": {},
   "outputs": [],
   "source": [
    "# calculate histogram\n",
    "N = 1000\n",
    "edges = np.linspace(0,1,N+1)\n",
    "centers = (edges[:-1]+edges[1:])/2\n",
    "counts,_ = np.histogram(err, bins=edges)\n",
    "counts = np.divide(counts, np.sum(counts))"
   ]
  },
  {
   "cell_type": "code",
   "execution_count": 19,
   "id": "5f3554bf-770f-492e-a756-997beca69a63",
   "metadata": {},
   "outputs": [
    {
     "data": {
      "text/plain": [
       "[<matplotlib.lines.Line2D at 0x7f61fcafc490>]"
      ]
     },
     "execution_count": 19,
     "metadata": {},
     "output_type": "execute_result"
    },
    {
     "data": {
      "image/png": "[encoded data removed]",
      "text/plain": [
       "<Figure size 1080x576 with 1 Axes>"
      ]
     },
     "metadata": {
      "needs_background": "light"
     },
     "output_type": "display_data"
    }
   ],
   "source": [
    "from matplotlib import pyplot as plt\n",
    "hist_fig, hist_ax = plt.subplots(figsize=(15,8))\n",
    "hist_ax.set_title('Loss histogram')\n",
    "hist_ax.set_xlabel('loss')\n",
    "hist_ax.set_ylabel('freq')\n",
    "hist_ax.grid()\n",
    "#hist_ax.plot(centers[:150],counts[:150])\n",
    "hist_ax.plot(centers,counts)"
   ]
  },
  {
   "cell_type": "code",
   "execution_count": 20,
   "id": "d91f6442-c789-4e8d-a194-ec3f9db85b2c",
   "metadata": {},
   "outputs": [
    {
     "data": {
      "image/png": "[encoded data removed]",
      "text/plain": [
       "<Figure size 1080x576 with 1 Axes>"
      ]
     },
     "metadata": {
      "needs_background": "light"
     },
     "output_type": "display_data"
    }
   ],
   "source": [
    "from matplotlib import pyplot as plt\n",
    "hist_fig, hist_ax = plt.subplots(figsize=(15,8))\n",
    "hist_ax.set_title('Loss histogram')\n",
    "hist_ax.set_xlabel('loss')\n",
    "hist_ax.set_ylabel('freq')\n",
    "hist_ax.grid()\n",
    "#hist_ax.plot(centers[:150],counts[:150])\n",
    "hist_ax.plot(centers,counts)\n",
    "hist_ax.set_yscale('log', base=2)"
   ]
  }
 ],
 "metadata": {
  "kernelspec": {
   "display_name": "Python 3 (ipykernel)",
   "language": "python",
   "name": "python3"
  },
  "language_info": {
   "codemirror_mode": {
    "name": "ipython",
    "version": 3
   },
   "file_extension": ".py",
   "mimetype": "text/x-python",
   "name": "python",
   "nbconvert_exporter": "python",
   "pygments_lexer": "ipython3",
   "version": "3.9.7"
  }
 },
 "nbformat": 4,
 "nbformat_minor": 5
}
