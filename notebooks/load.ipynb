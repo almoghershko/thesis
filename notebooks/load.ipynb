{
 "cells": [
  {
   "cell_type": "markdown",
   "id": "007014af-c415-495d-b5d6-cc404e644ce2",
   "metadata": {},
   "source": [
    "# Initialization"
   ]
  },
  {
   "cell_type": "code",
   "execution_count": 1,
   "id": "5d613801-f00d-4de7-84ea-d7437a2b05e6",
   "metadata": {},
   "outputs": [
    {
     "name": "stdout",
     "output_type": "stream",
     "text": [
      "Collecting boto3\n",
      "  Using cached boto3-1.20.27-py3-none-any.whl (131 kB)\n",
      "Collecting progressbar2\n",
      "  Using cached progressbar2-3.55.0-py2.py3-none-any.whl (26 kB)\n",
      "Collecting sfdmap\n",
      "  Using cached sfdmap-0.1.1-py3-none-any.whl\n",
      "Collecting GPUtil\n",
      "  Using cached GPUtil-1.4.0-py3-none-any.whl\n",
      "Collecting jmespath<1.0.0,>=0.7.1\n",
      "  Using cached jmespath-0.10.0-py2.py3-none-any.whl (24 kB)\n",
      "Collecting s3transfer<0.6.0,>=0.5.0\n",
      "  Using cached s3transfer-0.5.0-py3-none-any.whl (79 kB)\n",
      "Collecting botocore<1.24.0,>=1.23.27\n",
      "  Using cached botocore-1.23.27-py3-none-any.whl (8.5 MB)\n",
      "Collecting python-utils>=2.3.0\n",
      "  Using cached python_utils-2.7.1-py2.py3-none-any.whl (14 kB)\n",
      "Requirement already satisfied: six in /opt/conda/lib/python3.9/site-packages (from progressbar2) (1.15.0)\n",
      "Requirement already satisfied: numpy in /opt/conda/lib/python3.9/site-packages (from sfdmap) (1.19.5)\n",
      "Requirement already satisfied: urllib3<1.27,>=1.25.4 in /opt/conda/lib/python3.9/site-packages (from botocore<1.24.0,>=1.23.27->boto3) (1.26.7)\n",
      "Requirement already satisfied: python-dateutil<3.0.0,>=2.1 in /opt/conda/lib/python3.9/site-packages (from botocore<1.24.0,>=1.23.27->boto3) (2.8.2)\n",
      "Installing collected packages: jmespath, botocore, s3transfer, python-utils, sfdmap, progressbar2, GPUtil, boto3\n",
      "Successfully installed GPUtil-1.4.0 boto3-1.20.27 botocore-1.23.27 jmespath-0.10.0 progressbar2-3.55.0 python-utils-2.7.1 s3transfer-0.5.0 sfdmap-0.1.1\n"
     ]
    }
   ],
   "source": [
    "!pip install boto3 progressbar2 sfdmap GPUtil"
   ]
  },
  {
   "cell_type": "code",
   "execution_count": 2,
   "id": "7cbf718f-b3cb-4ec7-bccb-3807b4b8b761",
   "metadata": {},
   "outputs": [
    {
     "name": "stdout",
     "output_type": "stream",
     "text": [
      "GPUs:\n",
      "(1)\tTesla V100-SXM2-32GB\n"
     ]
    }
   ],
   "source": [
    "import GPUtil\n",
    "print('GPUs:\\n{0}'.format('\\n'.join(['('+str(i+1)+')\\t'+gpu.name for i,gpu in enumerate(GPUtil.getGPUs())])))"
   ]
  },
  {
   "cell_type": "code",
   "execution_count": 3,
   "id": "faa498ab-be1b-4dbb-9b2d-c02ada7f4e1c",
   "metadata": {},
   "outputs": [],
   "source": [
    "# imports\n",
    "import pandas as pd\n",
    "import numpy as np\n",
    "import os\n",
    "import sys\n",
    "import pickle\n",
    "from matplotlib import pyplot as plt\n",
    "import matplotlib\n",
    "import boto3\n",
    "\n",
    "# random seed\n",
    "seed = 42\n",
    "np.random.seed(seed)\n",
    "\n",
    "# local files paths\n",
    "local_home_dir_path = os.path.expanduser(\"~\")\n",
    "local_work_dir_path = os.path.join(local_home_dir_path, 'git')\n",
    "local_code_dir_path = os.path.join(local_work_dir_path , 'code')\n",
    "\n",
    "# S3 file paths\n",
    "endpoint_url = 'https://s3.nautilus.optiputer.net'\n",
    "bucket_name = 'tau-astro'\n",
    "prefix = 'almogh'\n",
    "s3_work_dir_path = os.path.join(prefix, 'workdir3')\n",
    "s3_saves_dir_path = os.path.join(s3_work_dir_path , 'model_saves')\n",
    "s3_data_dir_path = os.path.join(s3_work_dir_path , 'data')\n",
    "s3_data_ver_dir_path = os.path.join(s3_data_dir_path,'HighSNR_12K_V1')\n",
    "\n",
    "s3_client = boto3.client(\"s3\", endpoint_url=endpoint_url)\n",
    "\n",
    "# adding code folder to path\n",
    "sys.path.insert(1, local_code_dir_path)\n",
    "from s3 import to_s3_npy, to_s3_pkl, from_s3_npy, from_s3_pkl, to_s3_fig"
   ]
  },
  {
   "cell_type": "markdown",
   "id": "15feacd5-84f0-452f-8add-036c32f42764",
   "metadata": {},
   "source": [
    "# Load the Data"
   ]
  },
  {
   "cell_type": "code",
   "execution_count": 4,
   "id": "3964b7b7-33a0-4215-b9fc-020cfff8703d",
   "metadata": {},
   "outputs": [
    {
     "name": "stdout",
     "output_type": "stream",
     "text": [
      "loading from folder (S3): almogh/workdir3/model_saves/RF/simple___2021_11_27___22_09_00___standard_RF_max_depth_10\n",
      "loading from uri: s3://tau-astro/almogh/workdir3/model_saves/RF/simple___2021_11_27___22_09_00___standard_RF_max_depth_10/X.npy\n",
      "loading from uri: s3://tau-astro/almogh/workdir3/model_saves/RF/simple___2021_11_27___22_09_00___standard_RF_max_depth_10/sim_mat.npy\n"
     ]
    }
   ],
   "source": [
    "load_RF_name = 'simple___2021_11_27___22_09_00___standard_RF_max_depth_10'\n",
    "s3_load_dir_path = os.path.join(s3_saves_dir_path, 'RF', load_RF_name)\n",
    "print('loading from folder (S3): {0}'.format(s3_load_dir_path))\n",
    "X = from_s3_npy(s3_client, bucket_name, os.path.join(s3_load_dir_path, 'X.npy'))\n",
    "sim_mat = from_s3_npy(s3_client, bucket_name, os.path.join(s3_load_dir_path, 'sim_mat.npy'))\n",
    "dis_mat = 1 - sim_mat"
   ]
  },
  {
   "cell_type": "code",
   "execution_count": 5,
   "id": "cff816f9-9bf4-4c35-83e0-c3dc4ea636bb",
   "metadata": {},
   "outputs": [],
   "source": [
    "from sklearn.model_selection import train_test_split\n",
    "X_train, X_val, I_train, I_test = train_test_split(X, np.arange(X.shape[0]), train_size=9000, random_state=seed)\n",
    "\n",
    "batch_size = 128\n",
    "\n",
    "from NN import DistillationDataGenerator\n",
    "train_gen = DistillationDataGenerator(X_train, dis_mat[I_train,:][:,I_train], shuffle=False, seed=seed, batch_size=batch_size, full_epoch=True)\n",
    "val_gen = DistillationDataGenerator(X_val, dis_mat[I_test,:][:,I_test], shuffle=False, seed=seed, batch_size=batch_size, full_epoch=True)"
   ]
  },
  {
   "cell_type": "code",
   "execution_count": 6,
   "id": "23f235fd-d524-42a6-b7aa-e54e65bde42e",
   "metadata": {},
   "outputs": [
    {
     "name": "stderr",
     "output_type": "stream",
     "text": [
      "2022-01-04 09:19:42.510025: I tensorflow/core/platform/cpu_feature_guard.cc:142] This TensorFlow binary is optimized with oneAPI Deep Neural Network Library (oneDNN) to use the following CPU instructions in performance-critical operations:  AVX2 AVX512F FMA\n",
      "To enable them in other operations, rebuild TensorFlow with the appropriate compiler flags.\n",
      "2022-01-04 09:19:43.188593: I tensorflow/core/common_runtime/gpu/gpu_device.cc:1510] Created device /job:localhost/replica:0/task:0/device:GPU:0 with 30996 MB memory:  -> device: 0, name: Tesla V100-SXM2-32GB, pci bus id: 0000:8a:00.0, compute capability: 7.0\n"
     ]
    }
   ],
   "source": [
    "from s3 import s3_load_TF_model\n",
    "from NN import DistanceLayer\n",
    "siamese_model = s3_load_TF_model(s3_client,\n",
    "                                 bucket_name=bucket_name,\n",
    "                                 #path_in_bucket='almogh/workdir3/model_saves/NN/simple___2021_12_06___21_36_21___Kernels_31_Filters_64_32_16_8_4_Hiddens_512_128_tanh/model',\n",
    "                                 path_in_bucket='almogh/workdir3/model_saves/NN/simple___2021_12_13___11_16_51___Kernels_31_Filters_64_32_16_8_4_Hiddens_512_128_tanh_SNR_6dB_40dB/model',\n",
    "                                 model_name='model',\n",
    "                                 custom_objects={'DistanceLayer': DistanceLayer})"
   ]
  },
  {
   "cell_type": "code",
   "execution_count": 7,
   "id": "56f96ade-e736-4f29-aaa0-c5cb8c941be5",
   "metadata": {},
   "outputs": [
    {
     "name": "stdout",
     "output_type": "stream",
     "text": [
      "Model: \"siamese_model\"\n",
      "_________________________________________________________________\n",
      "Layer (type)                 Output Shape              Param #   \n",
      "=================================================================\n",
      "model_1 (Functional)         (None,)                   655372    \n",
      "=================================================================\n",
      "Total params: 655,374\n",
      "Trainable params: 653,844\n",
      "Non-trainable params: 1,530\n",
      "_________________________________________________________________\n"
     ]
    }
   ],
   "source": [
    "siamese_model.summary()"
   ]
  },
  {
   "cell_type": "code",
   "execution_count": 8,
   "id": "22d407af-d723-4100-a5d1-2f49fd322179",
   "metadata": {},
   "outputs": [
    {
     "name": "stdout",
     "output_type": "stream",
     "text": [
      "Model: \"model_1\"\n",
      "__________________________________________________________________________________________________\n",
      "Layer (type)                    Output Shape         Param #     Connected to                     \n",
      "==================================================================================================\n",
      "first_input (InputLayer)        [(None, 7800)]       0                                            \n",
      "__________________________________________________________________________________________________\n",
      "second_input (InputLayer)       [(None, 7800)]       0                                            \n",
      "__________________________________________________________________________________________________\n",
      "model (Functional)              (None, 128)          655372      first_input[0][0]                \n",
      "                                                                 second_input[0][0]               \n",
      "__________________________________________________________________________________________________\n",
      "distance_layer (DistanceLayer)  (None,)              0           model[0][0]                      \n",
      "                                                                 model[1][0]                      \n",
      "==================================================================================================\n",
      "Total params: 655,372\n",
      "Trainable params: 653,844\n",
      "Non-trainable params: 1,528\n",
      "__________________________________________________________________________________________________\n"
     ]
    }
   ],
   "source": [
    "siamese_model.siamese_network.summary()"
   ]
  },
  {
   "cell_type": "code",
   "execution_count": 9,
   "id": "c3cccd20-38fb-4a62-8600-492892b8fcef",
   "metadata": {},
   "outputs": [
    {
     "name": "stderr",
     "output_type": "stream",
     "text": [
      "2022-01-04 09:19:47.075236: I tensorflow/compiler/mlir/mlir_graph_optimization_pass.cc:185] None of the MLIR Optimization Passes are enabled (registered 2)\n",
      "2022-01-04 09:19:47.948824: I tensorflow/stream_executor/cuda/cuda_dnn.cc:369] Loaded cuDNN version 8101\n"
     ]
    },
    {
     "name": "stdout",
     "output_type": "stream",
     "text": [
      "316442/316442 [==============================] - 7063s 22ms/step\n"
     ]
    }
   ],
   "source": [
    "Z = siamese_model.predict(train_gen, verbose=1)"
   ]
  },
  {
   "cell_type": "code",
   "execution_count": 10,
   "id": "c4ac2708-5904-4605-9ce3-bb7a28c3300d",
   "metadata": {},
   "outputs": [
    {
     "name": "stdout",
     "output_type": "stream",
     "text": [
      "saving to uri: s3://tau-astro/almogh/workdir3/model_saves/NN/simple___2021_12_13___11_16_51___Kernels_31_Filters_64_32_16_8_4_Hiddens_512_128_tanh_SNR_6dB_40dB/Z.npy\n"
     ]
    },
    {
     "data": {
      "text/plain": [
       "True"
      ]
     },
     "execution_count": 10,
     "metadata": {},
     "output_type": "execute_result"
    }
   ],
   "source": [
    "from s3 import to_s3_npy\n",
    "#to_s3_npy(Z, s3_client, bucket_name, 'almogh/workdir3/model_saves/NN/simple___2021_12_06___21_36_21___Kernels_31_Filters_64_32_16_8_4_Hiddens_512_128_tanh/Z.npy')\n",
    "to_s3_npy(Z, s3_client, bucket_name, 'almogh/workdir3/model_saves/NN/simple___2021_12_13___11_16_51___Kernels_31_Filters_64_32_16_8_4_Hiddens_512_128_tanh_SNR_6dB_40dB/Z.npy')"
   ]
  }
 ],
 "metadata": {
  "kernelspec": {
   "display_name": "Python 3 (ipykernel)",
   "language": "python",
   "name": "python3"
  },
  "language_info": {
   "codemirror_mode": {
    "name": "ipython",
    "version": 3
   },
   "file_extension": ".py",
   "mimetype": "text/x-python",
   "name": "python",
   "nbconvert_exporter": "python",
   "pygments_lexer": "ipython3",
   "version": "3.9.7"
  }
 },
 "nbformat": 4,
 "nbformat_minor": 5
}
