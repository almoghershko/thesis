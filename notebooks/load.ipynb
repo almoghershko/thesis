{
 "cells": [
  {
   "cell_type": "markdown",
   "id": "007014af-c415-495d-b5d6-cc404e644ce2",
   "metadata": {},
   "source": [
    "# Initialization"
   ]
  },
  {
   "cell_type": "code",
   "execution_count": 1,
   "id": "de22dab7-c43c-46f2-acc8-0db4e482294d",
   "metadata": {},
   "outputs": [
    {
     "name": "stdout",
     "output_type": "stream",
     "text": [
      "Collecting package metadata (current_repodata.json): done\n",
      "Solving environment: done\n",
      "\n",
      "\n",
      "==> WARNING: A newer version of conda exists. <==\n",
      "  current version: 4.10.3\n",
      "  latest version: 4.11.0\n",
      "\n",
      "Please update conda by running\n",
      "\n",
      "    $ conda update -n base conda\n",
      "\n",
      "\n",
      "\n",
      "# All requested packages already installed.\n",
      "\n"
     ]
    }
   ],
   "source": [
    "!conda install -y tensorflow-gpu==2.7.0"
   ]
  },
  {
   "cell_type": "code",
   "execution_count": 2,
   "id": "5d613801-f00d-4de7-84ea-d7437a2b05e6",
   "metadata": {},
   "outputs": [
    {
     "name": "stdout",
     "output_type": "stream",
     "text": [
      "Requirement already satisfied: boto3 in /opt/conda/lib/python3.9/site-packages (from -r ../requirements.txt (line 1)) (1.21.0)\n",
      "Requirement already satisfied: progressbar2 in /opt/conda/lib/python3.9/site-packages (from -r ../requirements.txt (line 2)) (4.0.0)\n",
      "Requirement already satisfied: sfdmap in /opt/conda/lib/python3.9/site-packages (from -r ../requirements.txt (line 3)) (0.1.1)\n",
      "Requirement already satisfied: GPUtil in /opt/conda/lib/python3.9/site-packages (from -r ../requirements.txt (line 4)) (1.4.0)\n",
      "Requirement already satisfied: bokeh in /opt/conda/lib/python3.9/site-packages (from -r ../requirements.txt (line 5)) (2.4.1)\n",
      "Requirement already satisfied: holoviews in /opt/conda/lib/python3.9/site-packages (from -r ../requirements.txt (line 6)) (1.14.7)\n",
      "Requirement already satisfied: botocore<1.25.0,>=1.24.0 in /opt/conda/lib/python3.9/site-packages (from boto3->-r ../requirements.txt (line 1)) (1.24.0)\n",
      "Requirement already satisfied: jmespath<1.0.0,>=0.7.1 in /opt/conda/lib/python3.9/site-packages (from boto3->-r ../requirements.txt (line 1)) (0.10.0)\n",
      "Requirement already satisfied: s3transfer<0.6.0,>=0.5.0 in /opt/conda/lib/python3.9/site-packages (from boto3->-r ../requirements.txt (line 1)) (0.5.1)\n",
      "Requirement already satisfied: python-utils>=3.0.0 in /opt/conda/lib/python3.9/site-packages (from progressbar2->-r ../requirements.txt (line 2)) (3.1.0)\n",
      "Requirement already satisfied: numpy in /opt/conda/lib/python3.9/site-packages (from sfdmap->-r ../requirements.txt (line 3)) (1.19.5)\n",
      "Requirement already satisfied: PyYAML>=3.10 in /opt/conda/lib/python3.9/site-packages (from bokeh->-r ../requirements.txt (line 5)) (6.0)\n",
      "Requirement already satisfied: packaging>=16.8 in /opt/conda/lib/python3.9/site-packages (from bokeh->-r ../requirements.txt (line 5)) (21.0)\n",
      "Requirement already satisfied: tornado>=5.1 in /opt/conda/lib/python3.9/site-packages (from bokeh->-r ../requirements.txt (line 5)) (6.1)\n",
      "Requirement already satisfied: pillow>=7.1.0 in /opt/conda/lib/python3.9/site-packages (from bokeh->-r ../requirements.txt (line 5)) (8.3.2)\n",
      "Requirement already satisfied: Jinja2>=2.9 in /opt/conda/lib/python3.9/site-packages (from bokeh->-r ../requirements.txt (line 5)) (3.0.2)\n",
      "Requirement already satisfied: typing-extensions>=3.10.0 in /opt/conda/lib/python3.9/site-packages (from bokeh->-r ../requirements.txt (line 5)) (4.1.1)\n",
      "Requirement already satisfied: colorcet in /opt/conda/lib/python3.9/site-packages (from holoviews->-r ../requirements.txt (line 6)) (3.0.0)\n",
      "Requirement already satisfied: param<2.0,>=1.9.3 in /opt/conda/lib/python3.9/site-packages (from holoviews->-r ../requirements.txt (line 6)) (1.12.0)\n",
      "Requirement already satisfied: panel>=0.8.0 in /opt/conda/lib/python3.9/site-packages (from holoviews->-r ../requirements.txt (line 6)) (0.12.6)\n",
      "Requirement already satisfied: pandas>=0.20.0 in /opt/conda/lib/python3.9/site-packages (from holoviews->-r ../requirements.txt (line 6)) (1.3.4)\n",
      "Requirement already satisfied: pyviz-comms>=0.7.4 in /opt/conda/lib/python3.9/site-packages (from holoviews->-r ../requirements.txt (line 6)) (2.1.0)\n",
      "Requirement already satisfied: urllib3<1.27,>=1.25.4 in /opt/conda/lib/python3.9/site-packages (from botocore<1.25.0,>=1.24.0->boto3->-r ../requirements.txt (line 1)) (1.26.7)\n",
      "Requirement already satisfied: python-dateutil<3.0.0,>=2.1 in /opt/conda/lib/python3.9/site-packages (from botocore<1.25.0,>=1.24.0->boto3->-r ../requirements.txt (line 1)) (2.8.2)\n",
      "Requirement already satisfied: MarkupSafe>=2.0 in /opt/conda/lib/python3.9/site-packages (from Jinja2>=2.9->bokeh->-r ../requirements.txt (line 5)) (2.0.1)\n",
      "Requirement already satisfied: pyparsing>=2.0.2 in /opt/conda/lib/python3.9/site-packages (from packaging>=16.8->bokeh->-r ../requirements.txt (line 5)) (2.4.7)\n",
      "Requirement already satisfied: pytz>=2017.3 in /opt/conda/lib/python3.9/site-packages (from pandas>=0.20.0->holoviews->-r ../requirements.txt (line 6)) (2021.3)\n",
      "Requirement already satisfied: requests in /opt/conda/lib/python3.9/site-packages (from panel>=0.8.0->holoviews->-r ../requirements.txt (line 6)) (2.26.0)\n",
      "Requirement already satisfied: bleach in /opt/conda/lib/python3.9/site-packages (from panel>=0.8.0->holoviews->-r ../requirements.txt (line 6)) (4.1.0)\n",
      "Requirement already satisfied: pyct>=0.4.4 in /opt/conda/lib/python3.9/site-packages (from panel>=0.8.0->holoviews->-r ../requirements.txt (line 6)) (0.4.8)\n",
      "Requirement already satisfied: tqdm>=4.48.0 in /opt/conda/lib/python3.9/site-packages (from panel>=0.8.0->holoviews->-r ../requirements.txt (line 6)) (4.62.3)\n",
      "Requirement already satisfied: markdown in /opt/conda/lib/python3.9/site-packages (from panel>=0.8.0->holoviews->-r ../requirements.txt (line 6)) (3.3.6)\n",
      "Requirement already satisfied: six>=1.5 in /opt/conda/lib/python3.9/site-packages (from python-dateutil<3.0.0,>=2.1->botocore<1.25.0,>=1.24.0->boto3->-r ../requirements.txt (line 1)) (1.15.0)\n",
      "Requirement already satisfied: webencodings in /opt/conda/lib/python3.9/site-packages (from bleach->panel>=0.8.0->holoviews->-r ../requirements.txt (line 6)) (0.5.1)\n",
      "Requirement already satisfied: importlib-metadata>=4.4 in /opt/conda/lib/python3.9/site-packages (from markdown->panel>=0.8.0->holoviews->-r ../requirements.txt (line 6)) (4.8.1)\n",
      "Requirement already satisfied: certifi>=2017.4.17 in /opt/conda/lib/python3.9/site-packages (from requests->panel>=0.8.0->holoviews->-r ../requirements.txt (line 6)) (2021.10.8)\n",
      "Requirement already satisfied: idna<4,>=2.5 in /opt/conda/lib/python3.9/site-packages (from requests->panel>=0.8.0->holoviews->-r ../requirements.txt (line 6)) (3.1)\n",
      "Requirement already satisfied: charset-normalizer~=2.0.0 in /opt/conda/lib/python3.9/site-packages (from requests->panel>=0.8.0->holoviews->-r ../requirements.txt (line 6)) (2.0.0)\n",
      "Requirement already satisfied: zipp>=0.5 in /opt/conda/lib/python3.9/site-packages (from importlib-metadata>=4.4->markdown->panel>=0.8.0->holoviews->-r ../requirements.txt (line 6)) (3.6.0)\n"
     ]
    }
   ],
   "source": [
    "!pip install -r ../requirements.txt"
   ]
  },
  {
   "cell_type": "code",
   "execution_count": 3,
   "id": "7cbf718f-b3cb-4ec7-bccb-3807b4b8b761",
   "metadata": {},
   "outputs": [
    {
     "name": "stdout",
     "output_type": "stream",
     "text": [
      "GPUs:\n",
      "(1)\tNVIDIA GeForce RTX 2080 Ti\n"
     ]
    }
   ],
   "source": [
    "import GPUtil\n",
    "print('GPUs:\\n{0}'.format('\\n'.join(['('+str(i+1)+')\\t'+gpu.name for i,gpu in enumerate(GPUtil.getGPUs())])))"
   ]
  },
  {
   "cell_type": "code",
   "execution_count": 4,
   "id": "faa498ab-be1b-4dbb-9b2d-c02ada7f4e1c",
   "metadata": {},
   "outputs": [],
   "source": [
    "# imports\n",
    "import pandas as pd\n",
    "import numpy as np\n",
    "import os\n",
    "import sys\n",
    "import pickle\n",
    "from matplotlib import pyplot as plt\n",
    "import matplotlib\n",
    "import boto3\n",
    "\n",
    "# random seed\n",
    "seed = 42\n",
    "np.random.seed(seed)\n",
    "\n",
    "# local files paths\n",
    "local_home_dir_path = os.path.expanduser(\"~\")\n",
    "local_work_dir_path = os.path.join(local_home_dir_path, 'git')\n",
    "local_code_dir_path = os.path.join(local_work_dir_path , 'code')\n",
    "\n",
    "# S3 file paths\n",
    "endpoint_url = 'https://s3.nautilus.optiputer.net'\n",
    "bucket_name = 'tau-astro'\n",
    "prefix = 'almogh'\n",
    "s3_work_dir_path = os.path.join(prefix, 'workdir3')\n",
    "s3_saves_dir_path = os.path.join(s3_work_dir_path , 'model_saves')\n",
    "s3_data_dir_path = os.path.join(s3_work_dir_path , 'data')\n",
    "s3_data_ver_dir_path = os.path.join(s3_data_dir_path,'HighSNR_12K_V1')\n",
    "\n",
    "s3_client = boto3.client(\"s3\", endpoint_url=endpoint_url)\n",
    "\n",
    "# adding code folder to path\n",
    "sys.path.insert(1, local_code_dir_path)\n",
    "from s3 import to_s3_npy, to_s3_pkl, from_s3_npy, from_s3_pkl, to_s3_fig"
   ]
  },
  {
   "cell_type": "markdown",
   "id": "15feacd5-84f0-452f-8add-036c32f42764",
   "metadata": {},
   "source": [
    "# Load the Data"
   ]
  },
  {
   "cell_type": "code",
   "execution_count": 5,
   "id": "3964b7b7-33a0-4215-b9fc-020cfff8703d",
   "metadata": {},
   "outputs": [
    {
     "name": "stdout",
     "output_type": "stream",
     "text": [
      "loading from folder (S3): almogh/workdir3/model_saves/RF/simple___2021_11_27___22_09_00___standard_RF_max_depth_10\n",
      "loading from uri: s3://tau-astro/almogh/workdir3/model_saves/RF/simple___2021_11_27___22_09_00___standard_RF_max_depth_10/X.npy\n",
      "loading from uri: s3://tau-astro/almogh/workdir3/model_saves/RF/simple___2021_11_27___22_09_00___standard_RF_max_depth_10/sim_mat.npy\n"
     ]
    }
   ],
   "source": [
    "load_RF_name = 'simple___2021_11_27___22_09_00___standard_RF_max_depth_10'\n",
    "s3_load_dir_path = os.path.join(s3_saves_dir_path, 'RF', load_RF_name)\n",
    "print('loading from folder (S3): {0}'.format(s3_load_dir_path))\n",
    "X = from_s3_npy(s3_client, bucket_name, os.path.join(s3_load_dir_path, 'X.npy'))\n",
    "sim_mat = from_s3_npy(s3_client, bucket_name, os.path.join(s3_load_dir_path, 'sim_mat.npy'))\n",
    "dis_mat = 1 - sim_mat"
   ]
  },
  {
   "cell_type": "code",
   "execution_count": 6,
   "id": "cff816f9-9bf4-4c35-83e0-c3dc4ea636bb",
   "metadata": {},
   "outputs": [],
   "source": [
    "from sklearn.model_selection import train_test_split\n",
    "X_train, X_val, I_train, I_test = train_test_split(X, np.arange(X.shape[0]), train_size=9000, random_state=seed)\n",
    "\n",
    "batch_size = 128\n",
    "\n",
    "from NN import DistillationDataGenerator\n",
    "train_gen = DistillationDataGenerator(X_train, dis_mat[I_train,:][:,I_train], shuffle=False, seed=seed, batch_size=batch_size, full_epoch=True)\n",
    "val_gen = DistillationDataGenerator(X_val, dis_mat[I_test,:][:,I_test], shuffle=False, seed=seed, batch_size=batch_size, full_epoch=True)"
   ]
  },
  {
   "cell_type": "code",
   "execution_count": 7,
   "id": "23f235fd-d524-42a6-b7aa-e54e65bde42e",
   "metadata": {},
   "outputs": [
    {
     "name": "stderr",
     "output_type": "stream",
     "text": [
      "2022-02-16 13:20:37.581189: I tensorflow/core/platform/cpu_feature_guard.cc:151] This TensorFlow binary is optimized with oneAPI Deep Neural Network Library (oneDNN) to use the following CPU instructions in performance-critical operations:  SSE4.1 SSE4.2 AVX AVX2 FMA\n",
      "To enable them in other operations, rebuild TensorFlow with the appropriate compiler flags.\n",
      "2022-02-16 13:20:38.302635: I tensorflow/core/common_runtime/gpu/gpu_device.cc:1525] Created device /job:localhost/replica:0/task:0/device:GPU:0 with 9620 MB memory:  -> device: 0, name: NVIDIA GeForce RTX 2080 Ti, pci bus id: 0000:05:00.0, compute capability: 7.5\n"
     ]
    }
   ],
   "source": [
    "from s3 import s3_load_TF_model\n",
    "from NN import DistanceLayer\n",
    "siamese_model = s3_load_TF_model(s3_client,\n",
    "                                 bucket_name=bucket_name,\n",
    "                                 #path_in_bucket='almogh/workdir3/model_saves/NN/simple___2021_12_06___21_36_21___Kernels_31_Filters_64_32_16_8_4_Hiddens_512_128_tanh/model',\n",
    "                                 #path_in_bucket='almogh/workdir3/model_saves/NN/simple___2021_12_13___11_16_51___Kernels_31_Filters_64_32_16_8_4_Hiddens_512_128_tanh_SNR_6dB_40dB/model',\n",
    "                                 #path_in_bucket='almogh/workdir3/model_saves/NN/LongTrain___2022_01_18___12_39_15___Kernels_31_Filters_64_32_16_8_4_Hiddens_512_128_tanh/model',\n",
    "                                 path_in_bucket='almogh/workdir3/model_saves/NN/LongTrainDenoise___2022_01_18___12_39_30___Kernels_31_Filters_64_32_16_8_4_Hiddens_512_128_tanh/model',\n",
    "                                 model_name='model',\n",
    "                                 custom_objects={'DistanceLayer': DistanceLayer})"
   ]
  },
  {
   "cell_type": "code",
   "execution_count": 8,
   "id": "56f96ade-e736-4f29-aaa0-c5cb8c941be5",
   "metadata": {},
   "outputs": [
    {
     "name": "stdout",
     "output_type": "stream",
     "text": [
      "Model: \"siamese_model\"\n",
      "_________________________________________________________________\n",
      " Layer (type)                Output Shape              Param #   \n",
      "=================================================================\n",
      " model_1 (Functional)        (None,)                   655372    \n",
      "                                                                 \n",
      "=================================================================\n",
      "Total params: 655,374\n",
      "Trainable params: 653,844\n",
      "Non-trainable params: 1,530\n",
      "_________________________________________________________________\n"
     ]
    }
   ],
   "source": [
    "siamese_model.summary()"
   ]
  },
  {
   "cell_type": "code",
   "execution_count": 9,
   "id": "22d407af-d723-4100-a5d1-2f49fd322179",
   "metadata": {},
   "outputs": [
    {
     "name": "stdout",
     "output_type": "stream",
     "text": [
      "Model: \"model_1\"\n",
      "__________________________________________________________________________________________________\n",
      " Layer (type)                   Output Shape         Param #     Connected to                     \n",
      "==================================================================================================\n",
      " first_input (InputLayer)       [(None, 7800)]       0           []                               \n",
      "                                                                                                  \n",
      " second_input (InputLayer)      [(None, 7800)]       0           []                               \n",
      "                                                                                                  \n",
      " model (Functional)             (None, 128)          655372      ['first_input[0][0]',            \n",
      "                                                                  'second_input[0][0]']           \n",
      "                                                                                                  \n",
      " distance_layer (DistanceLayer)  (None,)             0           ['model[0][0]',                  \n",
      "                                                                  'model[1][0]']                  \n",
      "                                                                                                  \n",
      "==================================================================================================\n",
      "Total params: 655,372\n",
      "Trainable params: 653,844\n",
      "Non-trainable params: 1,528\n",
      "__________________________________________________________________________________________________\n"
     ]
    }
   ],
   "source": [
    "siamese_model.siamese_network.summary()"
   ]
  },
  {
   "cell_type": "code",
   "execution_count": 10,
   "id": "c3cccd20-38fb-4a62-8600-492892b8fcef",
   "metadata": {},
   "outputs": [
    {
     "name": "stderr",
     "output_type": "stream",
     "text": [
      "2022-02-16 13:20:41.785222: I tensorflow/stream_executor/cuda/cuda_dnn.cc:366] Loaded cuDNN version 8201\n"
     ]
    },
    {
     "name": "stdout",
     "output_type": "stream",
     "text": [
      "316442/316442 [==============================] - 9625s 30ms/step\n"
     ]
    }
   ],
   "source": [
    "Z = siamese_model.predict(train_gen, verbose=1)"
   ]
  },
  {
   "cell_type": "code",
   "execution_count": 11,
   "id": "c4ac2708-5904-4605-9ce3-bb7a28c3300d",
   "metadata": {},
   "outputs": [
    {
     "name": "stdout",
     "output_type": "stream",
     "text": [
      "saving to uri: s3://tau-astro/almogh/workdir3/model_saves/NN/LongTrainDenoise___2022_01_18___12_39_30___Kernels_31_Filters_64_32_16_8_4_Hiddens_512_128_tanh/Z.npy\n"
     ]
    },
    {
     "data": {
      "text/plain": [
       "True"
      ]
     },
     "execution_count": 11,
     "metadata": {},
     "output_type": "execute_result"
    }
   ],
   "source": [
    "from s3 import to_s3_npy\n",
    "#to_s3_npy(Z, s3_client, bucket_name, 'almogh/workdir3/model_saves/NN/simple___2021_12_06___21_36_21___Kernels_31_Filters_64_32_16_8_4_Hiddens_512_128_tanh/Z.npy')\n",
    "#to_s3_npy(Z, s3_client, bucket_name, 'almogh/workdir3/model_saves/NN/simple___2021_12_13___11_16_51___Kernels_31_Filters_64_32_16_8_4_Hiddens_512_128_tanh_SNR_6dB_40dB/Z.npy')\n",
    "#to_s3_npy(Z, s3_client, bucket_name, 'almogh/workdir3/model_saves/NN/LongTrain___2022_01_18___12_39_15___Kernels_31_Filters_64_32_16_8_4_Hiddens_512_128_tanh/Z.npy')\n",
    "to_s3_npy(Z, s3_client, bucket_name, 'almogh/workdir3/model_saves/NN/LongTrainDenoise___2022_01_18___12_39_30___Kernels_31_Filters_64_32_16_8_4_Hiddens_512_128_tanh/Z.npy')"
   ]
  }
 ],
 "metadata": {
  "kernelspec": {
   "display_name": "Python 3 (ipykernel)",
   "language": "python",
   "name": "python3"
  },
  "language_info": {
   "codemirror_mode": {
    "name": "ipython",
    "version": 3
   },
   "file_extension": ".py",
   "mimetype": "text/x-python",
   "name": "python",
   "nbconvert_exporter": "python",
   "pygments_lexer": "ipython3",
   "version": "3.9.7"
  }
 },
 "nbformat": 4,
 "nbformat_minor": 5
}
