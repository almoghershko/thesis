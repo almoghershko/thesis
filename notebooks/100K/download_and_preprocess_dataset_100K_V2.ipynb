{
 "cells": [
  {
   "cell_type": "code",
   "execution_count": 1,
   "metadata": {},
   "outputs": [
    {
     "name": "stdout",
     "output_type": "stream",
     "text": [
      "Collecting boto3\n",
      "  Using cached boto3-1.21.46-py3-none-any.whl (132 kB)\n",
      "Collecting jmespath<2.0.0,>=0.7.1\n",
      "  Using cached jmespath-1.0.0-py3-none-any.whl (23 kB)\n",
      "Collecting botocore<1.25.0,>=1.24.46\n",
      "  Using cached botocore-1.24.46-py3-none-any.whl (8.7 MB)\n",
      "Collecting s3transfer<0.6.0,>=0.5.0\n",
      "  Using cached s3transfer-0.5.2-py3-none-any.whl (79 kB)\n",
      "Requirement already satisfied: python-dateutil<3.0.0,>=2.1 in /opt/conda/lib/python3.9/site-packages (from botocore<1.25.0,>=1.24.46->boto3) (2.8.2)\n",
      "Requirement already satisfied: urllib3<1.27,>=1.25.4 in /opt/conda/lib/python3.9/site-packages (from botocore<1.25.0,>=1.24.46->boto3) (1.26.8)\n",
      "Requirement already satisfied: six>=1.5 in /opt/conda/lib/python3.9/site-packages (from python-dateutil<3.0.0,>=2.1->botocore<1.25.0,>=1.24.46->boto3) (1.16.0)\n",
      "Installing collected packages: jmespath, botocore, s3transfer, boto3\n",
      "Successfully installed boto3-1.21.46 botocore-1.24.46 jmespath-1.0.0 s3transfer-0.5.2\n"
     ]
    }
   ],
   "source": [
    "!pip install boto3"
   ]
  },
  {
   "cell_type": "code",
   "execution_count": 2,
   "metadata": {},
   "outputs": [
    {
     "name": "stdout",
     "output_type": "stream",
     "text": [
      "Collecting astropy\n",
      "  Using cached astropy-5.0.4-cp39-cp39-manylinux_2_12_x86_64.manylinux2010_x86_64.whl (11.1 MB)\n",
      "Collecting pyerfa>=2.0\n",
      "  Using cached pyerfa-2.0.0.1-cp39-cp39-manylinux_2_5_x86_64.manylinux1_x86_64.manylinux_2_12_x86_64.manylinux2010_x86_64.whl (742 kB)\n",
      "Requirement already satisfied: packaging>=19.0 in /opt/conda/lib/python3.9/site-packages (from astropy) (21.3)\n",
      "Requirement already satisfied: numpy>=1.18 in /opt/conda/lib/python3.9/site-packages (from astropy) (1.21.5)\n",
      "Requirement already satisfied: PyYAML>=3.13 in /opt/conda/lib/python3.9/site-packages (from astropy) (6.0)\n",
      "Requirement already satisfied: pyparsing!=3.0.5,>=2.0.2 in /opt/conda/lib/python3.9/site-packages (from packaging>=19.0->astropy) (3.0.7)\n",
      "Installing collected packages: pyerfa, astropy\n",
      "Successfully installed astropy-5.0.4 pyerfa-2.0.0.1\n"
     ]
    }
   ],
   "source": [
    "!pip install astropy"
   ]
  },
  {
   "cell_type": "code",
   "execution_count": 3,
   "metadata": {},
   "outputs": [
    {
     "name": "stdout",
     "output_type": "stream",
     "text": [
      "Collecting sfdmap\n",
      "  Using cached sfdmap-0.1.1-py3-none-any.whl\n",
      "Requirement already satisfied: numpy in /opt/conda/lib/python3.9/site-packages (from sfdmap) (1.21.5)\n",
      "Installing collected packages: sfdmap\n",
      "Successfully installed sfdmap-0.1.1\n"
     ]
    }
   ],
   "source": [
    "!pip install sfdmap"
   ]
  },
  {
   "cell_type": "code",
   "execution_count": 4,
   "metadata": {},
   "outputs": [],
   "source": [
    "# imports\n",
    "import pandas as pd\n",
    "import numpy as np\n",
    "import os\n",
    "import sys\n",
    "import pickle\n",
    "import boto3\n",
    "\n",
    "# random seed\n",
    "seed = 42\n",
    "np.random.seed(seed)\n",
    "\n",
    "# local files paths\n",
    "local_home_dir_path = os.path.expanduser(\"~\")\n",
    "local_work_dir_path = os.path.join(local_home_dir_path, 'git')\n",
    "local_code_dir_path = os.path.join(local_work_dir_path , 'code')\n",
    "\n",
    "# S3 file paths\n",
    "endpoint_url = 'https://s3-west.nrp-nautilus.io'\n",
    "bucket_name = 'tau-astro'\n",
    "prefix = 'almogh'\n",
    "s3_work_dir_path = os.path.join(prefix, 'workdir3')\n",
    "s3_saves_dir_path = os.path.join(s3_work_dir_path , 'model_saves')\n",
    "s3_data_dir_path = os.path.join(s3_work_dir_path , 'data')\n",
    "s3_final_table_csv_path = os.path.join(s3_data_dir_path, 'SDSS_DR16_all.csv')\n",
    "s3_data_ver_dir_path = os.path.join(s3_data_dir_path,'100K_V2')\n",
    "\n",
    "s3_client = boto3.client(\"s3\", endpoint_url=endpoint_url)\n",
    "\n",
    "# adding code folder to path\n",
    "sys.path.insert(1, local_code_dir_path)\n",
    "from s3 import to_s3_npy, to_s3_pkl, from_s3_npy, from_s3_pkl, to_s3_fig"
   ]
  },
  {
   "cell_type": "code",
   "execution_count": 5,
   "metadata": {},
   "outputs": [
    {
     "name": "stdout",
     "output_type": "stream",
     "text": [
      "Total galaxies in DR16: 3234563\n"
     ]
    }
   ],
   "source": [
    "# loading the table\n",
    "final_table_csv_path = os.path.join(endpoint_url,bucket_name,s3_final_table_csv_path)\n",
    "gs = pd.read_csv(final_table_csv_path, header = 0, dtype = {\n",
    "    'specobjid' : str,\n",
    "    'z' : float,\n",
    "    'z_noqso' : float,\n",
    "    'snMedian' : float,\n",
    "    'run2d' : str,\n",
    "    'ra' : float,\n",
    "    'dec' : float,\n",
    "    'plate' : int,\n",
    "    'mjd' : int,\n",
    "    'fiberid' : int,\n",
    "    'waveMin' : float,\n",
    "    'waveMax' : float\n",
    "    })\n",
    "print('Total galaxies in DR16: %d' % len(gs))"
   ]
  },
  {
   "cell_type": "code",
   "execution_count": 6,
   "metadata": {},
   "outputs": [],
   "source": [
    "cnt = len(gs)\n",
    "total_filtered = 0"
   ]
  },
  {
   "cell_type": "code",
   "execution_count": 7,
   "metadata": {},
   "outputs": [],
   "source": [
    "# parameters\n",
    "snr_th = 0.6\n",
    "z_th = 0.03"
   ]
  },
  {
   "cell_type": "code",
   "execution_count": 8,
   "metadata": {},
   "outputs": [
    {
     "name": "stdout",
     "output_type": "stream",
     "text": [
      "Total galaxies filtered with low z values: 94412\n"
     ]
    }
   ],
   "source": [
    "# Remove galaxies with low redshift\n",
    "gs = gs[gs.z > z_th]\n",
    "gs.index = np.arange(len(gs))\n",
    "filtered = cnt-len(gs)\n",
    "print('Total galaxies filtered with low z values: %d' % filtered)\n",
    "cnt = len(gs)\n",
    "total_filtered += filtered"
   ]
  },
  {
   "cell_type": "code",
   "execution_count": 9,
   "metadata": {},
   "outputs": [
    {
     "name": "stdout",
     "output_type": "stream",
     "text": [
      "Total galaxies filtered with low snr values: 172465\n"
     ]
    }
   ],
   "source": [
    "# Remove galaxies with low SNR\n",
    "gs = gs[gs.snMedian > snr_th]\n",
    "gs.index = np.arange(len(gs))\n",
    "filtered = cnt-len(gs)\n",
    "print('Total galaxies filtered with low snr values: %d' % filtered)\n",
    "cnt = len(gs)\n",
    "total_filtered += filtered"
   ]
  },
  {
   "cell_type": "code",
   "execution_count": 10,
   "metadata": {},
   "outputs": [
    {
     "name": "stdout",
     "output_type": "stream",
     "text": [
      "loading from uri: s3://tau-astro/almogh/workdir3/data/wl_grid.npy\n"
     ]
    }
   ],
   "source": [
    "wl_grid = from_s3_npy(s3_client, bucket_name, os.path.join(s3_data_dir_path,'wl_grid.npy'))"
   ]
  },
  {
   "cell_type": "code",
   "execution_count": 11,
   "metadata": {},
   "outputs": [
    {
     "name": "stdout",
     "output_type": "stream",
     "text": [
      "Total galaxies filtered after merging with Dalya's scores: 969726\n"
     ]
    }
   ],
   "source": [
    "# adding Dalya's scores\n",
    "dalya_scores_URL = 'http://wise-obs.tau.ac.il/~dovip/weird-galaxies/full.csv'\n",
    "dalya_df = pd.read_csv(dalya_scores_URL)\n",
    "dalya_df = dalya_df.rename(columns={\" mjd\":\"mjd\",\" fiber\":\"fiberid\", \" weirdness\":\"weirdness\"})\n",
    "gs = gs.merge(dalya_df, how='inner', on=['plate', 'mjd', 'fiberid'])\n",
    "gs.index = np.arange(len(gs))\n",
    "filtered = cnt-len(gs)\n",
    "print(\"Total galaxies filtered after merging with Dalya's scores: %d\" % filtered)\n",
    "cnt = len(gs)\n",
    "total_filtered += filtered"
   ]
  },
  {
   "cell_type": "code",
   "execution_count": 12,
   "metadata": {},
   "outputs": [],
   "source": [
    "galSpecInfo = pd.read_csv(os.path.join(endpoint_url, bucket_name, s3_data_dir_path, 'galSpecInfo.csv'), header = 0, dtype = {\n",
    "    'specobjid' : str,\n",
    "    'plateid' : int,\n",
    "    'mjd' : int,\n",
    "    'fiberid' : int,\n",
    "    'spectrotype' : str,\n",
    "    'subclass' : str\n",
    "    })"
   ]
  },
  {
   "cell_type": "code",
   "execution_count": 13,
   "metadata": {},
   "outputs": [
    {
     "name": "stdout",
     "output_type": "stream",
     "text": [
      "Total galaxies filtered after merging with galSpecInfo: 1267075\n"
     ]
    }
   ],
   "source": [
    "galSpecInfo = galSpecInfo.rename(columns={\"plateid\":\"plate\"})\n",
    "gs = gs.merge(galSpecInfo, how='inner', on=['specobjid', 'plate', 'mjd', 'fiberid'])\n",
    "gs.index = np.arange(len(gs))\n",
    "filtered = cnt-len(gs)\n",
    "print(\"Total galaxies filtered after merging with galSpecInfo: %d\" % filtered)\n",
    "cnt = len(gs)\n",
    "total_filtered += filtered"
   ]
  },
  {
   "cell_type": "code",
   "execution_count": 14,
   "metadata": {},
   "outputs": [],
   "source": [
    "galSpecLine = pd.read_csv(os.path.join(endpoint_url, bucket_name, s3_data_dir_path, 'galSpecLine.csv'), header = 0, dtype = {\n",
    "    'specobjid' : str,\n",
    "    'oii_3726_eqw' : float,\n",
    "    'oii_3729_eqw' : float,\n",
    "    'neiii_3869_eqw' : float,\n",
    "    'h_delta_eqw' : float,\n",
    "    'h_gamma_eqw' : float,\n",
    "    'oiii_4363_eqw' : float,\n",
    "    'h_beta_eqw' : float,\n",
    "    'oiii_4959_eqw' : float,\n",
    "    'oiii_5007_eqw' : float,\n",
    "    'hei_5876_eqw' : float,\n",
    "    'oi_6300_eqw' : float,\n",
    "    'nii_6548_eqw' : float,\n",
    "    'h_alpha_eqw' : float,\n",
    "    'nii_6584_eqw' : float,\n",
    "    'sii_6717_eqw' : float,\n",
    "    'sii_6731_eqw' : float,\n",
    "    'ariii7135_eqw' : float\n",
    "    })"
   ]
  },
  {
   "cell_type": "code",
   "execution_count": 15,
   "metadata": {},
   "outputs": [
    {
     "name": "stdout",
     "output_type": "stream",
     "text": [
      "Total galaxies filtered after merging with galSpecLine: 0\n"
     ]
    }
   ],
   "source": [
    "gs = gs.merge(galSpecLine, how='inner', on=['specobjid'])\n",
    "gs.index = np.arange(len(gs))\n",
    "filtered = cnt-len(gs)\n",
    "print(\"Total galaxies filtered after merging with galSpecLine: %d\" % filtered)\n",
    "cnt = len(gs)\n",
    "total_filtered += filtered"
   ]
  },
  {
   "cell_type": "code",
   "execution_count": 16,
   "metadata": {},
   "outputs": [
    {
     "data": {
      "text/plain": [
       "Text(0.5, 0, 'SNR')"
      ]
     },
     "execution_count": 16,
     "metadata": {},
     "output_type": "execute_result"
    },
    {
     "data": {
      "image/png": "[encoded data removed]",
      "text/plain": [
       "<Figure size 576x432 with 1 Axes>"
      ]
     },
     "metadata": {
      "needs_background": "light"
     },
     "output_type": "display_data"
    }
   ],
   "source": [
    "# ploto SNR histogram\n",
    "\n",
    "hist, bin_edges = np.histogram(gs.snMedian, bins=50)\n",
    "bin_centers = (bin_edges[1:]+bin_edges[:-1])/2\n",
    "pdf = hist/hist.sum()\n",
    "cdf = np.cumsum(pdf)\n",
    "\n",
    "from matplotlib.widgets import Cursor\n",
    "import numpy as np\n",
    "import matplotlib.pyplot as plt\n",
    "fig, ax = plt.subplots(figsize=(8, 6))\n",
    "ax.plot(bin_centers, 1-cdf)\n",
    "ax.set_ylabel('1-CDF')\n",
    "ax.set_xlabel('SNR')"
   ]
  },
  {
   "cell_type": "code",
   "execution_count": 17,
   "metadata": {},
   "outputs": [
    {
     "name": "stdout",
     "output_type": "stream",
     "text": [
      "Total number of galaxies left: 730885\n"
     ]
    }
   ],
   "source": [
    "print('Total number of galaxies left: %d' % len(gs))"
   ]
  },
  {
   "cell_type": "code",
   "execution_count": 18,
   "metadata": {},
   "outputs": [
    {
     "name": "stdout",
     "output_type": "stream",
     "text": [
      "Estimated dataset size: 43.8GB\n"
     ]
    }
   ],
   "source": [
    "print('Estimated dataset size: %.1fGB' % (len(gs)*len(wl_grid)*4/1024/1024/1024))"
   ]
  },
  {
   "cell_type": "code",
   "execution_count": 24,
   "metadata": {},
   "outputs": [
    {
     "name": "stdout",
     "output_type": "stream",
     "text": [
      "saving gs0 for rows 0-91360\n",
      "saving to uri: s3://tau-astro/almogh/workdir3/data/100K_V2/gs0.pkl\n",
      "saving gs1 for rows 91360-182721\n",
      "saving to uri: s3://tau-astro/almogh/workdir3/data/100K_V2/gs1.pkl\n",
      "saving gs2 for rows 182721-274081\n",
      "saving to uri: s3://tau-astro/almogh/workdir3/data/100K_V2/gs2.pkl\n",
      "saving gs3 for rows 274081-365442\n",
      "saving to uri: s3://tau-astro/almogh/workdir3/data/100K_V2/gs3.pkl\n",
      "saving gs4 for rows 365442-456803\n",
      "saving to uri: s3://tau-astro/almogh/workdir3/data/100K_V2/gs4.pkl\n",
      "saving gs5 for rows 456803-548163\n",
      "saving to uri: s3://tau-astro/almogh/workdir3/data/100K_V2/gs5.pkl\n",
      "saving gs6 for rows 548163-639524\n",
      "saving to uri: s3://tau-astro/almogh/workdir3/data/100K_V2/gs6.pkl\n",
      "saving gs7 for rows 639524-730885\n",
      "saving to uri: s3://tau-astro/almogh/workdir3/data/100K_V2/gs7.pkl\n"
     ]
    }
   ],
   "source": [
    "# save the dataframe in parts\n",
    "N = 8\n",
    "splits = np.linspace(0,len(gs),N+1).astype(int)\n",
    "for i in range(N):\n",
    "    print(\"saving gs{0} for rows {1}-{2}\".format(i,splits[i],splits[i+1]))\n",
    "    to_s3_pkl(gs[splits[i]:splits[i+1]], s3_client, bucket_name, os.path.join(s3_data_ver_dir_path,'gs{0}.pkl'.format(i)))"
   ]
  }
 ],
 "metadata": {
  "kernelspec": {
   "display_name": "Python 3 (ipykernel)",
   "language": "python",
   "name": "python3"
  },
  "language_info": {
   "codemirror_mode": {
    "name": "ipython",
    "version": 3
   },
   "file_extension": ".py",
   "mimetype": "text/x-python",
   "name": "python",
   "nbconvert_exporter": "python",
   "pygments_lexer": "ipython3",
   "version": "3.9.7"
  }
 },
 "nbformat": 4,
 "nbformat_minor": 4
}
