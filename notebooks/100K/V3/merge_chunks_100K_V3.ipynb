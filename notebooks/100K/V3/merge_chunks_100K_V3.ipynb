{
 "cells": [
  {
   "cell_type": "code",
   "execution_count": 1,
   "metadata": {},
   "outputs": [
    {
     "name": "stdout",
     "output_type": "stream",
     "text": [
      "Collecting boto3\n",
      "  Using cached boto3-1.22.8-py3-none-any.whl (132 kB)\n",
      "Collecting jmespath<2.0.0,>=0.7.1\n",
      "  Using cached jmespath-1.0.0-py3-none-any.whl (23 kB)\n",
      "Collecting botocore<1.26.0,>=1.25.8\n",
      "  Using cached botocore-1.25.8-py3-none-any.whl (8.7 MB)\n",
      "Collecting s3transfer<0.6.0,>=0.5.0\n",
      "  Using cached s3transfer-0.5.2-py3-none-any.whl (79 kB)\n",
      "Requirement already satisfied: urllib3<1.27,>=1.25.4 in /opt/conda/lib/python3.9/site-packages (from botocore<1.26.0,>=1.25.8->boto3) (1.26.8)\n",
      "Requirement already satisfied: python-dateutil<3.0.0,>=2.1 in /opt/conda/lib/python3.9/site-packages (from botocore<1.26.0,>=1.25.8->boto3) (2.8.2)\n",
      "Requirement already satisfied: six>=1.5 in /opt/conda/lib/python3.9/site-packages (from python-dateutil<3.0.0,>=2.1->botocore<1.26.0,>=1.25.8->boto3) (1.16.0)\n",
      "Installing collected packages: jmespath, botocore, s3transfer, boto3\n",
      "Successfully installed boto3-1.22.8 botocore-1.25.8 jmespath-1.0.0 s3transfer-0.5.2\n"
     ]
    }
   ],
   "source": [
    "!pip install boto3"
   ]
  },
  {
   "cell_type": "code",
   "execution_count": 2,
   "metadata": {},
   "outputs": [
    {
     "name": "stdout",
     "output_type": "stream",
     "text": [
      "Collecting astropy\n",
      "  Using cached astropy-5.0.4-cp39-cp39-manylinux_2_12_x86_64.manylinux2010_x86_64.whl (11.1 MB)\n",
      "Requirement already satisfied: PyYAML>=3.13 in /opt/conda/lib/python3.9/site-packages (from astropy) (6.0)\n",
      "Collecting pyerfa>=2.0\n",
      "  Using cached pyerfa-2.0.0.1-cp39-cp39-manylinux_2_5_x86_64.manylinux1_x86_64.manylinux_2_12_x86_64.manylinux2010_x86_64.whl (742 kB)\n",
      "Requirement already satisfied: packaging>=19.0 in /opt/conda/lib/python3.9/site-packages (from astropy) (21.3)\n",
      "Requirement already satisfied: numpy>=1.18 in /opt/conda/lib/python3.9/site-packages (from astropy) (1.21.5)\n",
      "Requirement already satisfied: pyparsing!=3.0.5,>=2.0.2 in /opt/conda/lib/python3.9/site-packages (from packaging>=19.0->astropy) (3.0.7)\n",
      "Installing collected packages: pyerfa, astropy\n",
      "Successfully installed astropy-5.0.4 pyerfa-2.0.0.1\n"
     ]
    }
   ],
   "source": [
    "!pip install astropy"
   ]
  },
  {
   "cell_type": "code",
   "execution_count": 3,
   "metadata": {},
   "outputs": [
    {
     "name": "stdout",
     "output_type": "stream",
     "text": [
      "Collecting sfdmap\n",
      "  Using cached sfdmap-0.1.1-py3-none-any.whl\n",
      "Requirement already satisfied: numpy in /opt/conda/lib/python3.9/site-packages (from sfdmap) (1.21.5)\n",
      "Installing collected packages: sfdmap\n",
      "Successfully installed sfdmap-0.1.1\n"
     ]
    }
   ],
   "source": [
    "!pip install sfdmap"
   ]
  },
  {
   "cell_type": "code",
   "execution_count": 4,
   "metadata": {},
   "outputs": [],
   "source": [
    "# imports\n",
    "import pandas as pd\n",
    "import numpy as np\n",
    "import os\n",
    "import sys\n",
    "import pickle\n",
    "import boto3\n",
    "\n",
    "# random seed\n",
    "seed = 42\n",
    "np.random.seed(seed)\n",
    "\n",
    "# local files paths\n",
    "local_home_dir_path = os.path.expanduser(\"~\")\n",
    "local_work_dir_path = os.path.join(local_home_dir_path, 'git')\n",
    "local_code_dir_path = os.path.join(local_work_dir_path , 'code')\n",
    "\n",
    "# S3 file paths\n",
    "endpoint_url = 'https://s3-west.nrp-nautilus.io'\n",
    "bucket_name = 'tau-astro'\n",
    "prefix = 'almogh'\n",
    "s3_work_dir_path = os.path.join(prefix, 'workdir3')\n",
    "s3_saves_dir_path = os.path.join(s3_work_dir_path , 'model_saves')\n",
    "s3_data_dir_path = os.path.join(s3_work_dir_path , 'data')\n",
    "s3_final_table_csv_path = os.path.join(s3_data_dir_path, 'SDSS_DR16_all.csv')\n",
    "s3_data_ver_dir_path = os.path.join(s3_data_dir_path,'100K_V2')\n",
    "\n",
    "s3_client = boto3.client(\"s3\", endpoint_url=endpoint_url)\n",
    "\n",
    "# adding code folder to path\n",
    "sys.path.insert(1, local_code_dir_path)\n",
    "from s3 import to_s3_npy, to_s3_pkl, from_s3_npy, from_s3_pkl, to_s3_fig"
   ]
  },
  {
   "cell_type": "code",
   "execution_count": 5,
   "metadata": {},
   "outputs": [
    {
     "name": "stdout",
     "output_type": "stream",
     "text": [
      "loading from uri: s3://tau-astro/almogh/workdir3/data/100K_V2/gs.pkl\n"
     ]
    }
   ],
   "source": [
    "gs = from_s3_pkl(s3_client, bucket_name, os.path.join(s3_data_ver_dir_path,'gs.pkl'))"
   ]
  },
  {
   "cell_type": "code",
   "execution_count": 6,
   "metadata": {},
   "outputs": [
    {
     "name": "stdout",
     "output_type": "stream",
     "text": [
      "loading from uri: s3://tau-astro/almogh/workdir3/data/100K_V2/spec0.npy\n",
      "loading from uri: s3://tau-astro/almogh/workdir3/data/100K_V2/spec1.npy\n",
      "loading from uri: s3://tau-astro/almogh/workdir3/data/100K_V2/spec2.npy\n",
      "loading from uri: s3://tau-astro/almogh/workdir3/data/100K_V2/spec3.npy\n",
      "loading from uri: s3://tau-astro/almogh/workdir3/data/100K_V2/spec4.npy\n",
      "loading from uri: s3://tau-astro/almogh/workdir3/data/100K_V2/spec5.npy\n",
      "loading from uri: s3://tau-astro/almogh/workdir3/data/100K_V2/spec6.npy\n",
      "loading from uri: s3://tau-astro/almogh/workdir3/data/100K_V2/spec7.npy\n"
     ]
    }
   ],
   "source": [
    "specs = [from_s3_npy(s3_client, bucket_name, os.path.join(s3_data_ver_dir_path,'spec{0}.npy'.format(i))) for i in range(8)]"
   ]
  },
  {
   "cell_type": "code",
   "execution_count": 7,
   "metadata": {},
   "outputs": [],
   "source": [
    "L = specs[0].shape[1]"
   ]
  },
  {
   "cell_type": "code",
   "execution_count": 8,
   "metadata": {},
   "outputs": [],
   "source": [
    "N = 0\n",
    "for spec in specs:\n",
    "    N+=spec.shape[0]"
   ]
  },
  {
   "cell_type": "code",
   "execution_count": 9,
   "metadata": {},
   "outputs": [],
   "source": [
    "for i in range(len(specs)):\n",
    "    del specs[0]\n",
    "del specs"
   ]
  },
  {
   "cell_type": "code",
   "execution_count": 10,
   "metadata": {},
   "outputs": [],
   "source": [
    "specs = np.zeros(shape=(N,L), dtype=np.float32)"
   ]
  },
  {
   "cell_type": "code",
   "execution_count": 11,
   "metadata": {},
   "outputs": [
    {
     "name": "stdout",
     "output_type": "stream",
     "text": [
      "loading from uri: s3://tau-astro/almogh/workdir3/data/100K_V2/spec0.npy\n",
      "loading from uri: s3://tau-astro/almogh/workdir3/data/100K_V2/spec1.npy\n",
      "loading from uri: s3://tau-astro/almogh/workdir3/data/100K_V2/spec2.npy\n",
      "loading from uri: s3://tau-astro/almogh/workdir3/data/100K_V2/spec3.npy\n",
      "loading from uri: s3://tau-astro/almogh/workdir3/data/100K_V2/spec4.npy\n",
      "loading from uri: s3://tau-astro/almogh/workdir3/data/100K_V2/spec5.npy\n",
      "loading from uri: s3://tau-astro/almogh/workdir3/data/100K_V2/spec6.npy\n",
      "loading from uri: s3://tau-astro/almogh/workdir3/data/100K_V2/spec7.npy\n"
     ]
    }
   ],
   "source": [
    "idx = 0\n",
    "for i in range(8):\n",
    "    spec = from_s3_npy(s3_client, bucket_name, os.path.join(s3_data_ver_dir_path,'spec{0}.npy'.format(i)))\n",
    "    specs[idx:(idx+spec.shape[0]),:] = spec\n",
    "    idx += spec.shape[0]\n",
    "    del spec"
   ]
  },
  {
   "cell_type": "code",
   "execution_count": 12,
   "metadata": {},
   "outputs": [
    {
     "name": "stdout",
     "output_type": "stream",
     "text": [
      "saving to uri: s3://tau-astro/almogh/workdir3/data/100K_V2/spec.npy\n"
     ]
    },
    {
     "data": {
      "text/plain": [
       "True"
      ]
     },
     "execution_count": 12,
     "metadata": {},
     "output_type": "execute_result"
    }
   ],
   "source": [
    "to_s3_npy(specs, s3_client, bucket_name, os.path.join(s3_data_ver_dir_path,'spec.npy'))"
   ]
  },
  {
   "cell_type": "markdown",
   "metadata": {},
   "source": [
    "# Choosing a common wavelength grid"
   ]
  },
  {
   "cell_type": "code",
   "execution_count": 14,
   "metadata": {},
   "outputs": [
    {
     "name": "stdout",
     "output_type": "stream",
     "text": [
      "loading from uri: s3://tau-astro/almogh/workdir3/data/wl_grid.npy\n"
     ]
    }
   ],
   "source": [
    "wl_grid = from_s3_npy(s3_client, bucket_name, 'almogh/workdir3/data/wl_grid.npy')"
   ]
  },
  {
   "cell_type": "code",
   "execution_count": 24,
   "metadata": {},
   "outputs": [],
   "source": [
    "gs['waveMin_rest'] = np.divide(gs.waveMin,1+gs.z)\n",
    "gs['waveMax_rest'] = np.divide(gs.waveMax,1+gs.z)"
   ]
  },
  {
   "cell_type": "code",
   "execution_count": 26,
   "metadata": {},
   "outputs": [],
   "source": [
    "gs_sorted = gs.sort_values(by=['waveMin_rest','waveMax_rest'])"
   ]
  },
  {
   "cell_type": "code",
   "execution_count": 15,
   "metadata": {},
   "outputs": [
    {
     "name": "stdout",
     "output_type": "stream",
     "text": [
      "Loading data and creating dataset\n",
      "Original wavelength grid: 1725.0-9762.5 [A], length=16076.\n"
     ]
    }
   ],
   "source": [
    "# load data\n",
    "print('Loading data and creating dataset')\n",
    "X = specs\n",
    "original_wl_str = 'Original wavelength grid: {0}-{1} [A], length={2}.'.format(min(wl_grid),max(wl_grid),len(wl_grid))\n",
    "print(original_wl_str)\n",
    "\n",
    "# get the limits of every sample\n",
    "X_valid = ~np.isnan(X)\n",
    "sample_i_start = np.argmax(X_valid, axis=1)\n",
    "sample_i_end = X.shape[1] - np.argmax(np.fliplr(X_valid), axis=1) # non inclusive\n",
    "support = X_valid.sum(axis=0)/X_valid.shape[0]\n",
    "\n",
    "# make sure no holes\n",
    "assert all([i<=2 for i in np.sum(np.abs(np.diff(X_valid, axis=1)), axis=1)]), 'some rows in X contain fragmented spans!'"
   ]
  },
  {
   "cell_type": "code",
   "execution_count": 17,
   "metadata": {},
   "outputs": [],
   "source": [
    "from matplotlib import pyplot as plt"
   ]
  },
  {
   "cell_type": "code",
   "execution_count": 31,
   "metadata": {},
   "outputs": [
    {
     "name": "stdout",
     "output_type": "stream",
     "text": [
      "New wavelength grid: 3400.0-8000.0 [A], length=9200.\n",
      "Number of samples after filtering the slice: 111613\n"
     ]
    },
    {
     "data": {
      "image/png": "[encoded data removed]",
      "text/plain": [
       "<Figure size 864x576 with 1 Axes>"
      ]
     },
     "metadata": {
      "needs_background": "light"
     },
     "output_type": "display_data"
    }
   ],
   "source": [
    "# wavelength grid limits\n",
    "start_wl = 3400\n",
    "end_wl = 8000\n",
    "start_i = (np.abs(wl_grid - start_wl)).argmin()\n",
    "end_i = (np.abs(wl_grid - end_wl)).argmin()\n",
    "    \n",
    "# limit indices (taking only a slice of the data with full support)\n",
    "new_wl_str = 'New wavelength grid: {0}-{1} [A], length={2}.'.format(wl_grid[start_i],wl_grid[end_i],end_i-start_i)\n",
    "print(new_wl_str)\n",
    "\n",
    "# plot the support of the dataset\n",
    "fig,ax = plt.subplots(figsize=(12,8))\n",
    "ax.plot(wl_grid, support)\n",
    "plt.grid()\n",
    "plt.axvline(x=wl_grid[start_i], ymin=0, ymax=1, c='r')\n",
    "plt.axvline(x=wl_grid[end_i], ymin=0, ymax=1, c='r')\n",
    "ax.set_xlabel('wavelength [A]')\n",
    "ax.set_ylabel('support %')\n",
    "ax.set_title('Dataset support')\n",
    "\n",
    "# taking only the samples with full support over the slice\n",
    "I_slice = np.array([i for i in range(X_valid.shape[0]) if (sample_i_start[i]<=start_i and sample_i_end[i]>end_i)])\n",
    "samples_str = 'Number of samples after filtering the slice: {0}'.format(len(I_slice))\n",
    "print(samples_str)"
   ]
  },
  {
   "cell_type": "code",
   "execution_count": 32,
   "metadata": {},
   "outputs": [
    {
     "data": {
      "text/plain": [
       "<matplotlib.legend.Legend at 0x7f10abe9f5e0>"
      ]
     },
     "execution_count": 32,
     "metadata": {},
     "output_type": "execute_result"
    },
    {
     "data": {
      "image/png": "[encoded data removed]",
      "text/plain": [
       "<Figure size 864x576 with 1 Axes>"
      ]
     },
     "metadata": {
      "needs_background": "light"
     },
     "output_type": "display_data"
    }
   ],
   "source": [
    "fig,ax = plt.subplots(figsize=(12,8))\n",
    "ax.plot(gs_sorted['waveMin_rest'],np.arange(len(gs)),c='b',label='waveMin_rest')\n",
    "ax.plot(gs_sorted['waveMax_rest'],np.arange(len(gs)),c='r',label='waveMin_rest')\n",
    "plt.grid()\n",
    "plt.axvline(x=wl_grid[start_i], ymin=0, ymax=1, c='k')\n",
    "plt.axvline(x=wl_grid[end_i], ymin=0, ymax=1, c='k')\n",
    "ax.set_xlabel('wavelength [A]')\n",
    "ax.set_ylabel('sample index')\n",
    "ax.set_title('Dataset support')\n",
    "plt.legend()"
   ]
  },
  {
   "cell_type": "code",
   "execution_count": 33,
   "metadata": {},
   "outputs": [],
   "source": [
    "s3_new_data_ver_dir_path = os.path.join(s3_data_dir_path,'100K_V3')"
   ]
  },
  {
   "cell_type": "code",
   "execution_count": 34,
   "metadata": {},
   "outputs": [
    {
     "name": "stdout",
     "output_type": "stream",
     "text": [
      "saving to uri: s3://tau-astro/almogh/workdir3/data/100K_V3/gs_100K_V3.pkl\n",
      "saving to uri: s3://tau-astro/almogh/workdir3/data/100K_V3/wl_100K_V3.npy\n"
     ]
    },
    {
     "data": {
      "text/plain": [
       "True"
      ]
     },
     "execution_count": 34,
     "metadata": {},
     "output_type": "execute_result"
    }
   ],
   "source": [
    "to_s3_pkl(gs.loc[I_slice], s3_client, bucket_name, os.path.join(s3_new_data_ver_dir_path,'gs_100K_V3.pkl'))\n",
    "to_s3_npy(wl_grid[start_i:end_i], s3_client, bucket_name, os.path.join(s3_new_data_ver_dir_path,'wl_100K_V3.npy'))"
   ]
  },
  {
   "cell_type": "code",
   "execution_count": 35,
   "metadata": {},
   "outputs": [
    {
     "name": "stdout",
     "output_type": "stream",
     "text": [
      "saving to uri: s3://tau-astro/almogh/workdir3/data/100K_V3/gs_100K_V3_top10K_SNR.pkl\n"
     ]
    },
    {
     "data": {
      "text/plain": [
       "True"
      ]
     },
     "execution_count": 35,
     "metadata": {},
     "output_type": "execute_result"
    }
   ],
   "source": [
    "to_s3_pkl(gs.loc[I_slice].sort_values(by='snMedian', ascending=False).iloc[:10000], s3_client, bucket_name, os.path.join(s3_new_data_ver_dir_path,'gs_100K_V3_top10K_SNR.pkl'))"
   ]
  },
  {
   "cell_type": "code",
   "execution_count": 36,
   "metadata": {},
   "outputs": [
    {
     "name": "stdout",
     "output_type": "stream",
     "text": [
      "saving to uri: s3://tau-astro/almogh/workdir3/data/100K_V3/gs_top10K_SNR.pkl\n"
     ]
    },
    {
     "data": {
      "text/plain": [
       "True"
      ]
     },
     "execution_count": 36,
     "metadata": {},
     "output_type": "execute_result"
    }
   ],
   "source": [
    "to_s3_pkl(gs.sort_values(by='snMedian', ascending=False).iloc[:10000], s3_client, bucket_name, os.path.join(s3_new_data_ver_dir_path,'gs_top10K_SNR.pkl'))"
   ]
  },
  {
   "cell_type": "code",
   "execution_count": null,
   "metadata": {},
   "outputs": [],
   "source": []
  }
 ],
 "metadata": {
  "kernelspec": {
   "display_name": "Python 3 (ipykernel)",
   "language": "python",
   "name": "python3"
  },
  "language_info": {
   "codemirror_mode": {
    "name": "ipython",
    "version": 3
   },
   "file_extension": ".py",
   "mimetype": "text/x-python",
   "name": "python",
   "nbconvert_exporter": "python",
   "pygments_lexer": "ipython3",
   "version": "3.9.7"
  }
 },
 "nbformat": 4,
 "nbformat_minor": 4
}
