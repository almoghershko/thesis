{
 "cells": [
  {
   "cell_type": "code",
   "execution_count": 1,
   "metadata": {},
   "outputs": [
    {
     "name": "stdout",
     "output_type": "stream",
     "text": [
      "Requirement already satisfied: boto3 in /opt/conda/lib/python3.9/site-packages (1.22.4)\n",
      "Requirement already satisfied: s3transfer<0.6.0,>=0.5.0 in /opt/conda/lib/python3.9/site-packages (from boto3) (0.5.2)\n",
      "Requirement already satisfied: jmespath<2.0.0,>=0.7.1 in /opt/conda/lib/python3.9/site-packages (from boto3) (1.0.0)\n",
      "Requirement already satisfied: botocore<1.26.0,>=1.25.4 in /opt/conda/lib/python3.9/site-packages (from boto3) (1.25.4)\n",
      "Requirement already satisfied: urllib3<1.27,>=1.25.4 in /opt/conda/lib/python3.9/site-packages (from botocore<1.26.0,>=1.25.4->boto3) (1.26.8)\n",
      "Requirement already satisfied: python-dateutil<3.0.0,>=2.1 in /opt/conda/lib/python3.9/site-packages (from botocore<1.26.0,>=1.25.4->boto3) (2.8.2)\n",
      "Requirement already satisfied: six>=1.5 in /opt/conda/lib/python3.9/site-packages (from python-dateutil<3.0.0,>=2.1->botocore<1.26.0,>=1.25.4->boto3) (1.16.0)\n"
     ]
    }
   ],
   "source": [
    "!pip install boto3"
   ]
  },
  {
   "cell_type": "code",
   "execution_count": 2,
   "metadata": {},
   "outputs": [
    {
     "name": "stdout",
     "output_type": "stream",
     "text": [
      "Requirement already satisfied: astropy in /opt/conda/lib/python3.9/site-packages (5.0.4)\n",
      "Requirement already satisfied: packaging>=19.0 in /opt/conda/lib/python3.9/site-packages (from astropy) (21.3)\n",
      "Requirement already satisfied: pyerfa>=2.0 in /opt/conda/lib/python3.9/site-packages (from astropy) (2.0.0.1)\n",
      "Requirement already satisfied: PyYAML>=3.13 in /opt/conda/lib/python3.9/site-packages (from astropy) (6.0)\n",
      "Requirement already satisfied: numpy>=1.18 in /opt/conda/lib/python3.9/site-packages (from astropy) (1.21.5)\n",
      "Requirement already satisfied: pyparsing!=3.0.5,>=2.0.2 in /opt/conda/lib/python3.9/site-packages (from packaging>=19.0->astropy) (3.0.7)\n"
     ]
    }
   ],
   "source": [
    "!pip install astropy"
   ]
  },
  {
   "cell_type": "code",
   "execution_count": 3,
   "metadata": {},
   "outputs": [
    {
     "name": "stdout",
     "output_type": "stream",
     "text": [
      "Requirement already satisfied: sfdmap in /opt/conda/lib/python3.9/site-packages (0.1.1)\n",
      "Requirement already satisfied: numpy in /opt/conda/lib/python3.9/site-packages (from sfdmap) (1.21.5)\n"
     ]
    }
   ],
   "source": [
    "!pip install sfdmap"
   ]
  },
  {
   "cell_type": "code",
   "execution_count": 4,
   "metadata": {},
   "outputs": [],
   "source": [
    "# imports\n",
    "import pandas as pd\n",
    "import numpy as np\n",
    "import os\n",
    "import sys\n",
    "import pickle\n",
    "import boto3\n",
    "\n",
    "# random seed\n",
    "seed = 42\n",
    "np.random.seed(seed)\n",
    "\n",
    "# local files paths\n",
    "local_home_dir_path = os.path.expanduser(\"~\")\n",
    "local_work_dir_path = os.path.join(local_home_dir_path, 'git')\n",
    "local_code_dir_path = os.path.join(local_work_dir_path , 'code')\n",
    "\n",
    "# S3 file paths\n",
    "endpoint_url = 'https://s3-west.nrp-nautilus.io'\n",
    "bucket_name = 'tau-astro'\n",
    "prefix = 'almogh'\n",
    "s3_work_dir_path = os.path.join(prefix, 'workdir3')\n",
    "s3_saves_dir_path = os.path.join(s3_work_dir_path , 'model_saves')\n",
    "s3_data_dir_path = os.path.join(s3_work_dir_path , 'data')\n",
    "s3_final_table_csv_path = os.path.join(s3_data_dir_path, 'SDSS_DR16_all.csv')\n",
    "s3_data_ver_dir_path = os.path.join(s3_data_dir_path,'100K_V2')\n",
    "\n",
    "s3_client = boto3.client(\"s3\", endpoint_url=endpoint_url)\n",
    "\n",
    "# adding code folder to path\n",
    "sys.path.insert(1, local_code_dir_path)\n",
    "from s3 import to_s3_npy, to_s3_pkl, from_s3_npy, from_s3_pkl, to_s3_fig"
   ]
  },
  {
   "cell_type": "code",
   "execution_count": 5,
   "metadata": {},
   "outputs": [
    {
     "name": "stdout",
     "output_type": "stream",
     "text": [
      "loading from uri: s3://tau-astro/almogh/workdir3/data/100K_V2/gs.pkl\n"
     ]
    }
   ],
   "source": [
    "gs = from_s3_pkl(s3_client, bucket_name, os.path.join(s3_data_ver_dir_path,'gs.pkl'))"
   ]
  },
  {
   "cell_type": "code",
   "execution_count": 6,
   "metadata": {},
   "outputs": [
    {
     "name": "stdout",
     "output_type": "stream",
     "text": [
      "loading from uri: s3://tau-astro/almogh/workdir3/data/100K_V2/spec0.npy\n",
      "loading from uri: s3://tau-astro/almogh/workdir3/data/100K_V2/spec1.npy\n",
      "loading from uri: s3://tau-astro/almogh/workdir3/data/100K_V2/spec2.npy\n",
      "loading from uri: s3://tau-astro/almogh/workdir3/data/100K_V2/spec3.npy\n",
      "loading from uri: s3://tau-astro/almogh/workdir3/data/100K_V2/spec4.npy\n",
      "loading from uri: s3://tau-astro/almogh/workdir3/data/100K_V2/spec5.npy\n",
      "loading from uri: s3://tau-astro/almogh/workdir3/data/100K_V2/spec6.npy\n",
      "loading from uri: s3://tau-astro/almogh/workdir3/data/100K_V2/spec7.npy\n"
     ]
    }
   ],
   "source": [
    "specs = [from_s3_npy(s3_client, bucket_name, os.path.join(s3_data_ver_dir_path,'spec{0}.npy'.format(i))) for i in range(8)]"
   ]
  },
  {
   "cell_type": "code",
   "execution_count": 15,
   "metadata": {},
   "outputs": [],
   "source": [
    "L = specs[0].shape[1]"
   ]
  },
  {
   "cell_type": "code",
   "execution_count": 10,
   "metadata": {},
   "outputs": [],
   "source": [
    "N = 0\n",
    "for spec in specs:\n",
    "    N+=spec.shape[0]"
   ]
  },
  {
   "cell_type": "code",
   "execution_count": 13,
   "metadata": {},
   "outputs": [],
   "source": [
    "for i in range(len(specs)):\n",
    "    del specs[0]\n",
    "del specs"
   ]
  },
  {
   "cell_type": "code",
   "execution_count": 19,
   "metadata": {},
   "outputs": [],
   "source": [
    "specs = np.zeros(shape=(N,L), dtype=np.float32)"
   ]
  },
  {
   "cell_type": "code",
   "execution_count": 21,
   "metadata": {},
   "outputs": [
    {
     "name": "stdout",
     "output_type": "stream",
     "text": [
      "loading from uri: s3://tau-astro/almogh/workdir3/data/100K_V2/spec0.npy\n",
      "loading from uri: s3://tau-astro/almogh/workdir3/data/100K_V2/spec1.npy\n",
      "loading from uri: s3://tau-astro/almogh/workdir3/data/100K_V2/spec2.npy\n",
      "loading from uri: s3://tau-astro/almogh/workdir3/data/100K_V2/spec3.npy\n",
      "loading from uri: s3://tau-astro/almogh/workdir3/data/100K_V2/spec4.npy\n",
      "loading from uri: s3://tau-astro/almogh/workdir3/data/100K_V2/spec5.npy\n",
      "loading from uri: s3://tau-astro/almogh/workdir3/data/100K_V2/spec6.npy\n",
      "loading from uri: s3://tau-astro/almogh/workdir3/data/100K_V2/spec7.npy\n"
     ]
    }
   ],
   "source": [
    "idx = 0\n",
    "for i in range(8):\n",
    "    spec = from_s3_npy(s3_client, bucket_name, os.path.join(s3_data_ver_dir_path,'spec{0}.npy'.format(i)))\n",
    "    specs[idx:(idx+spec.shape[0]),:] = spec\n",
    "    idx += spec.shape[0]\n",
    "    del spec"
   ]
  },
  {
   "cell_type": "code",
   "execution_count": 26,
   "metadata": {},
   "outputs": [
    {
     "name": "stdout",
     "output_type": "stream",
     "text": [
      "saving to uri: s3://tau-astro/almogh/workdir3/data/100K_V2/spec.npy\n"
     ]
    },
    {
     "data": {
      "text/plain": [
       "True"
      ]
     },
     "execution_count": 26,
     "metadata": {},
     "output_type": "execute_result"
    }
   ],
   "source": [
    "to_s3_npy(specs, s3_client, bucket_name, os.path.join(s3_data_ver_dir_path,'spec.npy'))"
   ]
  },
  {
   "cell_type": "markdown",
   "metadata": {},
   "source": [
    "# Choosing a common wavelength grid"
   ]
  },
  {
   "cell_type": "code",
   "execution_count": null,
   "metadata": {},
   "outputs": [],
   "source": [
    "# load data\n",
    "print('Loading data and creating dataset')\n",
    "X = specs\n",
    "original_wl_str = 'Original wavelength grid: {0}-{1} [A], length={2}.'.format(min(wl_grid),max(wl_grid),len(wl_grid))\n",
    "print(original_wl_str)\n",
    "\n",
    "# get the limits of every sample\n",
    "X_valid = ~np.isnan(X)\n",
    "sample_i_start = np.argmax(X_valid, axis=1)\n",
    "sample_i_end = X.shape[1] - np.argmax(np.fliplr(X_valid), axis=1) # non inclusive\n",
    "support = X_valid.sum(axis=0)/X_valid.shape[0]\n",
    "\n",
    "# make sure no holes\n",
    "assert all([i<=2 for i in np.sum(np.abs(np.diff(X_valid, axis=1)), axis=1)]), 'some rows in X contain fragmented spans!'"
   ]
  },
  {
   "cell_type": "code",
   "execution_count": 52,
   "metadata": {},
   "outputs": [
    {
     "name": "stdout",
     "output_type": "stream",
     "text": [
      "New wavelength grid: 3400.0-8200.0 [A], length=9600.\n",
      "Number of samples after filtering the slice: 10362\n"
     ]
    },
    {
     "data": {
      "image/png": "[encoded data removed]",
      "text/plain": [
       "<Figure size 864x576 with 1 Axes>"
      ]
     },
     "metadata": {
      "needs_background": "light"
     },
     "output_type": "display_data"
    }
   ],
   "source": [
    "# wavelength grid limits\n",
    "start_wl = 3400\n",
    "end_wl = 8200\n",
    "start_i = (np.abs(wl_grid - start_wl)).argmin()\n",
    "end_i = (np.abs(wl_grid - end_wl)).argmin()\n",
    "    \n",
    "# limit indices (taking only a slice of the data with full support)\n",
    "new_wl_str = 'New wavelength grid: {0}-{1} [A], length={2}.'.format(wl_grid[start_i],wl_grid[end_i],end_i-start_i)\n",
    "print(new_wl_str)\n",
    "\n",
    "# plot the support of the dataset\n",
    "fig,ax = plt.subplots(figsize=(12,8))\n",
    "ax.plot(wl_grid, support)\n",
    "plt.grid()\n",
    "plt.axvline(x=wl_grid[start_i], ymin=0, ymax=1, c='r')\n",
    "plt.axvline(x=wl_grid[end_i], ymin=0, ymax=1, c='r')\n",
    "ax.set_xlabel('wavelength [A]')\n",
    "ax.set_ylabel('support %')\n",
    "ax.set_title('Dataset support')\n",
    "\n",
    "# taking only the samples with full support over the slice\n",
    "I_slice = np.array([i for i in range(X_valid.shape[0]) if (sample_i_start[i]<=start_i and sample_i_end[i]>end_i)])\n",
    "samples_str = 'Number of samples after filtering the slice: {0}'.format(len(I_slice))\n",
    "print(samples_str)"
   ]
  },
  {
   "cell_type": "code",
   "execution_count": 53,
   "metadata": {},
   "outputs": [
    {
     "name": "stdout",
     "output_type": "stream",
     "text": [
      "saving to uri: s3://tau-astro/almogh/workdir3/data/100K_V2/gs_100K_V2.pkl\n",
      "saving to uri: s3://tau-astro/almogh/workdir3/data/100K_V2/wl_100K_V2.npy\n"
     ]
    },
    {
     "data": {
      "text/plain": [
       "True"
      ]
     },
     "execution_count": 53,
     "metadata": {},
     "output_type": "execute_result"
    }
   ],
   "source": [
    "to_s3_pkl(gs.loc[I_slice], s3_client, bucket_name, os.path.join(s3_data_ver_dir_path,'gs_100K_V2.pkl'))\n",
    "to_s3_npy(wl_grid[start_i:end_i], s3_client, bucket_name, os.path.join(s3_data_ver_dir_path,'wl_100K_V2.npy'))"
   ]
  },
  {
   "cell_type": "code",
   "execution_count": 57,
   "metadata": {},
   "outputs": [
    {
     "name": "stdout",
     "output_type": "stream",
     "text": [
      "saving to uri: s3://tau-astro/almogh/workdir3/data/100K_V2/gs_100K_V2_top10K_SNR.pkl\n"
     ]
    },
    {
     "data": {
      "text/plain": [
       "True"
      ]
     },
     "execution_count": 57,
     "metadata": {},
     "output_type": "execute_result"
    }
   ],
   "source": [
    "to_s3_pkl(gs.loc[I_slice].sort_values(by='snMedian', ascending=False).iloc[:10000], s3_client, bucket_name, os.path.join(s3_data_ver_dir_path,'gs_100K_V2_top10K_SNR.pkl'))"
   ]
  },
  {
   "cell_type": "code",
   "execution_count": 56,
   "metadata": {},
   "outputs": [
    {
     "name": "stdout",
     "output_type": "stream",
     "text": [
      "saving to uri: s3://tau-astro/almogh/workdir3/data/100K_V2/gs_top10K_SNR.pkl\n"
     ]
    },
    {
     "data": {
      "text/plain": [
       "True"
      ]
     },
     "execution_count": 56,
     "metadata": {},
     "output_type": "execute_result"
    }
   ],
   "source": [
    "to_s3_pkl(gs.sort_values(by='snMedian', ascending=False).iloc[:10000], s3_client, bucket_name, os.path.join(s3_data_ver_dir_path,'gs_top10K_SNR.pkl'))"
   ]
  }
 ],
 "metadata": {
  "kernelspec": {
   "display_name": "Python 3 (ipykernel)",
   "language": "python",
   "name": "python3"
  },
  "language_info": {
   "codemirror_mode": {
    "name": "ipython",
    "version": 3
   },
   "file_extension": ".py",
   "mimetype": "text/x-python",
   "name": "python",
   "nbconvert_exporter": "python",
   "pygments_lexer": "ipython3",
   "version": "3.9.7"
  }
 },
 "nbformat": 4,
 "nbformat_minor": 4
}
