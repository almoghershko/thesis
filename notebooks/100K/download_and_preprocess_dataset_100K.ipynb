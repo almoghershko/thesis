{
 "cells": [
  {
   "cell_type": "code",
   "execution_count": 1,
   "metadata": {},
   "outputs": [
    {
     "name": "stdout",
     "output_type": "stream",
     "text": [
      "Requirement already satisfied: boto3 in /opt/conda/lib/python3.9/site-packages (1.21.26)\n",
      "Requirement already satisfied: jmespath<2.0.0,>=0.7.1 in /opt/conda/lib/python3.9/site-packages (from boto3) (1.0.0)\n",
      "Requirement already satisfied: botocore<1.25.0,>=1.24.26 in /opt/conda/lib/python3.9/site-packages (from boto3) (1.24.27)\n",
      "Requirement already satisfied: s3transfer<0.6.0,>=0.5.0 in /opt/conda/lib/python3.9/site-packages (from boto3) (0.5.2)\n",
      "Requirement already satisfied: urllib3<1.27,>=1.25.4 in /opt/conda/lib/python3.9/site-packages (from botocore<1.25.0,>=1.24.26->boto3) (1.26.8)\n",
      "Requirement already satisfied: python-dateutil<3.0.0,>=2.1 in /opt/conda/lib/python3.9/site-packages (from botocore<1.25.0,>=1.24.26->boto3) (2.8.2)\n",
      "Requirement already satisfied: six>=1.5 in /opt/conda/lib/python3.9/site-packages (from python-dateutil<3.0.0,>=2.1->botocore<1.25.0,>=1.24.26->boto3) (1.16.0)\n"
     ]
    }
   ],
   "source": [
    "!pip install boto3"
   ]
  },
  {
   "cell_type": "code",
   "execution_count": 2,
   "metadata": {},
   "outputs": [
    {
     "name": "stdout",
     "output_type": "stream",
     "text": [
      "Requirement already satisfied: astropy in /opt/conda/lib/python3.9/site-packages (5.0.3)\n",
      "Requirement already satisfied: PyYAML>=3.13 in /opt/conda/lib/python3.9/site-packages (from astropy) (6.0)\n",
      "Requirement already satisfied: pyerfa>=2.0 in /opt/conda/lib/python3.9/site-packages (from astropy) (2.0.0.1)\n",
      "Requirement already satisfied: numpy>=1.18 in /opt/conda/lib/python3.9/site-packages (from astropy) (1.21.5)\n",
      "Requirement already satisfied: packaging>=19.0 in /opt/conda/lib/python3.9/site-packages (from astropy) (21.3)\n",
      "Requirement already satisfied: pyparsing!=3.0.5,>=2.0.2 in /opt/conda/lib/python3.9/site-packages (from packaging>=19.0->astropy) (3.0.7)\n"
     ]
    }
   ],
   "source": [
    "!pip install astropy"
   ]
  },
  {
   "cell_type": "code",
   "execution_count": 3,
   "metadata": {},
   "outputs": [
    {
     "name": "stdout",
     "output_type": "stream",
     "text": [
      "Requirement already satisfied: sfdmap in /opt/conda/lib/python3.9/site-packages (0.1.1)\n",
      "Requirement already satisfied: numpy in /opt/conda/lib/python3.9/site-packages (from sfdmap) (1.21.5)\n"
     ]
    }
   ],
   "source": [
    "!pip install sfdmap"
   ]
  },
  {
   "cell_type": "code",
   "execution_count": 4,
   "metadata": {},
   "outputs": [],
   "source": [
    "# imports\n",
    "import pandas as pd\n",
    "import numpy as np\n",
    "import os\n",
    "import sys\n",
    "import pickle\n",
    "import boto3\n",
    "\n",
    "# random seed\n",
    "seed = 42\n",
    "np.random.seed(seed)\n",
    "\n",
    "# local files paths\n",
    "local_home_dir_path = os.path.expanduser(\"~\")\n",
    "local_work_dir_path = os.path.join(local_home_dir_path, 'git')\n",
    "local_code_dir_path = os.path.join(local_work_dir_path , 'code')\n",
    "\n",
    "# S3 file paths\n",
    "endpoint_url = 'https://s3-west.nrp-nautilus.io'\n",
    "bucket_name = 'tau-astro'\n",
    "prefix = 'almogh'\n",
    "s3_work_dir_path = os.path.join(prefix, 'workdir3')\n",
    "s3_saves_dir_path = os.path.join(s3_work_dir_path , 'model_saves')\n",
    "s3_data_dir_path = os.path.join(s3_work_dir_path , 'data')\n",
    "s3_final_table_csv_path = os.path.join(s3_data_dir_path, 'SDSS_DR16_all.csv')\n",
    "s3_data_ver_dir_path = os.path.join(s3_data_dir_path,'100K_V1')\n",
    "\n",
    "s3_client = boto3.client(\"s3\", endpoint_url=endpoint_url)\n",
    "\n",
    "# adding code folder to path\n",
    "sys.path.insert(1, local_code_dir_path)\n",
    "from s3 import to_s3_npy, to_s3_pkl, from_s3_npy, from_s3_pkl, to_s3_fig"
   ]
  },
  {
   "cell_type": "code",
   "execution_count": 5,
   "metadata": {},
   "outputs": [
    {
     "name": "stdout",
     "output_type": "stream",
     "text": [
      "Total galaxies in DR16: 3234563\n"
     ]
    }
   ],
   "source": [
    "# loading the table\n",
    "final_table_csv_path = os.path.join(endpoint_url,bucket_name,s3_final_table_csv_path)\n",
    "gs = pd.read_csv(final_table_csv_path, header = 0, dtype = {\n",
    "    'specobjid' : str,\n",
    "    'z' : float,\n",
    "    'z_noqso' : float,\n",
    "    'snMedian' : float,\n",
    "    'run2d' : str,\n",
    "    'ra' : float,\n",
    "    'dec' : float,\n",
    "    'plate' : int,\n",
    "    'mjd' : int,\n",
    "    'fiberid' : int,\n",
    "    'waveMin' : float,\n",
    "    'waveMax' : float\n",
    "    })\n",
    "print('Total galaxies in DR16: %d' % len(gs))"
   ]
  },
  {
   "cell_type": "code",
   "execution_count": 6,
   "metadata": {},
   "outputs": [],
   "source": [
    "cnt = len(gs)\n",
    "total_filtered = 0"
   ]
  },
  {
   "cell_type": "code",
   "execution_count": 7,
   "metadata": {},
   "outputs": [],
   "source": [
    "# parameters\n",
    "snr_th = 0.6\n",
    "z_th = 0.03"
   ]
  },
  {
   "cell_type": "code",
   "execution_count": 8,
   "metadata": {},
   "outputs": [
    {
     "name": "stdout",
     "output_type": "stream",
     "text": [
      "Total galaxies filtered with low z values: 94412\n"
     ]
    }
   ],
   "source": [
    "# Remove galaxies with low redshift\n",
    "gs = gs[gs.z > z_th]\n",
    "gs.index = np.arange(len(gs))\n",
    "filtered = cnt-len(gs)\n",
    "print('Total galaxies filtered with low z values: %d' % filtered)\n",
    "cnt = len(gs)\n",
    "total_filtered += filtered"
   ]
  },
  {
   "cell_type": "code",
   "execution_count": 9,
   "metadata": {},
   "outputs": [
    {
     "name": "stdout",
     "output_type": "stream",
     "text": [
      "Total galaxies filtered with low snr values: 172465\n"
     ]
    }
   ],
   "source": [
    "# Remove galaxies with low SNR\n",
    "gs = gs[gs.snMedian > snr_th]\n",
    "gs.index = np.arange(len(gs))\n",
    "filtered = cnt-len(gs)\n",
    "print('Total galaxies filtered with low snr values: %d' % filtered)\n",
    "cnt = len(gs)\n",
    "total_filtered += filtered"
   ]
  },
  {
   "cell_type": "code",
   "execution_count": 10,
   "metadata": {},
   "outputs": [],
   "source": [
    "# move to rest frame and calculate span\n",
    "gs['waveMin_rest'] = np.divide(gs.waveMin,1+gs.z)\n",
    "gs['waveMax_rest'] = np.divide(gs.waveMax,1+gs.z)\n",
    "gs['wave_span'] = gs['waveMax_rest']-gs['waveMin_rest']"
   ]
  },
  {
   "cell_type": "code",
   "execution_count": 11,
   "metadata": {},
   "outputs": [
    {
     "name": "stdout",
     "output_type": "stream",
     "text": [
      "saving to uri: s3://tau-astro/almogh/workdir3/data/100K_V1/wl_grid.npy\n",
      "Total galaxies filtered for wavelength support: 1957220\n"
     ]
    }
   ],
   "source": [
    "# using the wavelength grid like before\n",
    "wl_grid = np.linspace(3825.0,7725.0,7800)\n",
    "to_s3_npy(wl_grid, s3_client, bucket_name, os.path.join(s3_data_ver_dir_path,'wl_grid.npy'))\n",
    "\n",
    "# filtering wavelengths\n",
    "gs = gs[gs.waveMin_rest<=min(wl_grid)]\n",
    "gs = gs[gs.waveMax_rest>=max(wl_grid)]\n",
    "gs.index = np.arange(len(gs))\n",
    "filtered = cnt-len(gs)\n",
    "print('Total galaxies filtered for wavelength support: %d' % filtered)\n",
    "cnt = len(gs)\n",
    "total_filtered += filtered"
   ]
  },
  {
   "cell_type": "code",
   "execution_count": 12,
   "metadata": {},
   "outputs": [
    {
     "name": "stdout",
     "output_type": "stream",
     "text": [
      "Total galaxies filtered after merging with Dalya's scores: 236662\n"
     ]
    }
   ],
   "source": [
    "# adding Dalya's scores\n",
    "dalya_scores_URL = 'http://wise-obs.tau.ac.il/~dovip/weird-galaxies/full.csv'\n",
    "dalya_df = pd.read_csv(dalya_scores_URL)\n",
    "dalya_df = dalya_df.rename(columns={\" mjd\":\"mjd\",\" fiber\":\"fiberid\", \" weirdness\":\"weirdness\"})\n",
    "gs = gs.merge(dalya_df, how='inner', on=['plate', 'mjd', 'fiberid'])\n",
    "gs.index = np.arange(len(gs))\n",
    "filtered = cnt-len(gs)\n",
    "print(\"Total galaxies filtered after merging with Dalya's scores: %d\" % filtered)\n",
    "cnt = len(gs)\n",
    "total_filtered += filtered"
   ]
  },
  {
   "cell_type": "code",
   "execution_count": 13,
   "metadata": {},
   "outputs": [],
   "source": [
    "galSpecInfo = pd.read_csv(os.path.join(endpoint_url, bucket_name, s3_data_dir_path, 'galSpecInfo.csv'), header = 0, dtype = {\n",
    "    'specobjid' : str,\n",
    "    'plateid' : int,\n",
    "    'mjd' : int,\n",
    "    'fiberid' : int,\n",
    "    'spectrotype' : str,\n",
    "    'subclass' : str\n",
    "    })"
   ]
  },
  {
   "cell_type": "code",
   "execution_count": 14,
   "metadata": {},
   "outputs": [
    {
     "name": "stdout",
     "output_type": "stream",
     "text": [
      "Total galaxies filtered after merging with galSpecInfo: 203430\n"
     ]
    }
   ],
   "source": [
    "galSpecInfo = galSpecInfo.rename(columns={\"plateid\":\"plate\"})\n",
    "gs = gs.merge(galSpecInfo, how='inner', on=['specobjid', 'plate', 'mjd', 'fiberid'])\n",
    "gs.index = np.arange(len(gs))\n",
    "filtered = cnt-len(gs)\n",
    "print(\"Total galaxies filtered after merging with galSpecInfo: %d\" % filtered)\n",
    "cnt = len(gs)\n",
    "total_filtered += filtered"
   ]
  },
  {
   "cell_type": "code",
   "execution_count": 15,
   "metadata": {},
   "outputs": [],
   "source": [
    "galSpecLine = pd.read_csv(os.path.join(endpoint_url, bucket_name, s3_data_dir_path, 'galSpecLine.csv'), header = 0, dtype = {\n",
    "    'specobjid' : str,\n",
    "    'oii_3726_eqw' : float,\n",
    "    'oii_3729_eqw' : float,\n",
    "    'neiii_3869_eqw' : float,\n",
    "    'h_delta_eqw' : float,\n",
    "    'h_gamma_eqw' : float,\n",
    "    'oiii_4363_eqw' : float,\n",
    "    'h_beta_eqw' : float,\n",
    "    'oiii_4959_eqw' : float,\n",
    "    'oiii_5007_eqw' : float,\n",
    "    'hei_5876_eqw' : float,\n",
    "    'oi_6300_eqw' : float,\n",
    "    'nii_6548_eqw' : float,\n",
    "    'h_alpha_eqw' : float,\n",
    "    'nii_6584_eqw' : float,\n",
    "    'sii_6717_eqw' : float,\n",
    "    'sii_6731_eqw' : float,\n",
    "    'ariii7135_eqw' : float\n",
    "    })"
   ]
  },
  {
   "cell_type": "code",
   "execution_count": 16,
   "metadata": {},
   "outputs": [
    {
     "name": "stdout",
     "output_type": "stream",
     "text": [
      "Total galaxies filtered after merging with galSpecLine: 0\n"
     ]
    }
   ],
   "source": [
    "gs = gs.merge(galSpecLine, how='inner', on=['specobjid'])\n",
    "gs.index = np.arange(len(gs))\n",
    "filtered = cnt-len(gs)\n",
    "print(\"Total galaxies filtered after merging with galSpecLine: %d\" % filtered)\n",
    "cnt = len(gs)\n",
    "total_filtered += filtered"
   ]
  },
  {
   "cell_type": "code",
   "execution_count": 17,
   "metadata": {},
   "outputs": [
    {
     "name": "stdout",
     "output_type": "stream",
     "text": [
      "Total number of galaxies left: 570374\n"
     ]
    }
   ],
   "source": [
    "print('Total number of galaxies left: %d' % len(gs))"
   ]
  },
  {
   "cell_type": "code",
   "execution_count": 18,
   "metadata": {},
   "outputs": [],
   "source": [
    "# sample 100K\n",
    "gs = gs.sample(100000, random_state=seed)"
   ]
  },
  {
   "cell_type": "code",
   "execution_count": 19,
   "metadata": {},
   "outputs": [
    {
     "data": {
      "text/plain": [
       "Text(0.5, 0, 'SNR')"
      ]
     },
     "execution_count": 19,
     "metadata": {},
     "output_type": "execute_result"
    },
    {
     "data": {
      "image/png": "[encoded data removed]",
      "text/plain": [
       "<Figure size 576x432 with 1 Axes>"
      ]
     },
     "metadata": {
      "needs_background": "light"
     },
     "output_type": "display_data"
    }
   ],
   "source": [
    "# ploto SNR histogram\n",
    "\n",
    "hist, bin_edges = np.histogram(gs.snMedian, bins=50)\n",
    "bin_centers = (bin_edges[1:]+bin_edges[:-1])/2\n",
    "pdf = hist/hist.sum()\n",
    "cdf = np.cumsum(pdf)\n",
    "\n",
    "from matplotlib.widgets import Cursor\n",
    "import numpy as np\n",
    "import matplotlib.pyplot as plt\n",
    "fig, ax = plt.subplots(figsize=(8, 6))\n",
    "ax.plot(bin_centers, 1-cdf)\n",
    "ax.set_ylabel('1-CDF')\n",
    "ax.set_xlabel('SNR')"
   ]
  },
  {
   "cell_type": "code",
   "execution_count": 20,
   "metadata": {},
   "outputs": [
    {
     "name": "stdout",
     "output_type": "stream",
     "text": [
      "Estimated dataset size: 2.9GB\n"
     ]
    }
   ],
   "source": [
    "print('Estimated dataset size: %.1fGB' % (len(gs)*len(wl_grid)*4/1024/1024/1024))"
   ]
  },
  {
   "cell_type": "code",
   "execution_count": 21,
   "metadata": {},
   "outputs": [],
   "source": [
    "# create a wrapper that returns the index also\n",
    "from pre_processing import download_spectrum\n",
    "def download_spectrum_wrapper(i):\n",
    "    spec, _, ivar = download_spectrum(gs.iloc[i], pre_proc=True, wl_grid=wl_grid)\n",
    "    return i, spec, ivar"
   ]
  },
  {
   "cell_type": "code",
   "execution_count": 22,
   "metadata": {},
   "outputs": [
    {
     "name": "stderr",
     "output_type": "stream",
     "text": [
      "[Parallel(n_jobs=-1)]: Using backend ThreadingBackend with 32 concurrent workers.\n",
      "[Parallel(n_jobs=-1)]: Done   8 tasks      | elapsed:    1.7s\n",
      "[Parallel(n_jobs=-1)]: Done  98 tasks      | elapsed:    4.5s\n",
      "[Parallel(n_jobs=-1)]: Done 224 tasks      | elapsed:    8.7s\n",
      "[Parallel(n_jobs=-1)]: Done 386 tasks      | elapsed:   13.2s\n",
      "[Parallel(n_jobs=-1)]: Done 584 tasks      | elapsed:   18.7s\n",
      "[Parallel(n_jobs=-1)]: Done 818 tasks      | elapsed:   25.1s\n",
      "[Parallel(n_jobs=-1)]: Done 1088 tasks      | elapsed:   32.4s\n",
      "[Parallel(n_jobs=-1)]: Done 1394 tasks      | elapsed:   40.9s\n",
      "[Parallel(n_jobs=-1)]: Done 1736 tasks      | elapsed:   50.5s\n",
      "[Parallel(n_jobs=-1)]: Done 2114 tasks      | elapsed:  1.0min\n",
      "[Parallel(n_jobs=-1)]: Done 2528 tasks      | elapsed:  1.2min\n",
      "[Parallel(n_jobs=-1)]: Done 2978 tasks      | elapsed:  1.4min\n",
      "[Parallel(n_jobs=-1)]: Done 3464 tasks      | elapsed:  1.6min\n",
      "[Parallel(n_jobs=-1)]: Done 3986 tasks      | elapsed:  1.9min\n",
      "[Parallel(n_jobs=-1)]: Done 4544 tasks      | elapsed:  2.1min\n",
      "[Parallel(n_jobs=-1)]: Done 5138 tasks      | elapsed:  2.4min\n",
      "[Parallel(n_jobs=-1)]: Done 5768 tasks      | elapsed:  2.7min\n",
      "[Parallel(n_jobs=-1)]: Done 6434 tasks      | elapsed:  3.0min\n",
      "[Parallel(n_jobs=-1)]: Done 7136 tasks      | elapsed:  3.3min\n",
      "[Parallel(n_jobs=-1)]: Done 7874 tasks      | elapsed:  3.7min\n",
      "[Parallel(n_jobs=-1)]: Done 8648 tasks      | elapsed:  4.0min\n",
      "[Parallel(n_jobs=-1)]: Done 9458 tasks      | elapsed:  4.4min\n",
      "[Parallel(n_jobs=-1)]: Done 10304 tasks      | elapsed:  4.8min\n",
      "[Parallel(n_jobs=-1)]: Done 11186 tasks      | elapsed:  5.2min\n",
      "[Parallel(n_jobs=-1)]: Done 12104 tasks      | elapsed:  5.7min\n",
      "[Parallel(n_jobs=-1)]: Done 13058 tasks      | elapsed:  6.1min\n",
      "[Parallel(n_jobs=-1)]: Done 14048 tasks      | elapsed:  6.6min\n",
      "[Parallel(n_jobs=-1)]: Done 15074 tasks      | elapsed:  7.1min\n",
      "[Parallel(n_jobs=-1)]: Done 16136 tasks      | elapsed:  7.6min\n",
      "[Parallel(n_jobs=-1)]: Done 17234 tasks      | elapsed:  8.1min\n",
      "[Parallel(n_jobs=-1)]: Done 18368 tasks      | elapsed:  8.6min\n",
      "[Parallel(n_jobs=-1)]: Done 19538 tasks      | elapsed:  9.1min\n",
      "[Parallel(n_jobs=-1)]: Done 20744 tasks      | elapsed:  9.7min\n",
      "[Parallel(n_jobs=-1)]: Done 21986 tasks      | elapsed: 10.3min\n",
      "[Parallel(n_jobs=-1)]: Done 23264 tasks      | elapsed: 10.9min\n",
      "[Parallel(n_jobs=-1)]: Done 24578 tasks      | elapsed: 11.5min\n",
      "[Parallel(n_jobs=-1)]: Done 25928 tasks      | elapsed: 12.1min\n",
      "[Parallel(n_jobs=-1)]: Done 27314 tasks      | elapsed: 12.7min\n",
      "[Parallel(n_jobs=-1)]: Done 28736 tasks      | elapsed: 13.4min\n",
      "[Parallel(n_jobs=-1)]: Done 30194 tasks      | elapsed: 14.1min\n",
      "[Parallel(n_jobs=-1)]: Done 31688 tasks      | elapsed: 14.8min\n",
      "[Parallel(n_jobs=-1)]: Done 33218 tasks      | elapsed: 15.5min\n",
      "[Parallel(n_jobs=-1)]: Done 34784 tasks      | elapsed: 16.3min\n",
      "[Parallel(n_jobs=-1)]: Done 36386 tasks      | elapsed: 17.1min\n",
      "[Parallel(n_jobs=-1)]: Done 38024 tasks      | elapsed: 17.9min\n",
      "[Parallel(n_jobs=-1)]: Done 39698 tasks      | elapsed: 18.6min\n",
      "[Parallel(n_jobs=-1)]: Done 41408 tasks      | elapsed: 19.4min\n",
      "[Parallel(n_jobs=-1)]: Done 43154 tasks      | elapsed: 20.3min\n",
      "[Parallel(n_jobs=-1)]: Done 44936 tasks      | elapsed: 21.1min\n",
      "[Parallel(n_jobs=-1)]: Done 46754 tasks      | elapsed: 22.0min\n",
      "[Parallel(n_jobs=-1)]: Done 48608 tasks      | elapsed: 22.9min\n",
      "[Parallel(n_jobs=-1)]: Done 50498 tasks      | elapsed: 23.8min\n",
      "[Parallel(n_jobs=-1)]: Done 52424 tasks      | elapsed: 24.7min\n",
      "[Parallel(n_jobs=-1)]: Done 54386 tasks      | elapsed: 25.6min\n",
      "[Parallel(n_jobs=-1)]: Done 56384 tasks      | elapsed: 26.5min\n",
      "[Parallel(n_jobs=-1)]: Done 58418 tasks      | elapsed: 27.5min\n",
      "[Parallel(n_jobs=-1)]: Done 60488 tasks      | elapsed: 28.4min\n",
      "[Parallel(n_jobs=-1)]: Done 62594 tasks      | elapsed: 29.5min\n",
      "[Parallel(n_jobs=-1)]: Done 64736 tasks      | elapsed: 30.5min\n",
      "[Parallel(n_jobs=-1)]: Done 66914 tasks      | elapsed: 31.5min\n",
      "[Parallel(n_jobs=-1)]: Done 69128 tasks      | elapsed: 32.5min\n",
      "[Parallel(n_jobs=-1)]: Done 71378 tasks      | elapsed: 33.6min\n",
      "[Parallel(n_jobs=-1)]: Done 73664 tasks      | elapsed: 34.8min\n",
      "[Parallel(n_jobs=-1)]: Done 75986 tasks      | elapsed: 35.8min\n",
      "[Parallel(n_jobs=-1)]: Done 78344 tasks      | elapsed: 37.0min\n",
      "[Parallel(n_jobs=-1)]: Done 80738 tasks      | elapsed: 38.1min\n",
      "[Parallel(n_jobs=-1)]: Done 83168 tasks      | elapsed: 39.2min\n",
      "[Parallel(n_jobs=-1)]: Done 85634 tasks      | elapsed: 40.4min\n",
      "[Parallel(n_jobs=-1)]: Done 88136 tasks      | elapsed: 41.5min\n",
      "[Parallel(n_jobs=-1)]: Done 90674 tasks      | elapsed: 42.7min\n",
      "[Parallel(n_jobs=-1)]: Done 93248 tasks      | elapsed: 43.9min\n",
      "[Parallel(n_jobs=-1)]: Done 95858 tasks      | elapsed: 45.1min\n",
      "[Parallel(n_jobs=-1)]: Done 98504 tasks      | elapsed: 46.4min\n",
      "[Parallel(n_jobs=-1)]: Done 100000 out of 100000 | elapsed: 47.1min finished\n"
     ]
    }
   ],
   "source": [
    "# create jobs to download and preprocess\n",
    "from joblib import Parallel, delayed\n",
    "res = Parallel(n_jobs=-1, verbose=5, prefer=\"threads\")(delayed(download_spectrum_wrapper)(i) for i in range(len(gs)))\n",
    "\n",
    "# fiter the good results only (exception encountered during download will return empty arrays)\n",
    "res = sorted(res, key=lambda x: x[0])\n",
    "goodRes = [len(val[1]) > 0 for val in res]\n",
    "gs = gs[goodRes]\n",
    "gs.index = range(len(gs))\n",
    "from itertools import compress\n",
    "res = list(compress(res, goodRes))"
   ]
  },
  {
   "cell_type": "code",
   "execution_count": 23,
   "metadata": {},
   "outputs": [
    {
     "name": "stdout",
     "output_type": "stream",
     "text": [
      "saving to uri: s3://tau-astro/almogh/workdir3/data/100K_V1/gs.pkl\n"
     ]
    },
    {
     "data": {
      "text/plain": [
       "True"
      ]
     },
     "execution_count": 23,
     "metadata": {},
     "output_type": "execute_result"
    }
   ],
   "source": [
    "# save the dataframe\n",
    "to_s3_pkl(gs, s3_client, bucket_name, os.path.join(s3_data_ver_dir_path,'gs.pkl'))"
   ]
  },
  {
   "cell_type": "code",
   "execution_count": 24,
   "metadata": {},
   "outputs": [
    {
     "name": "stdout",
     "output_type": "stream",
     "text": [
      "saving to uri: s3://tau-astro/almogh/workdir3/data/100K_V1/spec.npy\n"
     ]
    },
    {
     "data": {
      "text/plain": [
       "True"
      ]
     },
     "execution_count": 24,
     "metadata": {},
     "output_type": "execute_result"
    }
   ],
   "source": [
    "# save the spectra\n",
    "spec = np.stack([x[1].astype(np.float32) for x in res], axis=0)\n",
    "assert len([i for i in range(spec.shape[0]) if np.any(np.isnan(spec[i]))])==0, 'NaN found in dataset' # making sure no NaNs\n",
    "to_s3_npy(spec, s3_client, bucket_name, os.path.join(s3_data_ver_dir_path,'spec.npy'))"
   ]
  },
  {
   "cell_type": "code",
   "execution_count": 25,
   "metadata": {},
   "outputs": [
    {
     "name": "stdout",
     "output_type": "stream",
     "text": [
      "saving to uri: s3://tau-astro/almogh/workdir3/data/100K_V1/ivar.npy\n"
     ]
    },
    {
     "data": {
      "text/plain": [
       "True"
      ]
     },
     "execution_count": 25,
     "metadata": {},
     "output_type": "execute_result"
    }
   ],
   "source": [
    "# save the ivar\n",
    "ivar = np.stack([x[2].astype(np.float32) for x in res], axis=0)\n",
    "to_s3_npy(ivar, s3_client, bucket_name, os.path.join(s3_data_ver_dir_path,'ivar.npy'))"
   ]
  },
  {
   "cell_type": "code",
   "execution_count": 26,
   "metadata": {},
   "outputs": [
    {
     "data": {
      "text/plain": [
       "specobjid          object\n",
       "snMedian          float64\n",
       "run2d              object\n",
       "ra                float64\n",
       "dec               float64\n",
       "plate               int64\n",
       "mjd                 int64\n",
       "fiberid             int64\n",
       "waveMin           float64\n",
       "waveMax           float64\n",
       "z                 float64\n",
       "waveMin_rest      float64\n",
       "waveMax_rest      float64\n",
       "wave_span         float64\n",
       "weirdness         float64\n",
       "spectrotype        object\n",
       "subclass           object\n",
       "oii_3726_eqw      float64\n",
       "oii_3729_eqw      float64\n",
       "neiii_3869_eqw    float64\n",
       "h_delta_eqw       float64\n",
       "h_gamma_eqw       float64\n",
       "oiii_4363_eqw     float64\n",
       "h_beta_eqw        float64\n",
       "oiii_4959_eqw     float64\n",
       "oiii_5007_eqw     float64\n",
       "hei_5876_eqw      float64\n",
       "oi_6300_eqw       float64\n",
       "nii_6548_eqw      float64\n",
       "h_alpha_eqw       float64\n",
       "nii_6584_eqw      float64\n",
       "sii_6717_eqw      float64\n",
       "sii_6731_eqw      float64\n",
       "ariii7135_eqw     float64\n",
       "dtype: object"
      ]
     },
     "execution_count": 26,
     "metadata": {},
     "output_type": "execute_result"
    }
   ],
   "source": [
    "gs.dtypes"
   ]
  },
  {
   "cell_type": "code",
   "execution_count": 27,
   "metadata": {},
   "outputs": [],
   "source": [
    "gs = gs.sort_values(by='snMedian', ascending=False)\n",
    "gs.index = range(len(gs))"
   ]
  },
  {
   "cell_type": "code",
   "execution_count": 28,
   "metadata": {},
   "outputs": [],
   "source": [
    "min_snr = gs.iloc[9999].snMedian"
   ]
  },
  {
   "cell_type": "code",
   "execution_count": 29,
   "metadata": {},
   "outputs": [
    {
     "data": {
      "text/plain": [
       "Text(0.5, 0, 'index')"
      ]
     },
     "execution_count": 29,
     "metadata": {},
     "output_type": "execute_result"
    },
    {
     "data": {
      "image/png": "[encoded data removed]",
      "text/plain": [
       "<Figure size 864x576 with 1 Axes>"
      ]
     },
     "metadata": {
      "needs_background": "light"
     },
     "output_type": "display_data"
    }
   ],
   "source": [
    "fig,ax = plt.subplots(figsize=(12,8))\n",
    "ax.plot(gs.snMedian)\n",
    "ax.axvline(x=10000, color='red')\n",
    "ax.axhline(y=min_snr, color='red')\n",
    "ax.set_ylabel('SNR')\n",
    "ax.set_xlabel('index')\n"
   ]
  },
  {
   "cell_type": "code",
   "execution_count": 30,
   "metadata": {},
   "outputs": [],
   "source": [
    "SNR_th = 20\n",
    "gs_train = gs[gs.snMedian>SNR_th].sample(10000, random_state=seed)"
   ]
  },
  {
   "cell_type": "code",
   "execution_count": 35,
   "metadata": {},
   "outputs": [],
   "source": [
    "gs_remain = gs[~gs['specobjid'].isin(gs_train['specobjid'])]"
   ]
  },
  {
   "cell_type": "code",
   "execution_count": 36,
   "metadata": {},
   "outputs": [],
   "source": [
    "assert len(gs_train)+len(gs_remain)==len(gs)"
   ]
  },
  {
   "cell_type": "code",
   "execution_count": 38,
   "metadata": {},
   "outputs": [],
   "source": [
    "gs_test = gs_remain.sample(10000, random_state=seed)"
   ]
  },
  {
   "cell_type": "code",
   "execution_count": 39,
   "metadata": {},
   "outputs": [
    {
     "name": "stdout",
     "output_type": "stream",
     "text": [
      "saving to uri: s3://tau-astro/almogh/workdir3/data/100K_V1/gs_train.pkl\n",
      "saving to uri: s3://tau-astro/almogh/workdir3/data/100K_V1/gs_test.pkl\n"
     ]
    },
    {
     "data": {
      "text/plain": [
       "True"
      ]
     },
     "execution_count": 39,
     "metadata": {},
     "output_type": "execute_result"
    }
   ],
   "source": [
    "to_s3_pkl(gs_train, s3_client, bucket_name, os.path.join(s3_data_ver_dir_path,'gs_train.pkl'))\n",
    "to_s3_pkl(gs_test, s3_client, bucket_name, os.path.join(s3_data_ver_dir_path,'gs_test.pkl'))"
   ]
  }
 ],
 "metadata": {
  "kernelspec": {
   "display_name": "Python 3",
   "language": "python",
   "name": "python3"
  },
  "language_info": {
   "codemirror_mode": {
    "name": "ipython",
    "version": 3
   },
   "file_extension": ".py",
   "mimetype": "text/x-python",
   "name": "python",
   "nbconvert_exporter": "python",
   "pygments_lexer": "ipython3",
   "version": "3.8.5"
  }
 },
 "nbformat": 4,
 "nbformat_minor": 4
}
