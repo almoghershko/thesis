{
 "cells": [
  {
   "cell_type": "markdown",
   "metadata": {},
   "source": [
    "# Initialization"
   ]
  },
  {
   "cell_type": "code",
   "execution_count": 1,
   "metadata": {},
   "outputs": [
    {
     "name": "stdout",
     "output_type": "stream",
     "text": [
      "Requirement already satisfied: boto3 in /opt/conda/lib/python3.9/site-packages (1.20.20)\n",
      "Requirement already satisfied: progressbar2 in /opt/conda/lib/python3.9/site-packages (3.55.0)\n",
      "Requirement already satisfied: sfdmap in /opt/conda/lib/python3.9/site-packages (0.1.1)\n",
      "Requirement already satisfied: GPUtil in /opt/conda/lib/python3.9/site-packages (1.4.0)\n",
      "Requirement already satisfied: s3transfer<0.6.0,>=0.5.0 in /opt/conda/lib/python3.9/site-packages (from boto3) (0.5.0)\n",
      "Requirement already satisfied: botocore<1.24.0,>=1.23.20 in /opt/conda/lib/python3.9/site-packages (from boto3) (1.23.20)\n",
      "Requirement already satisfied: jmespath<1.0.0,>=0.7.1 in /opt/conda/lib/python3.9/site-packages (from boto3) (0.10.0)\n",
      "Requirement already satisfied: python-utils>=2.3.0 in /opt/conda/lib/python3.9/site-packages (from progressbar2) (2.5.6)\n",
      "Requirement already satisfied: six in /opt/conda/lib/python3.9/site-packages (from progressbar2) (1.15.0)\n",
      "Requirement already satisfied: numpy in /opt/conda/lib/python3.9/site-packages (from sfdmap) (1.19.5)\n",
      "Requirement already satisfied: urllib3<1.27,>=1.25.4 in /opt/conda/lib/python3.9/site-packages (from botocore<1.24.0,>=1.23.20->boto3) (1.26.7)\n",
      "Requirement already satisfied: python-dateutil<3.0.0,>=2.1 in /opt/conda/lib/python3.9/site-packages (from botocore<1.24.0,>=1.23.20->boto3) (2.8.2)\n"
     ]
    }
   ],
   "source": [
    "!pip install boto3 progressbar2 sfdmap GPUtil"
   ]
  },
  {
   "cell_type": "code",
   "execution_count": 2,
   "metadata": {},
   "outputs": [],
   "source": [
    "# imports\n",
    "import pandas as pd\n",
    "import numpy as np\n",
    "import os\n",
    "import sys\n",
    "import pickle\n",
    "from matplotlib import pyplot as plt\n",
    "import matplotlib\n",
    "import boto3\n",
    "\n",
    "# random seed\n",
    "seed = 42\n",
    "np.random.seed(seed)\n",
    "\n",
    "# local files paths\n",
    "local_home_dir_path = os.path.expanduser(\"~\")\n",
    "local_work_dir_path = os.path.join(local_home_dir_path, 'workdir3')\n",
    "local_code_dir_path = os.path.join(local_work_dir_path , 'code')\n",
    "\n",
    "# S3 file paths\n",
    "endpoint_url = 'https://s3-west.nrp-nautilus.io'\n",
    "bucket_name = 'tau-astro'\n",
    "prefix = 'almogh'\n",
    "s3_work_dir_path = os.path.join(prefix, 'workdir3')\n",
    "s3_saves_dir_path = os.path.join(s3_work_dir_path , 'model_saves')\n",
    "s3_data_dir_path = os.path.join(s3_work_dir_path , 'data')\n",
    "s3_data_ver_dir_path = os.path.join(s3_data_dir_path,'HighSNR_12K_V1')\n",
    "\n",
    "s3_client = boto3.client(\"s3\", endpoint_url=endpoint_url)\n",
    "\n",
    "# adding code folder to path\n",
    "sys.path.insert(1, local_code_dir_path)\n",
    "from s3 import to_s3_npy, to_s3_pkl, from_s3_npy, from_s3_pkl, to_s3_fig"
   ]
  },
  {
   "cell_type": "markdown",
   "metadata": {},
   "source": [
    "# Train RF"
   ]
  },
  {
   "cell_type": "code",
   "execution_count": 3,
   "metadata": {},
   "outputs": [],
   "source": [
    "save_RF = False\n",
    "save_RF_name = 'standard_RF_max_depth_10'\n",
    "save_RF_dis_mat = False\n",
    "\n",
    "load_RF = True\n",
    "load_RF_name = 'simple___2021_11_27___22_09_00___standard_RF_max_depth_10'"
   ]
  },
  {
   "cell_type": "code",
   "execution_count": 4,
   "metadata": {},
   "outputs": [],
   "source": [
    "assert not (save_RF and load_RF), '\"save\" and \"load\" cant both be \"True\"'"
   ]
  },
  {
   "cell_type": "markdown",
   "metadata": {},
   "source": [
    "## Loading data"
   ]
  },
  {
   "cell_type": "code",
   "execution_count": 5,
   "metadata": {},
   "outputs": [
    {
     "name": "stdout",
     "output_type": "stream",
     "text": [
      "Loading data and creating dataset\n",
      "loading from uri: s3://tau-astro/almogh/workdir3/data/HighSNR_12K_V1/spec.npy\n",
      "loading from uri: s3://tau-astro/almogh/workdir3/data/wl_grid.npy\n",
      "Original wavelength grid: 1725.0-9762.5 [A], length=16076.\n",
      "New wavelength grid: 3825.0-7725.0 [A], length=7800.\n",
      "Number of samples after filtering the slice: 11877\n"
     ]
    },
    {
     "data": {
      "image/png": "[encoded data removed]",
      "text/plain": [
       "<Figure size 864x576 with 1 Axes>"
      ]
     },
     "metadata": {
      "needs_background": "light"
     },
     "output_type": "display_data"
    }
   ],
   "source": [
    "# wavelength grid limits\n",
    "start_i = 4200\n",
    "end_i = 12000\n",
    "    \n",
    "# load data\n",
    "print('Loading data and creating dataset')\n",
    "X = from_s3_npy(s3_client, bucket_name, os.path.join(s3_data_ver_dir_path, 'spec.npy'))\n",
    "wl_grid = from_s3_npy(s3_client, bucket_name, os.path.join(s3_data_dir_path, 'wl_grid.npy'))\n",
    "original_wl_str = 'Original wavelength grid: {0}-{1} [A], length={2}.'.format(min(wl_grid),max(wl_grid),len(wl_grid))\n",
    "print(original_wl_str)\n",
    "\n",
    "# get the limits of every sample\n",
    "X_valid = ~np.isnan(X)\n",
    "sample_i_start = np.argmax(X_valid, axis=1)\n",
    "sample_i_end = X.shape[1] - np.argmax(np.fliplr(X_valid), axis=1) # non inclusive\n",
    "support = X_valid.sum(axis=0)/X_valid.shape[0]\n",
    "\n",
    "# make sure no holes\n",
    "assert all([i<=2 for i in np.sum(np.abs(np.diff(X_valid, axis=1)), axis=1)]), 'some rows in X contain fragmented spans!'\n",
    "\n",
    "# limit indices (taking only a slice of the data with full support)\n",
    "new_wl_str = 'New wavelength grid: {0}-{1} [A], length={2}.'.format(wl_grid[start_i],wl_grid[end_i],end_i-start_i)\n",
    "print(new_wl_str)\n",
    "\n",
    "# plot the support of the dataset\n",
    "fig,ax = plt.subplots(figsize=(12,8))\n",
    "ax.plot(wl_grid, support)\n",
    "plt.grid()\n",
    "plt.axvline(x=wl_grid[start_i], ymin=0, ymax=1, c='r')\n",
    "plt.axvline(x=wl_grid[end_i], ymin=0, ymax=1, c='r')\n",
    "ax.set_xlabel('wavelength [A]')\n",
    "ax.set_ylabel('support %')\n",
    "ax.set_title('Dataset support')\n",
    "\n",
    "# taking only the samples with full support over the slice\n",
    "I_slice = np.array([i for i in range(X_valid.shape[0]) if (sample_i_start[i]<=start_i and sample_i_end[i]>end_i)])\n",
    "samples_str = 'Number of samples after filtering the slice: {0}'.format(len(I_slice))\n",
    "print(samples_str)\n",
    "X = X[I_slice,start_i:end_i]\n",
    "wl_grid = wl_grid[start_i:end_i]\n",
    "assert np.sum(np.isnan(X))==0, 'There are still NaN left after filtering.'"
   ]
  },
  {
   "cell_type": "markdown",
   "metadata": {},
   "source": [
    "## Creating train and test sets for RF"
   ]
  },
  {
   "cell_type": "code",
   "execution_count": 6,
   "metadata": {},
   "outputs": [
    {
     "name": "stdout",
     "output_type": "stream",
     "text": [
      "Creating synthetic data\n"
     ]
    },
    {
     "name": "stderr",
     "output_type": "stream",
     "text": [
      "100% (7800 of 7800) |####################| Elapsed Time: 0:00:02 Time:  0:00:02\n"
     ]
    },
    {
     "name": "stdout",
     "output_type": "stream",
     "text": [
      "Merging\n"
     ]
    }
   ],
   "source": [
    "# creaet synthetic samples\n",
    "print('Creating synthetic data')\n",
    "shifts = False\n",
    "if shifts:\n",
    "    from CustomRandomForest import return_synthetic_data_shift, fix_nan_shifts\n",
    "    X_syn = return_synthetic_data_shift(X, 10, 3, seed)\n",
    "    X_syn = fix_nan_shifts(X_syn,10)\n",
    "else:\n",
    "    from CustomRandomForest import return_synthetic_data\n",
    "    X_syn = return_synthetic_data(X, seed)\n",
    "\n",
    "# merge the data\n",
    "print('Merging')\n",
    "from uRF_SDSS import merge_work_and_synthetic_samples\n",
    "Z, y = merge_work_and_synthetic_samples(X, X_syn)\n",
    "\n",
    "# train-test split\n",
    "from sklearn.model_selection import train_test_split\n",
    "Z_train, Z_test, y_train, y_test, I_train, I_test = train_test_split(Z, y, np.arange(len(y)), train_size=20000, random_state=seed)"
   ]
  },
  {
   "cell_type": "markdown",
   "metadata": {},
   "source": [
    "## Fit a random forest"
   ]
  },
  {
   "cell_type": "code",
   "execution_count": 7,
   "metadata": {},
   "outputs": [
    {
     "name": "stdout",
     "output_type": "stream",
     "text": [
      "loading from folder (S3): almogh/workdir3/model_saves/RF/simple___2021_11_27___22_09_00___standard_RF_max_depth_10\n",
      "loading from uri: s3://tau-astro/almogh/workdir3/model_saves/RF/simple___2021_11_27___22_09_00___standard_RF_max_depth_10/I_slice.npy\n",
      "loading from uri: s3://tau-astro/almogh/workdir3/model_saves/RF/simple___2021_11_27___22_09_00___standard_RF_max_depth_10/I_train.npy\n",
      "loading from uri: s3://tau-astro/almogh/workdir3/model_saves/RF/simple___2021_11_27___22_09_00___standard_RF_max_depth_10/wl_grid.npy\n",
      "loading from uri: s3://tau-astro/almogh/workdir3/model_saves/RF/simple___2021_11_27___22_09_00___standard_RF_max_depth_10/crf.pkl\n"
     ]
    }
   ],
   "source": [
    "if load_RF:\n",
    "    \n",
    "    s3_load_dir_path = os.path.join(s3_saves_dir_path, 'RF', load_RF_name)\n",
    "    print('loading from folder (S3): {0}'.format(s3_load_dir_path))\n",
    "    \n",
    "    I_slice = from_s3_npy(s3_client, bucket_name, os.path.join(s3_load_dir_path, 'I_slice.npy'))\n",
    "    I_train = from_s3_npy(s3_client, bucket_name, os.path.join(s3_load_dir_path, 'I_train.npy'))\n",
    "    wl_grid = from_s3_npy(s3_client, bucket_name, os.path.join(s3_load_dir_path, 'wl_grid.npy'))\n",
    "    \n",
    "    from CustomRandomForest import CustomRandomForest\n",
    "    rf = CustomRandomForest.load_s3(s3_client, bucket_name, os.path.join(s3_load_dir_path, 'crf.pkl'))\n",
    "    \n",
    "else:\n",
    "\n",
    "    # RF parameters\n",
    "    N_trees = 500\n",
    "    min_span = len(wl_grid)\n",
    "    max_span = len(wl_grid)\n",
    "    min_samples_split = 1000\n",
    "    max_features = 'sqrt'\n",
    "    max_samples = 1.0\n",
    "    max_depth = 10\n",
    "    N_snr_bins = 1\n",
    "\n",
    "    # create a random forest\n",
    "    from CustomRandomForest import CustomRandomForest\n",
    "    rf = CustomRandomForest(N_trees=N_trees,\n",
    "                            min_span=min_span,\n",
    "                            max_span=max_span,\n",
    "                            min_samples_split=min_samples_split,\n",
    "                            max_features=max_features,\n",
    "                            max_samples=max_samples,\n",
    "                            max_depth=max_depth\n",
    "                           )\n",
    "\n",
    "    # fit the forest to the data\n",
    "    rf.fit(Z_train, y_train)\n",
    "\n",
    "    if save_RF:\n",
    "\n",
    "        # create a save dir\n",
    "        from datetime import datetime\n",
    "        s3_save_dir_path = os.path.join(s3_saves_dir_path, 'RF', 'simple___' + datetime.now().strftime(\"%Y_%m_%d___%H_%M_%S\") + '___' + save_RF_name)\n",
    "        print('save folder (S3): ' + s3_save_dir_path)\n",
    "\n",
    "        # save some data\n",
    "        print('Saving numpy arrays')\n",
    "        to_s3_npy(I_slice, s3_client, bucket_name, os.path.join(s3_save_dir_path, 'I_slice.npy'))\n",
    "        to_s3_npy(I_train, s3_client, bucket_name, os.path.join(s3_save_dir_path, 'I_train.npy'))\n",
    "        to_s3_npy(wl_grid, s3_client, bucket_name, os.path.join(s3_save_dir_path, 'wl_grid.npy'))\n",
    "\n",
    "        # save the random forest\n",
    "        print('Saving the random forest')\n",
    "        rf.save_s3(s3_client, bucket_name, os.path.join(s3_save_dir_path, 'crf.pkl'))"
   ]
  },
  {
   "cell_type": "markdown",
   "metadata": {},
   "source": [
    "## Evaluate the RF"
   ]
  },
  {
   "cell_type": "code",
   "execution_count": 8,
   "metadata": {},
   "outputs": [],
   "source": [
    "if not load_RF:\n",
    "\n",
    "    print('Predict on training set')\n",
    "    y_hat_train = rf.predict(Z_train)\n",
    "\n",
    "    print('Predict on test set')\n",
    "    y_hat_test = rf.predict(Z_test)\n",
    "\n",
    "    print('Evaluating')\n",
    "    from sklearn.metrics import classification_report\n",
    "    train_set_report = classification_report(y_train, y_hat_train)\n",
    "    test_set_report = classification_report(y_test, y_hat_test)\n",
    "    print('TRAININ-SET:')\n",
    "    print(train_set_report )\n",
    "    print('TEST-SET:')\n",
    "    print(test_set_report)\n",
    "\n",
    "    if save_RF:\n",
    "\n",
    "\n",
    "\n",
    "        from CustomRandomForest import log_s3\n",
    "        log_s3(s3_client, bucket_name, path=os.path.join(s3_save_dir_path, 'RF_log.txt'),\n",
    "            data = '\\n'.join([original_wl_str, new_wl_str, samples_str]),\n",
    "            N_RF_train_real = sum(y_train==1),\n",
    "            N_RF_train_syn = len(y_train)-sum(y_train==1),\n",
    "            N_RF_test_real = sum(y_test==1),\n",
    "            N_RF_test_syn = len(y_test)-sum(y_test==1),\n",
    "            N_trees = rf.N_trees,\n",
    "            min_span = rf.min_span,\n",
    "            max_span = rf.max_span,\n",
    "            min_samples_split = rf.min_samples_split,\n",
    "            max_features = rf.max_features,\n",
    "            max_samples = rf.max_samples,\n",
    "            max_depth = rf.max_depth,\n",
    "            train_set_report = '\\n'+train_set_report,\n",
    "            test_set_report = '\\n'+test_set_report\n",
    "            )"
   ]
  },
  {
   "cell_type": "markdown",
   "metadata": {},
   "source": [
    "###  Plots"
   ]
  },
  {
   "cell_type": "code",
   "execution_count": 9,
   "metadata": {},
   "outputs": [],
   "source": [
    "if not load_RF:\n",
    "\n",
    "    p_test = rf.predict_proba(Z_test)\n",
    "    p_train = rf.predict_proba(Z_train)\n",
    "\n",
    "    fig = plt.figure()\n",
    "    plt.hist(p_train[y_train==1,1], density=True, bins=20, alpha=0.5, label='train - real')\n",
    "    plt.hist(p_train[y_train==2,2], density=True, bins=20, alpha=0.5, label='train - synthetic')\n",
    "    plt.hist(p_test[y_test==1,1], density=True, bins=20, alpha=0.5, label='test - real')\n",
    "    plt.hist(p_test[y_test==2,2], density=True, bins=20, alpha=0.5, label='test - synthetic')\n",
    "    plt.legend()\n",
    "    plt.title(\"probability distribution soft predictions\")\n",
    "    plt.ylabel(\"Pr\")\n",
    "    plt.xlabel(\"predicted probability\")\n",
    "\n",
    "    if save_RF:\n",
    "        to_s3_fig(fig, s3_client, bucket_name, os.path.join(s3_save_dir_path, 'prob_dist.png'))"
   ]
  },
  {
   "cell_type": "markdown",
   "metadata": {},
   "source": [
    "## Calculate similarity matrix, weirdness scores and T-SNE"
   ]
  },
  {
   "cell_type": "code",
   "execution_count": 10,
   "metadata": {},
   "outputs": [
    {
     "name": "stdout",
     "output_type": "stream",
     "text": [
      "loading...\n",
      "loading from uri: s3://tau-astro/almogh/workdir3/model_saves/RF/simple___2021_11_27___22_09_00___standard_RF_max_depth_10/X.npy\n",
      "loading from uri: s3://tau-astro/almogh/workdir3/model_saves/RF/simple___2021_11_27___22_09_00___standard_RF_max_depth_10/X_leaves.npy\n",
      "loading from uri: s3://tau-astro/almogh/workdir3/model_saves/RF/simple___2021_11_27___22_09_00___standard_RF_max_depth_10/Y_hat.npy\n",
      "loading from uri: s3://tau-astro/almogh/workdir3/model_saves/RF/simple___2021_11_27___22_09_00___standard_RF_max_depth_10/sim_mat.npy\n"
     ]
    }
   ],
   "source": [
    "if load_RF:\n",
    "    \n",
    "    print('loading...')\n",
    "    X = from_s3_npy(s3_client, bucket_name, os.path.join(s3_load_dir_path, 'X.npy'))\n",
    "    X_leaves = from_s3_npy(s3_client, bucket_name, os.path.join(s3_load_dir_path, 'X_leaves.npy'))\n",
    "    Y_hat = from_s3_npy(s3_client, bucket_name, os.path.join(s3_load_dir_path, 'Y_hat.npy'))\n",
    "    sim_mat = from_s3_npy(s3_client, bucket_name, os.path.join(s3_load_dir_path, 'sim_mat.npy'))\n",
    "    \n",
    "else:\n",
    "\n",
    "    # Throwing the RF's test set, and the train synthetic spectra\n",
    "    \"\"\"\n",
    "    because merge_work_and_synthetic_samples concatenates the N synthetic spectra after the N real spectra,\n",
    "    all the train indices up to N are real.\n",
    "    \"\"\"\n",
    "    X = X[I_train[I_train<X.shape[0]]]\n",
    "\n",
    "    print('Applying the RF on the full dataset (real spectra only)')\n",
    "    X_leaves = rf.apply(X)\n",
    "\n",
    "    print('Predicting fully')\n",
    "    Y_hat = rf.predict_full_from_leaves(X_leaves)\n",
    "\n",
    "    print('Calculating the similarity matrix')\n",
    "    from CustomRandomForest import build_similarity_matrix\n",
    "    sim_mat = build_similarity_matrix(X_leaves, Y_hat)\n",
    "\n",
    "    if save_RF:\n",
    "\n",
    "        print('Saving the data')\n",
    "        to_s3_npy(X, s3_client, bucket_name, os.path.join(s3_save_dir_path, 'X.npy'))\n",
    "        to_s3_npy(X_leaves, s3_client, bucket_name, os.path.join(s3_save_dir_path, 'X_leaves.npy'))\n",
    "        to_s3_npy(Y_hat, s3_client, bucket_name, os.path.join(s3_save_dir_path, 'Y_hat.npy'))\n",
    "\n",
    "        print('Saving the similarity matrix')\n",
    "        to_s3_npy(sim_mat, s3_client, bucket_name, os.path.join(s3_save_dir_path, 'sim_mat.npy'))"
   ]
  },
  {
   "cell_type": "code",
   "execution_count": 11,
   "metadata": {},
   "outputs": [
    {
     "name": "stdout",
     "output_type": "stream",
     "text": [
      "Calculating the weirdness scores\n"
     ]
    }
   ],
   "source": [
    "print('Calculating the weirdness scores')\n",
    "dis_mat = 1 - sim_mat\n",
    "weird_scores = np.mean(dis_mat, axis=1)\n",
    "\n",
    "if save_RF:\n",
    "\n",
    "    print('Saving the weirdness scores')\n",
    "    to_s3_npy(weird_scores, s3_client, bucket_name, os.path.join(s3_save_dir_path, 'weird_scores.npy'))\n",
    "\n",
    "    if save_RF_dis_mat:\n",
    "        print('Saving the dissimilarity matrix')\n",
    "        to_s3_npy(dis_mat, s3_client, bucket_name, os.path.join(s3_save_dir_path, 'dis_mat.npy'))"
   ]
  },
  {
   "cell_type": "code",
   "execution_count": 12,
   "metadata": {},
   "outputs": [
    {
     "name": "stdout",
     "output_type": "stream",
     "text": [
      "loading...\n",
      "loading from uri: s3://tau-astro/almogh/workdir3/model_saves/RF/simple___2021_11_27___22_09_00___standard_RF_max_depth_10/tsne.npy\n"
     ]
    }
   ],
   "source": [
    "if load_RF:\n",
    "    \n",
    "    print('loading...')\n",
    "    sne = from_s3_npy(s3_client, bucket_name, os.path.join(s3_load_dir_path, 'tsne.npy'))\n",
    "    \n",
    "else:\n",
    "\n",
    "    print('Running T-SNE')\n",
    "    from sklearn.manifold import TSNE\n",
    "    sne = TSNE(n_components=2, perplexity=25, metric='precomputed', verbose=1, random_state=seed).fit_transform(dis_mat)\n",
    "\n",
    "    if save_RF:\n",
    "\n",
    "        print('Saving T-SNE')\n",
    "        to_s3_npy(sne, s3_client, bucket_name, os.path.join(s3_save_dir_path, 'tsne.npy'))"
   ]
  },
  {
   "cell_type": "markdown",
   "metadata": {},
   "source": [
    "# Plots"
   ]
  },
  {
   "cell_type": "code",
   "execution_count": 13,
   "metadata": {},
   "outputs": [],
   "source": [
    "if not load_RF:\n",
    "    \n",
    "    fig = plt.figure()\n",
    "    tmp = plt.hist(weird_scores, bins=60, color=\"g\")\n",
    "    plt.title(\"Weirdness score histogram\")\n",
    "    plt.ylabel(\"N\")\n",
    "    plt.xlabel(\"weirdness score\")\n",
    "\n",
    "    if save_RF:\n",
    "        to_s3_fig(fig, s3_client, bucket_name, os.path.join(s3_save_dir_path, 'weirdness_scores_histogram.png'))"
   ]
  },
  {
   "cell_type": "code",
   "execution_count": 14,
   "metadata": {},
   "outputs": [],
   "source": [
    "if not load_RF:\n",
    "\n",
    "    distances = dis_mat[np.tril_indices(dis_mat.shape[0], -1)]\n",
    "\n",
    "    fig = plt.figure()\n",
    "    tmp = plt.hist(distances, bins=100)\n",
    "    plt.title(\"Distances histogram\")\n",
    "    plt.ylabel(\"N\")\n",
    "    plt.xlabel(\"distance\")\n",
    "\n",
    "    if save_RF:\n",
    "        to_s3_fig(fig, s3_client, bucket_name, os.path.join(s3_save_dir_path, 'distances_histogram.png'))"
   ]
  },
  {
   "cell_type": "code",
   "execution_count": 15,
   "metadata": {},
   "outputs": [],
   "source": [
    "if not load_RF:\n",
    "    \n",
    "    sne_f1 = sne[:, 0]\n",
    "    sne_f2 = sne[:, 1]\n",
    "\n",
    "    fig = plt.figure(figsize=(10,7))\n",
    "    ax = fig.add_subplot(111)\n",
    "    im_scat = ax.scatter(sne_f1, sne_f2, s=3, c=weird_scores, cmap=plt.cm.get_cmap('jet'), picker=1)\n",
    "    ax.set_xlabel('t-SNE Feature 1')\n",
    "    ax.set_ylabel('t-SNE Feature 2')\n",
    "    ax.set_title(r't-SNE Scatter Plot Colored by Weirdness score')\n",
    "    clb = fig.colorbar(im_scat, ax=ax)\n",
    "    clb.ax.set_ylabel('Weirdness', rotation=270)\n",
    "    plt.show()\n",
    "\n",
    "    if save_RF:\n",
    "        to_s3_fig(fig, s3_client, bucket_name, os.path.join(s3_save_dir_path, 'tsne_colored_by_weirdness.png'))"
   ]
  },
  {
   "cell_type": "code",
   "execution_count": 16,
   "metadata": {},
   "outputs": [
    {
     "name": "stdout",
     "output_type": "stream",
     "text": [
      "loading from uri: s3://tau-astro/almogh/workdir3/data/HighSNR_12K_V1/gs.pkl\n"
     ]
    }
   ],
   "source": [
    "gs = from_s3_pkl(s3_client, bucket_name, os.path.join(s3_data_ver_dir_path, 'gs.pkl'))\n",
    "I_real_train = I_train[I_train<len(I_slice)]\n",
    "snr = gs.snMedian.iloc[I_slice[I_real_train]]"
   ]
  },
  {
   "cell_type": "code",
   "execution_count": 17,
   "metadata": {},
   "outputs": [],
   "source": [
    "if not load_RF:\n",
    "    \n",
    "    fig = plt.figure(figsize=(10,7))\n",
    "    ax = fig.add_subplot(111)\n",
    "    import matplotlib.colors as colors\n",
    "    im_scat = ax.scatter(sne_f1, sne_f2, s=3, c=snr, cmap=plt.cm.get_cmap('jet'), norm=colors.LogNorm(vmin=snr.min(), vmax=80))\n",
    "    ax.set_xlabel('t-SNE Feature 1')\n",
    "    ax.set_ylabel('t-SNE Feature 2')\n",
    "    ax.set_title(r't-SNE Scatter Plot Colored by SNR')\n",
    "    clb = fig.colorbar(im_scat, ax=ax)\n",
    "    clb.ax.set_ylabel('SNR', rotation=270)\n",
    "    plt.show()\n",
    "\n",
    "if save_RF:\n",
    "    to_s3_fig(fig, s3_client, bucket_name, os.path.join(s3_save_dir_path, 'tsne_colored_by_snr.png'))"
   ]
  },
  {
   "cell_type": "markdown",
   "metadata": {
    "tags": []
   },
   "source": [
    "## calculating decisions path"
   ]
  },
  {
   "cell_type": "markdown",
   "metadata": {},
   "source": [
    "if save_RF:\n",
    "    \n",
    "    # Creating the decision paths dictionary\n",
    "    from progressbar import progressbar\n",
    "    decision_paths = dict()\n",
    "    for k in progressbar(range(len(rf.estimators_))):\n",
    "        i_real = np.where(Y_hat[:,k]==1)[0] # indices of all samples which the k-th tree classified as \"real\"\n",
    "        i_sample,i_node = rf.estimators_[k].tree_.decision_path(X[i_real,rf.tree_i_start[k]:rf.tree_i_end[k]].astype(np.float32)).nonzero()\n",
    "        i_feature = rf.tree_i_start[k]+rf.estimators_[k].tree_.feature[i_node]\n",
    "        for i in range(len(i_real)):\n",
    "            temp_feature = i_feature[i_sample==i]\n",
    "            decision_paths[(i_real[i],k)] = temp_feature[:-1] # the last node is a leaf (not a decision node)\n",
    "\n",
    "    # saving it\n",
    "    with open(os.path.join(save_dir_path, 'decision_paths.pkl'), 'wb') as f:\n",
    "        pickle.dump(decision_paths, f)"
   ]
  },
  {
   "cell_type": "markdown",
   "metadata": {},
   "source": [
    "# Siamese Networks"
   ]
  },
  {
   "cell_type": "code",
   "execution_count": 18,
   "metadata": {},
   "outputs": [
    {
     "name": "stdout",
     "output_type": "stream",
     "text": [
      "GPUs:\n",
      "(1)\tGeForce GTX 1080 Ti\n"
     ]
    }
   ],
   "source": [
    "import GPUtil\n",
    "print('GPUs:\\n{0}'.format('\\n'.join(['('+str(i+1)+')\\t'+gpu.name for i,gpu in enumerate(GPUtil.getGPUs())])))"
   ]
  },
  {
   "cell_type": "code",
   "execution_count": 19,
   "metadata": {},
   "outputs": [],
   "source": [
    "# Make sure a GPU is available\n",
    "import tensorflow as tf\n",
    "assert tf.config.list_physical_devices('GPU')[0].device_type == 'GPU', 'GPU is not available!'"
   ]
  },
  {
   "cell_type": "code",
   "execution_count": 20,
   "metadata": {},
   "outputs": [],
   "source": [
    "save_NN = True\n",
    "save_NN_name = 'Kernels_31_Filters_64_32_16_8_4_Hiddens_512_128_tanh'\n",
    "\n",
    "load_NN = False\n",
    "load_NN_name = ''"
   ]
  },
  {
   "cell_type": "code",
   "execution_count": 21,
   "metadata": {},
   "outputs": [],
   "source": [
    "assert not (save_NN and load_NN), '\"save\" and \"load\" cant both be \"True\"'"
   ]
  },
  {
   "cell_type": "markdown",
   "metadata": {},
   "source": [
    "## Creating the model"
   ]
  },
  {
   "cell_type": "code",
   "execution_count": 22,
   "metadata": {},
   "outputs": [],
   "source": [
    "from tensorflow.keras import applications\n",
    "from tensorflow.keras import activations\n",
    "from tensorflow.keras import layers\n",
    "from tensorflow.keras import losses\n",
    "from tensorflow.keras import optimizers\n",
    "from tensorflow.keras import metrics\n",
    "from tensorflow.keras import Model\n",
    "from tensorflow.keras import utils\n",
    "from tensorflow.keras import initializers\n",
    "\n",
    "tf.random.set_seed(seed)"
   ]
  },
  {
   "cell_type": "code",
   "execution_count": 23,
   "metadata": {},
   "outputs": [
    {
     "name": "stderr",
     "output_type": "stream",
     "text": [
      "2021-12-06 21:36:19.115656: I tensorflow/core/platform/cpu_feature_guard.cc:142] This TensorFlow binary is optimized with oneAPI Deep Neural Network Library (oneDNN) to use the following CPU instructions in performance-critical operations:  AVX2 FMA\n",
      "To enable them in other operations, rebuild TensorFlow with the appropriate compiler flags.\n",
      "2021-12-06 21:36:19.775156: I tensorflow/core/common_runtime/gpu/gpu_device.cc:1510] Created device /job:localhost/replica:0/task:0/device:GPU:0 with 10421 MB memory:  -> device: 0, name: GeForce GTX 1080 Ti, pci bus id: 0000:63:00.0, compute capability: 6.1\n"
     ]
    },
    {
     "name": "stdout",
     "output_type": "stream",
     "text": [
      "Model: \"model\"\n",
      "_________________________________________________________________\n",
      "Layer (type)                 Output Shape              Param #   \n",
      "=================================================================\n",
      "input_1 (InputLayer)         [(None, 7800, 1)]         0         \n",
      "_________________________________________________________________\n",
      "conv1d (Conv1D)              (None, 7800, 64)          2048      \n",
      "_________________________________________________________________\n",
      "batch_normalization (BatchNo (None, 7800, 64)          256       \n",
      "_________________________________________________________________\n",
      "tf.nn.relu (TFOpLambda)      (None, 7800, 64)          0         \n",
      "_________________________________________________________________\n",
      "average_pooling1d (AveragePo (None, 3900, 64)          0         \n",
      "_________________________________________________________________\n",
      "conv1d_1 (Conv1D)            (None, 3900, 32)          63520     \n",
      "_________________________________________________________________\n",
      "batch_normalization_1 (Batch (None, 3900, 32)          128       \n",
      "_________________________________________________________________\n",
      "tf.nn.relu_1 (TFOpLambda)    (None, 3900, 32)          0         \n",
      "_________________________________________________________________\n",
      "average_pooling1d_1 (Average (None, 1950, 32)          0         \n",
      "_________________________________________________________________\n",
      "conv1d_2 (Conv1D)            (None, 1950, 16)          15888     \n",
      "_________________________________________________________________\n",
      "batch_normalization_2 (Batch (None, 1950, 16)          64        \n",
      "_________________________________________________________________\n",
      "tf.nn.relu_2 (TFOpLambda)    (None, 1950, 16)          0         \n",
      "_________________________________________________________________\n",
      "average_pooling1d_2 (Average (None, 975, 16)           0         \n",
      "_________________________________________________________________\n",
      "conv1d_3 (Conv1D)            (None, 975, 8)            3976      \n",
      "_________________________________________________________________\n",
      "batch_normalization_3 (Batch (None, 975, 8)            32        \n",
      "_________________________________________________________________\n",
      "tf.nn.relu_3 (TFOpLambda)    (None, 975, 8)            0         \n",
      "_________________________________________________________________\n",
      "average_pooling1d_3 (Average (None, 488, 8)            0         \n",
      "_________________________________________________________________\n",
      "conv1d_4 (Conv1D)            (None, 488, 4)            996       \n",
      "_________________________________________________________________\n",
      "batch_normalization_4 (Batch (None, 488, 4)            16        \n",
      "_________________________________________________________________\n",
      "tf.nn.relu_4 (TFOpLambda)    (None, 488, 4)            0         \n",
      "_________________________________________________________________\n",
      "average_pooling1d_4 (Average (None, 244, 4)            0         \n",
      "_________________________________________________________________\n",
      "flatten (Flatten)            (None, 976)               0         \n",
      "_________________________________________________________________\n",
      "dense (Dense)                (None, 512)               500224    \n",
      "_________________________________________________________________\n",
      "batch_normalization_5 (Batch (None, 512)               2048      \n",
      "_________________________________________________________________\n",
      "tf.nn.relu_5 (TFOpLambda)    (None, 512)               0         \n",
      "_________________________________________________________________\n",
      "dense_1 (Dense)              (None, 128)               65664     \n",
      "_________________________________________________________________\n",
      "batch_normalization_6 (Batch (None, 128)               512       \n",
      "_________________________________________________________________\n",
      "tf.math.tanh (TFOpLambda)    (None, 128)               0         \n",
      "=================================================================\n",
      "Total params: 655,372\n",
      "Trainable params: 653,844\n",
      "Non-trainable params: 1,528\n",
      "_________________________________________________________________\n",
      "Model: \"model_1\"\n",
      "__________________________________________________________________________________________________\n",
      "Layer (type)                    Output Shape         Param #     Connected to                     \n",
      "==================================================================================================\n",
      "first_input (InputLayer)        [(None, 7800)]       0                                            \n",
      "__________________________________________________________________________________________________\n",
      "second_input (InputLayer)       [(None, 7800)]       0                                            \n",
      "__________________________________________________________________________________________________\n",
      "model (Functional)              (None, 128)          655372      first_input[0][0]                \n",
      "                                                                 second_input[0][0]               \n",
      "__________________________________________________________________________________________________\n",
      "distance_layer (DistanceLayer)  (None,)              0           model[0][0]                      \n",
      "                                                                 model[1][0]                      \n",
      "==================================================================================================\n",
      "Total params: 655,372\n",
      "Trainable params: 653,844\n",
      "Non-trainable params: 1,528\n",
      "__________________________________________________________________________________________________\n"
     ]
    }
   ],
   "source": [
    "from NN import DistanceLayer, SiameseModel\n",
    "\n",
    "# ====================================\n",
    "# SIAMESE NETWORK\n",
    "# ====================================\n",
    "\n",
    "if not load_NN:\n",
    "    \n",
    "    # ----------------------\n",
    "    # Embedding Network\n",
    "    # ----------------------\n",
    "    \n",
    "    hidden_size = 512\n",
    "    embedding_size = 128\n",
    "\n",
    "    # input layer\n",
    "    x_in = layers.Input(shape=(len(wl_grid), 1))\n",
    "\n",
    "    # adding the network layers\n",
    "    x = x_in\n",
    "    #\n",
    "    x = layers.Conv1D(64, 31, activation=None, padding='same',\n",
    "                      kernel_initializer=initializers.GlorotUniform(seed=seed))(x)\n",
    "    x = layers.BatchNormalization()(x)\n",
    "    x = activations.relu(x)\n",
    "    x = layers.AveragePooling1D( 2, padding='same')(x)\n",
    "    #\n",
    "    x = layers.Conv1D(32, 31, activation=None, padding='same',\n",
    "                      kernel_initializer=initializers.GlorotUniform(seed=seed))(x)\n",
    "    x = layers.BatchNormalization()(x)\n",
    "    x = activations.relu(x)\n",
    "    x = layers.AveragePooling1D( 2, padding='same')(x)\n",
    "    #\n",
    "    x = layers.Conv1D(16, 31, activation=None, padding='same',\n",
    "                      kernel_initializer=initializers.GlorotUniform(seed=seed))(x)\n",
    "    x = layers.BatchNormalization()(x)\n",
    "    x = activations.relu(x)\n",
    "    x = layers.AveragePooling1D( 2, padding='same')(x)\n",
    "    #\n",
    "    x = layers.Conv1D(8, 31, activation=None, padding='same',\n",
    "                      kernel_initializer=initializers.GlorotUniform(seed=seed))(x)\n",
    "    x = layers.BatchNormalization()(x)\n",
    "    x = activations.relu(x)\n",
    "    x = layers.AveragePooling1D( 2, padding='same')(x)\n",
    "    #\n",
    "    x = layers.Conv1D(4, 31, activation=None, padding='same',\n",
    "                      kernel_initializer=initializers.GlorotUniform(seed=seed))(x)\n",
    "    x = layers.BatchNormalization()(x)\n",
    "    x = activations.relu(x)\n",
    "    x = layers.AveragePooling1D( 2, padding='same')(x)\n",
    "    #\n",
    "    x = layers.Flatten()(x)\n",
    "    x = layers.Dense(hidden_size,\n",
    "                    kernel_initializer=initializers.GlorotUniform(seed=seed))(x)\n",
    "    x = layers.BatchNormalization()(x)\n",
    "    x = activations.relu(x)\n",
    "    x = layers.Dense(embedding_size,\n",
    "                    kernel_initializer=initializers.GlorotUniform(seed=seed))(x)\n",
    "    x = layers.BatchNormalization()(x)\n",
    "    x = activations.tanh(x)\n",
    "    x_out = x\n",
    "\n",
    "    # creating the model\n",
    "    embedding = Model(x_in, x_out)\n",
    "    embedding.summary()\n",
    "    \n",
    "    # ----------------------\n",
    "    # Siamese network\n",
    "    # ----------------------\n",
    "    \n",
    "    first_input = layers.Input(name=\"first_input\", shape=(len(wl_grid)))\n",
    "    second_input = layers.Input(name=\"second_input\", shape=(len(wl_grid)))\n",
    "\n",
    "    distance = DistanceLayer()(\n",
    "        embedding(first_input),\n",
    "        embedding(second_input)\n",
    "    )\n",
    "\n",
    "    siamese_network = Model(\n",
    "        inputs=[first_input, second_input], outputs=distance\n",
    "    )\n",
    "    siamese_network.summary()\n",
    "    \n",
    "else:\n",
    "    \n",
    "    # building the load path\n",
    "    load_NN_dir_path = os.path.join(saves_dir_path, 'NN', load_NN_name)\n",
    "    model_path = os.path.join(load_NN_dir_path, 'model')\n",
    "    \n",
    "    # loading the saved model\n",
    "    siamese_network = tf.keras.models.load_model(path, custom_objects={'DistanceLayer': DistanceLayer})\n",
    "\n",
    "# ====================================\n",
    "# SIAMESE MODEL\n",
    "# ====================================\n",
    "siamese_model = SiameseModel(siamese_network)\n",
    "siamese_model.compile(optimizer=optimizers.Adam(0.001))"
   ]
  },
  {
   "cell_type": "markdown",
   "metadata": {},
   "source": [
    "## Creating data loaders"
   ]
  },
  {
   "cell_type": "code",
   "execution_count": 24,
   "metadata": {},
   "outputs": [],
   "source": [
    "if not load_NN:\n",
    "\n",
    "    from NN import DistillationDataGenerator\n",
    "\n",
    "    X_train, X_val, I_train, I_test = train_test_split(X, np.arange(X.shape[0]), train_size=9000, random_state=seed)\n",
    "\n",
    "    batch_size = 128\n",
    "\n",
    "    from NN import DistillationDataGenerator\n",
    "    train_gen = DistillationDataGenerator(X_train, dis_mat[I_train,:][:,I_train], shuffle=True, seed=seed, batch_size=batch_size)\n",
    "    val_gen = DistillationDataGenerator(X_val, dis_mat[I_test,:][:,I_test], shuffle=True, seed=seed, batch_size=batch_size)"
   ]
  },
  {
   "cell_type": "markdown",
   "metadata": {},
   "source": [
    "## Training the model"
   ]
  },
  {
   "cell_type": "code",
   "execution_count": 25,
   "metadata": {},
   "outputs": [
    {
     "name": "stdout",
     "output_type": "stream",
     "text": [
      "save NN folder (S3): almogh/workdir3/model_saves/NN/simple___2021_12_06___21_36_21___Kernels_31_Filters_64_32_16_8_4_Hiddens_512_128_tanh\n"
     ]
    }
   ],
   "source": [
    "if save_NN:\n",
    "    \n",
    "    # create a save dir\n",
    "    from datetime import datetime\n",
    "    s3_save_NN_dir_path = os.path.join(s3_saves_dir_path, 'NN', 'simple___' + datetime.now().strftime(\"%Y_%m_%d___%H_%M_%S\") + '___' + save_NN_name)\n",
    "    print('save NN folder (S3): ' + s3_save_NN_dir_path)"
   ]
  },
  {
   "cell_type": "code",
   "execution_count": 26,
   "metadata": {},
   "outputs": [
    {
     "name": "stdout",
     "output_type": "stream",
     "text": [
      "-------------------------------------\n",
      "epochs 1-50:\n",
      "-------------------------------------\n"
     ]
    },
    {
     "name": "stderr",
     "output_type": "stream",
     "text": [
      "2021-12-06 21:36:22.599432: I tensorflow/stream_executor/cuda/cuda_dnn.cc:369] Loaded cuDNN version 8101\n",
      "2021-12-06 21:36:23.476113: I tensorflow/compiler/mlir/mlir_graph_optimization_pass.cc:185] None of the MLIR Optimization Passes are enabled (registered 2)\n"
     ]
    },
    {
     "name": "stdout",
     "output_type": "stream",
     "text": [
      "Epoch 1/50\n",
      "71/71 [==============================] - 15s 185ms/step - loss: 0.1015 - val_loss: 0.0777\n",
      "Epoch 2/50\n",
      "71/71 [==============================] - 13s 179ms/step - loss: 0.0715 - val_loss: 0.0631\n",
      "Epoch 3/50\n",
      "71/71 [==============================] - 13s 178ms/step - loss: 0.0595 - val_loss: 0.0608\n",
      "Epoch 4/50\n",
      "71/71 [==============================] - 13s 178ms/step - loss: 0.0502 - val_loss: 0.0486\n",
      "Epoch 5/50\n",
      "71/71 [==============================] - 13s 178ms/step - loss: 0.0456 - val_loss: 0.0407\n",
      "Epoch 6/50\n",
      "71/71 [==============================] - 13s 178ms/step - loss: 0.0460 - val_loss: 0.0463\n",
      "Epoch 7/50\n",
      "71/71 [==============================] - 13s 178ms/step - loss: 0.0415 - val_loss: 0.0498\n",
      "Epoch 8/50\n",
      "71/71 [==============================] - 13s 178ms/step - loss: 0.0413 - val_loss: 0.0484\n",
      "Epoch 9/50\n",
      "71/71 [==============================] - 13s 178ms/step - loss: 0.0407 - val_loss: 0.0414\n",
      "Epoch 10/50\n",
      "71/71 [==============================] - 13s 178ms/step - loss: 0.0392 - val_loss: 0.0403\n",
      "Epoch 11/50\n",
      "71/71 [==============================] - 13s 178ms/step - loss: 0.0379 - val_loss: 0.0420\n",
      "Epoch 12/50\n",
      "71/71 [==============================] - 13s 178ms/step - loss: 0.0393 - val_loss: 0.0405\n",
      "Epoch 13/50\n",
      "71/71 [==============================] - 13s 178ms/step - loss: 0.0377 - val_loss: 0.0436\n",
      "Epoch 14/50\n",
      "71/71 [==============================] - 13s 178ms/step - loss: 0.0389 - val_loss: 0.0395\n",
      "Epoch 15/50\n",
      "71/71 [==============================] - 13s 177ms/step - loss: 0.0352 - val_loss: 0.0307\n",
      "Epoch 16/50\n",
      "71/71 [==============================] - 13s 178ms/step - loss: 0.0349 - val_loss: 0.0495\n",
      "Epoch 17/50\n",
      "71/71 [==============================] - 13s 178ms/step - loss: 0.0349 - val_loss: 0.0374\n",
      "Epoch 18/50\n",
      "71/71 [==============================] - 13s 178ms/step - loss: 0.0360 - val_loss: 0.0354\n",
      "Epoch 19/50\n",
      "71/71 [==============================] - 13s 178ms/step - loss: 0.0331 - val_loss: 0.0353\n",
      "Epoch 20/50\n",
      "71/71 [==============================] - 13s 178ms/step - loss: 0.0318 - val_loss: 0.0360\n",
      "Epoch 21/50\n",
      "71/71 [==============================] - 13s 178ms/step - loss: 0.0366 - val_loss: 0.0361\n",
      "Epoch 22/50\n",
      "71/71 [==============================] - 13s 178ms/step - loss: 0.0301 - val_loss: 0.0305\n",
      "Epoch 23/50\n",
      "71/71 [==============================] - 13s 178ms/step - loss: 0.0306 - val_loss: 0.0286\n",
      "Epoch 24/50\n",
      "71/71 [==============================] - 13s 178ms/step - loss: 0.0294 - val_loss: 0.0322\n",
      "Epoch 25/50\n",
      "71/71 [==============================] - 13s 178ms/step - loss: 0.0296 - val_loss: 0.0342\n",
      "Epoch 26/50\n",
      "71/71 [==============================] - 13s 178ms/step - loss: 0.0311 - val_loss: 0.0341\n",
      "Epoch 27/50\n",
      "71/71 [==============================] - 13s 178ms/step - loss: 0.0298 - val_loss: 0.0296\n",
      "Epoch 28/50\n",
      "71/71 [==============================] - 13s 177ms/step - loss: 0.0303 - val_loss: 0.0300\n",
      "Epoch 29/50\n",
      "71/71 [==============================] - 13s 178ms/step - loss: 0.0295 - val_loss: 0.0286\n",
      "Epoch 30/50\n",
      "71/71 [==============================] - 13s 178ms/step - loss: 0.0294 - val_loss: 0.0367\n",
      "Epoch 31/50\n",
      "71/71 [==============================] - 13s 178ms/step - loss: 0.0311 - val_loss: 0.0341\n",
      "Epoch 32/50\n",
      "71/71 [==============================] - 13s 178ms/step - loss: 0.0294 - val_loss: 0.0315\n",
      "Epoch 33/50\n",
      "71/71 [==============================] - 13s 178ms/step - loss: 0.0268 - val_loss: 0.0268\n",
      "Epoch 34/50\n",
      "71/71 [==============================] - 13s 178ms/step - loss: 0.0264 - val_loss: 0.0252\n",
      "Epoch 35/50\n",
      "71/71 [==============================] - 13s 178ms/step - loss: 0.0264 - val_loss: 0.0277\n",
      "Epoch 36/50\n",
      "71/71 [==============================] - 13s 178ms/step - loss: 0.0265 - val_loss: 0.0257\n",
      "Epoch 37/50\n",
      "71/71 [==============================] - 13s 178ms/step - loss: 0.0254 - val_loss: 0.0262\n",
      "Epoch 38/50\n",
      "71/71 [==============================] - 13s 178ms/step - loss: 0.0265 - val_loss: 0.0265\n",
      "Epoch 39/50\n",
      "71/71 [==============================] - 13s 178ms/step - loss: 0.0251 - val_loss: 0.0274\n",
      "Epoch 40/50\n",
      "71/71 [==============================] - 13s 178ms/step - loss: 0.0261 - val_loss: 0.0278\n",
      "Epoch 41/50\n",
      "71/71 [==============================] - 13s 177ms/step - loss: 0.0249 - val_loss: 0.0247\n",
      "Epoch 42/50\n",
      "71/71 [==============================] - 13s 178ms/step - loss: 0.0249 - val_loss: 0.0245\n",
      "Epoch 43/50\n",
      "71/71 [==============================] - 13s 178ms/step - loss: 0.0250 - val_loss: 0.0244\n",
      "Epoch 44/50\n",
      "71/71 [==============================] - 13s 178ms/step - loss: 0.0253 - val_loss: 0.0269\n",
      "Epoch 45/50\n",
      "71/71 [==============================] - 13s 178ms/step - loss: 0.0246 - val_loss: 0.0251\n",
      "Epoch 46/50\n",
      "71/71 [==============================] - 13s 179ms/step - loss: 0.0248 - val_loss: 0.0259\n",
      "Epoch 47/50\n",
      "71/71 [==============================] - 13s 178ms/step - loss: 0.0246 - val_loss: 0.0257\n",
      "Epoch 48/50\n",
      "71/71 [==============================] - 13s 178ms/step - loss: 0.0235 - val_loss: 0.0250\n",
      "Epoch 49/50\n",
      "71/71 [==============================] - 13s 178ms/step - loss: 0.0235 - val_loss: 0.0258\n",
      "Epoch 50/50\n",
      "71/71 [==============================] - 13s 178ms/step - loss: 0.0235 - val_loss: 0.0253\n"
     ]
    },
    {
     "name": "stderr",
     "output_type": "stream",
     "text": [
      "  2% (2 of 71) |                         | Elapsed Time: 0:00:00 ETA:   0:00:04"
     ]
    },
    {
     "name": "stdout",
     "output_type": "stream",
     "text": [
      "calculating histogram\n"
     ]
    },
    {
     "name": "stderr",
     "output_type": "stream",
     "text": [
      "100% (71 of 71) |########################| Elapsed Time: 0:00:04 Time:  0:00:04\n",
      "100% (71 of 71) |########################| Elapsed Time: 0:00:04 Time:  0:00:04\n",
      "100% (71 of 71) |########################| Elapsed Time: 0:00:04 Time:  0:00:04\n",
      "100% (71 of 71) |########################| Elapsed Time: 0:00:04 Time:  0:00:04\n",
      "100% (71 of 71) |########################| Elapsed Time: 0:00:04 Time:  0:00:04\n"
     ]
    },
    {
     "name": "stdout",
     "output_type": "stream",
     "text": [
      "saving to uri: s3://tau-astro/almogh/workdir3/model_saves/NN/simple___2021_12_06___21_36_21___Kernels_31_Filters_64_32_16_8_4_Hiddens_512_128_tanh/loss_hist_after_50_epochs.png\n",
      "saving to uri: s3://tau-astro/almogh/workdir3/model_saves/NN/simple___2021_12_06___21_36_21___Kernels_31_Filters_64_32_16_8_4_Hiddens_512_128_tanh/loss.png\n",
      "saving to uri: s3://tau-astro/almogh/workdir3/model_saves/NN/simple___2021_12_06___21_36_21___Kernels_31_Filters_64_32_16_8_4_Hiddens_512_128_tanh/loss.npy\n",
      "saving to uri: s3://tau-astro/almogh/workdir3/model_saves/NN/simple___2021_12_06___21_36_21___Kernels_31_Filters_64_32_16_8_4_Hiddens_512_128_tanh/val_loss.npy\n",
      "-------------------------------------\n",
      "epochs 51-100:\n",
      "-------------------------------------\n",
      "Epoch 1/50\n",
      "71/71 [==============================] - 13s 177ms/step - loss: 0.0234 - val_loss: 0.0266\n",
      "Epoch 2/50\n",
      "71/71 [==============================] - 13s 177ms/step - loss: 0.0241 - val_loss: 0.0236\n",
      "Epoch 3/50\n",
      "71/71 [==============================] - 13s 178ms/step - loss: 0.0241 - val_loss: 0.0256\n",
      "Epoch 4/50\n",
      "71/71 [==============================] - 13s 178ms/step - loss: 0.0245 - val_loss: 0.0246\n",
      "Epoch 5/50\n",
      "71/71 [==============================] - 13s 178ms/step - loss: 0.0237 - val_loss: 0.0254\n",
      "Epoch 6/50\n",
      "71/71 [==============================] - 13s 178ms/step - loss: 0.0231 - val_loss: 0.0257\n",
      "Epoch 7/50\n",
      "71/71 [==============================] - 13s 178ms/step - loss: 0.0233 - val_loss: 0.0228\n",
      "Epoch 8/50\n",
      "71/71 [==============================] - 13s 179ms/step - loss: 0.0224 - val_loss: 0.0234\n",
      "Epoch 9/50\n",
      "71/71 [==============================] - 13s 179ms/step - loss: 0.0218 - val_loss: 0.0251\n",
      "Epoch 10/50\n",
      "71/71 [==============================] - 13s 178ms/step - loss: 0.0228 - val_loss: 0.0230\n",
      "Epoch 11/50\n",
      "71/71 [==============================] - 13s 178ms/step - loss: 0.0232 - val_loss: 0.0233\n",
      "Epoch 12/50\n",
      "71/71 [==============================] - 13s 179ms/step - loss: 0.0225 - val_loss: 0.0241\n",
      "Epoch 13/50\n",
      "71/71 [==============================] - 13s 179ms/step - loss: 0.0235 - val_loss: 0.0268\n",
      "Epoch 14/50\n",
      "71/71 [==============================] - 13s 179ms/step - loss: 0.0229 - val_loss: 0.0247\n",
      "Epoch 15/50\n",
      "71/71 [==============================] - 13s 178ms/step - loss: 0.0233 - val_loss: 0.0234\n",
      "Epoch 16/50\n",
      "71/71 [==============================] - 13s 178ms/step - loss: 0.0221 - val_loss: 0.0240\n",
      "Epoch 17/50\n",
      "71/71 [==============================] - 13s 178ms/step - loss: 0.0226 - val_loss: 0.0241\n",
      "Epoch 18/50\n",
      "71/71 [==============================] - 13s 178ms/step - loss: 0.0224 - val_loss: 0.0243\n",
      "Epoch 19/50\n",
      "71/71 [==============================] - 13s 178ms/step - loss: 0.0230 - val_loss: 0.0253\n",
      "Epoch 20/50\n",
      "71/71 [==============================] - 13s 179ms/step - loss: 0.0224 - val_loss: 0.0228\n",
      "Epoch 21/50\n",
      "71/71 [==============================] - 13s 178ms/step - loss: 0.0216 - val_loss: 0.0226\n",
      "Epoch 22/50\n",
      "71/71 [==============================] - 13s 176ms/step - loss: 0.0228 - val_loss: 0.0236\n",
      "Epoch 23/50\n",
      "71/71 [==============================] - 13s 178ms/step - loss: 0.0224 - val_loss: 0.0248\n",
      "Epoch 24/50\n",
      "71/71 [==============================] - 13s 178ms/step - loss: 0.0228 - val_loss: 0.0246\n",
      "Epoch 25/50\n",
      "71/71 [==============================] - 13s 178ms/step - loss: 0.0220 - val_loss: 0.0235\n",
      "Epoch 26/50\n",
      "71/71 [==============================] - 13s 178ms/step - loss: 0.0213 - val_loss: 0.0218\n",
      "Epoch 27/50\n",
      "71/71 [==============================] - 13s 178ms/step - loss: 0.0218 - val_loss: 0.0254\n",
      "Epoch 28/50\n",
      "71/71 [==============================] - 13s 179ms/step - loss: 0.0215 - val_loss: 0.0225\n",
      "Epoch 29/50\n",
      "71/71 [==============================] - 13s 178ms/step - loss: 0.0216 - val_loss: 0.0215\n",
      "Epoch 30/50\n",
      "71/71 [==============================] - 13s 178ms/step - loss: 0.0213 - val_loss: 0.0225\n",
      "Epoch 31/50\n",
      "71/71 [==============================] - 13s 178ms/step - loss: 0.0222 - val_loss: 0.0256\n",
      "Epoch 32/50\n",
      "71/71 [==============================] - 13s 178ms/step - loss: 0.0218 - val_loss: 0.0234\n",
      "Epoch 33/50\n",
      "71/71 [==============================] - 13s 176ms/step - loss: 0.0215 - val_loss: 0.0255\n",
      "Epoch 34/50\n",
      "71/71 [==============================] - 13s 178ms/step - loss: 0.0218 - val_loss: 0.0242\n",
      "Epoch 35/50\n",
      "71/71 [==============================] - 13s 179ms/step - loss: 0.0216 - val_loss: 0.0218\n",
      "Epoch 36/50\n",
      "71/71 [==============================] - 13s 178ms/step - loss: 0.0217 - val_loss: 0.0245\n",
      "Epoch 37/50\n",
      "71/71 [==============================] - 13s 178ms/step - loss: 0.0217 - val_loss: 0.0227\n",
      "Epoch 38/50\n",
      "71/71 [==============================] - 13s 176ms/step - loss: 0.0208 - val_loss: 0.0229\n",
      "Epoch 39/50\n",
      "71/71 [==============================] - 13s 178ms/step - loss: 0.0204 - val_loss: 0.0222\n",
      "Epoch 40/50\n",
      "71/71 [==============================] - 13s 178ms/step - loss: 0.0213 - val_loss: 0.0250\n",
      "Epoch 41/50\n",
      "71/71 [==============================] - 13s 178ms/step - loss: 0.0212 - val_loss: 0.0229\n",
      "Epoch 42/50\n",
      "71/71 [==============================] - 13s 176ms/step - loss: 0.0211 - val_loss: 0.0220\n",
      "Epoch 43/50\n",
      "71/71 [==============================] - 13s 178ms/step - loss: 0.0207 - val_loss: 0.0218\n",
      "Epoch 44/50\n",
      "71/71 [==============================] - 13s 176ms/step - loss: 0.0218 - val_loss: 0.0267\n",
      "Epoch 45/50\n",
      "71/71 [==============================] - 13s 178ms/step - loss: 0.0210 - val_loss: 0.0228\n",
      "Epoch 46/50\n",
      "71/71 [==============================] - 13s 178ms/step - loss: 0.0209 - val_loss: 0.0234\n",
      "Epoch 47/50\n",
      "71/71 [==============================] - 13s 178ms/step - loss: 0.0204 - val_loss: 0.0224\n",
      "Epoch 48/50\n",
      "71/71 [==============================] - 13s 177ms/step - loss: 0.0206 - val_loss: 0.0239\n",
      "Epoch 49/50\n",
      "71/71 [==============================] - 13s 178ms/step - loss: 0.0211 - val_loss: 0.0227\n",
      "Epoch 50/50\n",
      "71/71 [==============================] - 13s 178ms/step - loss: 0.0211 - val_loss: 0.0234\n"
     ]
    },
    {
     "name": "stderr",
     "output_type": "stream",
     "text": [
      "  2% (2 of 71) |                         | Elapsed Time: 0:00:00 ETA:   0:00:04"
     ]
    },
    {
     "name": "stdout",
     "output_type": "stream",
     "text": [
      "calculating histogram\n"
     ]
    },
    {
     "name": "stderr",
     "output_type": "stream",
     "text": [
      "100% (71 of 71) |########################| Elapsed Time: 0:00:04 Time:  0:00:04\n",
      "100% (71 of 71) |########################| Elapsed Time: 0:00:04 Time:  0:00:04\n",
      "100% (71 of 71) |########################| Elapsed Time: 0:00:04 Time:  0:00:04\n",
      "100% (71 of 71) |########################| Elapsed Time: 0:00:04 Time:  0:00:04\n",
      "100% (71 of 71) |########################| Elapsed Time: 0:00:04 Time:  0:00:04\n"
     ]
    },
    {
     "name": "stdout",
     "output_type": "stream",
     "text": [
      "saving to uri: s3://tau-astro/almogh/workdir3/model_saves/NN/simple___2021_12_06___21_36_21___Kernels_31_Filters_64_32_16_8_4_Hiddens_512_128_tanh/loss_hist_after_100_epochs.png\n",
      "saving to uri: s3://tau-astro/almogh/workdir3/model_saves/NN/simple___2021_12_06___21_36_21___Kernels_31_Filters_64_32_16_8_4_Hiddens_512_128_tanh/loss.png\n",
      "saving to uri: s3://tau-astro/almogh/workdir3/model_saves/NN/simple___2021_12_06___21_36_21___Kernels_31_Filters_64_32_16_8_4_Hiddens_512_128_tanh/loss.npy\n",
      "saving to uri: s3://tau-astro/almogh/workdir3/model_saves/NN/simple___2021_12_06___21_36_21___Kernels_31_Filters_64_32_16_8_4_Hiddens_512_128_tanh/val_loss.npy\n",
      "-------------------------------------\n",
      "epochs 101-150:\n",
      "-------------------------------------\n",
      "Epoch 1/50\n",
      "71/71 [==============================] - 13s 178ms/step - loss: 0.0212 - val_loss: 0.0241\n",
      "Epoch 2/50\n",
      "71/71 [==============================] - 13s 178ms/step - loss: 0.0204 - val_loss: 0.0213\n",
      "Epoch 3/50\n",
      "71/71 [==============================] - 13s 177ms/step - loss: 0.0205 - val_loss: 0.0249\n",
      "Epoch 4/50\n",
      "71/71 [==============================] - 13s 178ms/step - loss: 0.0217 - val_loss: 0.0232\n",
      "Epoch 5/50\n",
      "71/71 [==============================] - 13s 178ms/step - loss: 0.0206 - val_loss: 0.0223\n",
      "Epoch 6/50\n",
      "71/71 [==============================] - 13s 176ms/step - loss: 0.0213 - val_loss: 0.0225\n",
      "Epoch 7/50\n",
      "71/71 [==============================] - 13s 178ms/step - loss: 0.0210 - val_loss: 0.0235\n",
      "Epoch 8/50\n",
      "71/71 [==============================] - 13s 177ms/step - loss: 0.0206 - val_loss: 0.0243\n",
      "Epoch 9/50\n",
      "71/71 [==============================] - 13s 178ms/step - loss: 0.0205 - val_loss: 0.0218\n",
      "Epoch 10/50\n",
      "71/71 [==============================] - 13s 176ms/step - loss: 0.0201 - val_loss: 0.0216\n",
      "Epoch 11/50\n",
      "71/71 [==============================] - 13s 178ms/step - loss: 0.0207 - val_loss: 0.0235\n",
      "Epoch 12/50\n",
      "71/71 [==============================] - 13s 178ms/step - loss: 0.0202 - val_loss: 0.0239\n",
      "Epoch 13/50\n",
      "71/71 [==============================] - 13s 178ms/step - loss: 0.0206 - val_loss: 0.0216\n",
      "Epoch 14/50\n",
      "71/71 [==============================] - 13s 176ms/step - loss: 0.0193 - val_loss: 0.0207\n",
      "Epoch 15/50\n",
      "71/71 [==============================] - 13s 178ms/step - loss: 0.0199 - val_loss: 0.0227\n",
      "Epoch 16/50\n",
      "71/71 [==============================] - 13s 176ms/step - loss: 0.0204 - val_loss: 0.0222\n",
      "Epoch 17/50\n",
      "71/71 [==============================] - 13s 178ms/step - loss: 0.0207 - val_loss: 0.0213\n",
      "Epoch 18/50\n",
      "71/71 [==============================] - 13s 176ms/step - loss: 0.0203 - val_loss: 0.0238\n",
      "Epoch 19/50\n",
      "71/71 [==============================] - 13s 178ms/step - loss: 0.0194 - val_loss: 0.0220\n",
      "Epoch 20/50\n",
      "71/71 [==============================] - 13s 176ms/step - loss: 0.0201 - val_loss: 0.0227\n",
      "Epoch 21/50\n",
      "71/71 [==============================] - 13s 178ms/step - loss: 0.0205 - val_loss: 0.0229\n",
      "Epoch 22/50\n",
      "71/71 [==============================] - 13s 176ms/step - loss: 0.0202 - val_loss: 0.0211\n",
      "Epoch 23/50\n",
      "71/71 [==============================] - 13s 178ms/step - loss: 0.0202 - val_loss: 0.0207\n",
      "Epoch 24/50\n",
      "71/71 [==============================] - 13s 178ms/step - loss: 0.0204 - val_loss: 0.0220\n",
      "Epoch 25/50\n",
      "71/71 [==============================] - 13s 176ms/step - loss: 0.0208 - val_loss: 0.0226\n",
      "Epoch 26/50\n",
      "71/71 [==============================] - 13s 178ms/step - loss: 0.0200 - val_loss: 0.0210\n",
      "Epoch 27/50\n",
      "71/71 [==============================] - 13s 178ms/step - loss: 0.0203 - val_loss: 0.0221\n",
      "Epoch 28/50\n",
      "71/71 [==============================] - 13s 177ms/step - loss: 0.0200 - val_loss: 0.0224\n",
      "Epoch 29/50\n",
      "71/71 [==============================] - 13s 178ms/step - loss: 0.0200 - val_loss: 0.0218\n",
      "Epoch 30/50\n",
      "71/71 [==============================] - 13s 176ms/step - loss: 0.0207 - val_loss: 0.0209\n",
      "Epoch 31/50\n",
      "71/71 [==============================] - 13s 178ms/step - loss: 0.0199 - val_loss: 0.0211\n",
      "Epoch 32/50\n",
      "71/71 [==============================] - 13s 177ms/step - loss: 0.0191 - val_loss: 0.0212\n",
      "Epoch 33/50\n",
      "71/71 [==============================] - 13s 177ms/step - loss: 0.0203 - val_loss: 0.0254\n",
      "Epoch 34/50\n",
      "71/71 [==============================] - 13s 178ms/step - loss: 0.0206 - val_loss: 0.0214\n",
      "Epoch 35/50\n",
      "71/71 [==============================] - 13s 178ms/step - loss: 0.0204 - val_loss: 0.0213\n",
      "Epoch 36/50\n",
      "71/71 [==============================] - 13s 177ms/step - loss: 0.0194 - val_loss: 0.0208\n",
      "Epoch 37/50\n",
      "71/71 [==============================] - 13s 178ms/step - loss: 0.0197 - val_loss: 0.0224\n",
      "Epoch 38/50\n",
      "71/71 [==============================] - 13s 177ms/step - loss: 0.0194 - val_loss: 0.0216\n",
      "Epoch 39/50\n",
      "71/71 [==============================] - 13s 178ms/step - loss: 0.0198 - val_loss: 0.0221\n",
      "Epoch 40/50\n",
      "71/71 [==============================] - 13s 176ms/step - loss: 0.0194 - val_loss: 0.0207\n",
      "Epoch 41/50\n",
      "71/71 [==============================] - 13s 178ms/step - loss: 0.0189 - val_loss: 0.0212\n",
      "Epoch 42/50\n",
      "71/71 [==============================] - 13s 176ms/step - loss: 0.0202 - val_loss: 0.0224\n",
      "Epoch 43/50\n",
      "71/71 [==============================] - 13s 178ms/step - loss: 0.0199 - val_loss: 0.0219\n",
      "Epoch 44/50\n",
      "71/71 [==============================] - 13s 176ms/step - loss: 0.0196 - val_loss: 0.0228\n",
      "Epoch 45/50\n",
      "71/71 [==============================] - 13s 178ms/step - loss: 0.0198 - val_loss: 0.0225\n",
      "Epoch 46/50\n",
      "71/71 [==============================] - 13s 176ms/step - loss: 0.0194 - val_loss: 0.0211\n",
      "Epoch 47/50\n",
      "71/71 [==============================] - 13s 178ms/step - loss: 0.0195 - val_loss: 0.0221\n",
      "Epoch 48/50\n",
      "71/71 [==============================] - 13s 178ms/step - loss: 0.0190 - val_loss: 0.0218\n",
      "Epoch 49/50\n",
      "71/71 [==============================] - 13s 176ms/step - loss: 0.0196 - val_loss: 0.0202\n",
      "Epoch 50/50\n",
      "71/71 [==============================] - 13s 178ms/step - loss: 0.0189 - val_loss: 0.0223\n"
     ]
    },
    {
     "name": "stderr",
     "output_type": "stream",
     "text": [
      "  2% (2 of 71) |                         | Elapsed Time: 0:00:00 ETA:   0:00:04"
     ]
    },
    {
     "name": "stdout",
     "output_type": "stream",
     "text": [
      "calculating histogram\n"
     ]
    },
    {
     "name": "stderr",
     "output_type": "stream",
     "text": [
      "100% (71 of 71) |########################| Elapsed Time: 0:00:04 Time:  0:00:04\n",
      "100% (71 of 71) |########################| Elapsed Time: 0:00:04 Time:  0:00:04\n",
      "100% (71 of 71) |########################| Elapsed Time: 0:00:04 Time:  0:00:04\n",
      "100% (71 of 71) |########################| Elapsed Time: 0:00:04 Time:  0:00:04\n",
      "100% (71 of 71) |########################| Elapsed Time: 0:00:04 Time:  0:00:04\n"
     ]
    },
    {
     "name": "stdout",
     "output_type": "stream",
     "text": [
      "saving to uri: s3://tau-astro/almogh/workdir3/model_saves/NN/simple___2021_12_06___21_36_21___Kernels_31_Filters_64_32_16_8_4_Hiddens_512_128_tanh/loss_hist_after_150_epochs.png\n",
      "saving to uri: s3://tau-astro/almogh/workdir3/model_saves/NN/simple___2021_12_06___21_36_21___Kernels_31_Filters_64_32_16_8_4_Hiddens_512_128_tanh/loss.png\n",
      "saving to uri: s3://tau-astro/almogh/workdir3/model_saves/NN/simple___2021_12_06___21_36_21___Kernels_31_Filters_64_32_16_8_4_Hiddens_512_128_tanh/loss.npy\n",
      "saving to uri: s3://tau-astro/almogh/workdir3/model_saves/NN/simple___2021_12_06___21_36_21___Kernels_31_Filters_64_32_16_8_4_Hiddens_512_128_tanh/val_loss.npy\n",
      "-------------------------------------\n",
      "epochs 151-200:\n",
      "-------------------------------------\n",
      "Epoch 1/50\n",
      "71/71 [==============================] - 13s 177ms/step - loss: 0.0197 - val_loss: 0.0230\n",
      "Epoch 2/50\n",
      "71/71 [==============================] - 13s 177ms/step - loss: 0.0196 - val_loss: 0.0212\n",
      "Epoch 3/50\n",
      "71/71 [==============================] - 13s 178ms/step - loss: 0.0193 - val_loss: 0.0236\n",
      "Epoch 4/50\n",
      "71/71 [==============================] - 13s 176ms/step - loss: 0.0194 - val_loss: 0.0227\n",
      "Epoch 5/50\n",
      "71/71 [==============================] - 13s 178ms/step - loss: 0.0207 - val_loss: 0.0221\n",
      "Epoch 6/50\n",
      "71/71 [==============================] - 13s 176ms/step - loss: 0.0199 - val_loss: 0.0216\n",
      "Epoch 7/50\n",
      "71/71 [==============================] - 13s 178ms/step - loss: 0.0193 - val_loss: 0.0220\n",
      "Epoch 8/50\n",
      "71/71 [==============================] - 13s 176ms/step - loss: 0.0193 - val_loss: 0.0231\n",
      "Epoch 9/50\n",
      "71/71 [==============================] - 13s 178ms/step - loss: 0.0192 - val_loss: 0.0220\n",
      "Epoch 10/50\n",
      "71/71 [==============================] - 12s 176ms/step - loss: 0.0198 - val_loss: 0.0228\n",
      "Epoch 11/50\n",
      "71/71 [==============================] - 13s 178ms/step - loss: 0.0195 - val_loss: 0.0218\n",
      "Epoch 12/50\n",
      "71/71 [==============================] - 13s 177ms/step - loss: 0.0192 - val_loss: 0.0218\n",
      "Epoch 13/50\n",
      "71/71 [==============================] - 13s 177ms/step - loss: 0.0191 - val_loss: 0.0240\n",
      "Epoch 14/50\n",
      "71/71 [==============================] - 13s 178ms/step - loss: 0.0201 - val_loss: 0.0223\n",
      "Epoch 15/50\n",
      "71/71 [==============================] - 13s 178ms/step - loss: 0.0192 - val_loss: 0.0216\n",
      "Epoch 16/50\n",
      "71/71 [==============================] - 13s 176ms/step - loss: 0.0191 - val_loss: 0.0205\n",
      "Epoch 17/50\n",
      "71/71 [==============================] - 13s 178ms/step - loss: 0.0185 - val_loss: 0.0223\n",
      "Epoch 18/50\n",
      "71/71 [==============================] - 13s 177ms/step - loss: 0.0199 - val_loss: 0.0211\n",
      "Epoch 19/50\n",
      "71/71 [==============================] - 13s 178ms/step - loss: 0.0192 - val_loss: 0.0229\n",
      "Epoch 20/50\n",
      "71/71 [==============================] - 13s 176ms/step - loss: 0.0198 - val_loss: 0.0215\n",
      "Epoch 21/50\n",
      "71/71 [==============================] - 13s 178ms/step - loss: 0.0191 - val_loss: 0.0215\n",
      "Epoch 22/50\n",
      "71/71 [==============================] - 13s 176ms/step - loss: 0.0188 - val_loss: 0.0221\n",
      "Epoch 23/50\n",
      "71/71 [==============================] - 13s 178ms/step - loss: 0.0190 - val_loss: 0.0213\n",
      "Epoch 24/50\n",
      "71/71 [==============================] - 13s 177ms/step - loss: 0.0191 - val_loss: 0.0206\n",
      "Epoch 25/50\n",
      "71/71 [==============================] - 13s 178ms/step - loss: 0.0203 - val_loss: 0.0237\n",
      "Epoch 26/50\n",
      "71/71 [==============================] - 13s 176ms/step - loss: 0.0196 - val_loss: 0.0218\n",
      "Epoch 27/50\n",
      "71/71 [==============================] - 13s 178ms/step - loss: 0.0195 - val_loss: 0.0230\n",
      "Epoch 28/50\n",
      "71/71 [==============================] - 13s 176ms/step - loss: 0.0192 - val_loss: 0.0230\n",
      "Epoch 29/50\n",
      "71/71 [==============================] - 13s 178ms/step - loss: 0.0188 - val_loss: 0.0213\n",
      "Epoch 30/50\n",
      "71/71 [==============================] - 13s 176ms/step - loss: 0.0189 - val_loss: 0.0224\n",
      "Epoch 31/50\n",
      "71/71 [==============================] - 13s 178ms/step - loss: 0.0191 - val_loss: 0.0215\n",
      "Epoch 32/50\n",
      "71/71 [==============================] - 13s 176ms/step - loss: 0.0198 - val_loss: 0.0200\n",
      "Epoch 33/50\n",
      "71/71 [==============================] - 13s 178ms/step - loss: 0.0190 - val_loss: 0.0221\n",
      "Epoch 34/50\n",
      "71/71 [==============================] - 13s 177ms/step - loss: 0.0206 - val_loss: 0.0228\n",
      "Epoch 35/50\n",
      "71/71 [==============================] - 13s 178ms/step - loss: 0.0194 - val_loss: 0.0225\n",
      "Epoch 36/50\n",
      "71/71 [==============================] - 13s 178ms/step - loss: 0.0196 - val_loss: 0.0206\n",
      "Epoch 37/50\n",
      "71/71 [==============================] - 13s 176ms/step - loss: 0.0202 - val_loss: 0.0225\n",
      "Epoch 38/50\n",
      "71/71 [==============================] - 13s 178ms/step - loss: 0.0189 - val_loss: 0.0214\n",
      "Epoch 39/50\n",
      "71/71 [==============================] - 13s 177ms/step - loss: 0.0191 - val_loss: 0.0224\n",
      "Epoch 40/50\n",
      "71/71 [==============================] - 13s 178ms/step - loss: 0.0187 - val_loss: 0.0217\n",
      "Epoch 41/50\n",
      "71/71 [==============================] - 13s 176ms/step - loss: 0.0189 - val_loss: 0.0198\n",
      "Epoch 42/50\n",
      "71/71 [==============================] - 13s 178ms/step - loss: 0.0192 - val_loss: 0.0219\n",
      "Epoch 43/50\n",
      "71/71 [==============================] - 13s 176ms/step - loss: 0.0188 - val_loss: 0.0217\n",
      "Epoch 44/50\n",
      "71/71 [==============================] - 13s 178ms/step - loss: 0.0191 - val_loss: 0.0235\n",
      "Epoch 45/50\n",
      "71/71 [==============================] - 13s 176ms/step - loss: 0.0194 - val_loss: 0.0214\n",
      "Epoch 46/50\n",
      "71/71 [==============================] - 13s 178ms/step - loss: 0.0185 - val_loss: 0.0226\n",
      "Epoch 47/50\n",
      "71/71 [==============================] - 13s 176ms/step - loss: 0.0195 - val_loss: 0.0216\n",
      "Epoch 48/50\n",
      "71/71 [==============================] - 13s 178ms/step - loss: 0.0183 - val_loss: 0.0231\n",
      "Epoch 49/50\n",
      "71/71 [==============================] - 13s 176ms/step - loss: 0.0192 - val_loss: 0.0212\n",
      "Epoch 50/50\n",
      "71/71 [==============================] - 13s 178ms/step - loss: 0.0182 - val_loss: 0.0227\n"
     ]
    },
    {
     "name": "stderr",
     "output_type": "stream",
     "text": [
      "  2% (2 of 71) |                         | Elapsed Time: 0:00:00 ETA:   0:00:04"
     ]
    },
    {
     "name": "stdout",
     "output_type": "stream",
     "text": [
      "calculating histogram\n"
     ]
    },
    {
     "name": "stderr",
     "output_type": "stream",
     "text": [
      "100% (71 of 71) |########################| Elapsed Time: 0:00:04 Time:  0:00:04\n",
      "100% (71 of 71) |########################| Elapsed Time: 0:00:04 Time:  0:00:04\n",
      "100% (71 of 71) |########################| Elapsed Time: 0:00:04 Time:  0:00:04\n",
      "100% (71 of 71) |########################| Elapsed Time: 0:00:04 Time:  0:00:04\n",
      "100% (71 of 71) |########################| Elapsed Time: 0:00:04 Time:  0:00:04\n"
     ]
    },
    {
     "name": "stdout",
     "output_type": "stream",
     "text": [
      "saving to uri: s3://tau-astro/almogh/workdir3/model_saves/NN/simple___2021_12_06___21_36_21___Kernels_31_Filters_64_32_16_8_4_Hiddens_512_128_tanh/loss_hist_after_200_epochs.png\n",
      "saving to uri: s3://tau-astro/almogh/workdir3/model_saves/NN/simple___2021_12_06___21_36_21___Kernels_31_Filters_64_32_16_8_4_Hiddens_512_128_tanh/loss.png\n",
      "saving to uri: s3://tau-astro/almogh/workdir3/model_saves/NN/simple___2021_12_06___21_36_21___Kernels_31_Filters_64_32_16_8_4_Hiddens_512_128_tanh/loss.npy\n",
      "saving to uri: s3://tau-astro/almogh/workdir3/model_saves/NN/simple___2021_12_06___21_36_21___Kernels_31_Filters_64_32_16_8_4_Hiddens_512_128_tanh/val_loss.npy\n",
      "-------------------------------------\n",
      "epochs 201-250:\n",
      "-------------------------------------\n",
      "Epoch 1/50\n",
      "71/71 [==============================] - 13s 179ms/step - loss: 0.0188 - val_loss: 0.0223\n",
      "Epoch 2/50\n",
      "71/71 [==============================] - 13s 178ms/step - loss: 0.0199 - val_loss: 0.0222\n",
      "Epoch 3/50\n",
      "71/71 [==============================] - 13s 176ms/step - loss: 0.0190 - val_loss: 0.0210\n",
      "Epoch 4/50\n",
      "71/71 [==============================] - 13s 178ms/step - loss: 0.0184 - val_loss: 0.0228\n",
      "Epoch 5/50\n",
      "71/71 [==============================] - 13s 176ms/step - loss: 0.0196 - val_loss: 0.0210\n",
      "Epoch 6/50\n",
      "71/71 [==============================] - 13s 178ms/step - loss: 0.0189 - val_loss: 0.0204\n",
      "Epoch 7/50\n",
      "71/71 [==============================] - 13s 176ms/step - loss: 0.0186 - val_loss: 0.0206\n",
      "Epoch 8/50\n",
      "71/71 [==============================] - 13s 178ms/step - loss: 0.0187 - val_loss: 0.0220\n",
      "Epoch 9/50\n",
      "71/71 [==============================] - 13s 176ms/step - loss: 0.0187 - val_loss: 0.0205\n",
      "Epoch 10/50\n",
      "71/71 [==============================] - 13s 178ms/step - loss: 0.0182 - val_loss: 0.0204\n",
      "Epoch 11/50\n",
      "71/71 [==============================] - 13s 178ms/step - loss: 0.0183 - val_loss: 0.0206\n",
      "Epoch 12/50\n",
      "71/71 [==============================] - 13s 176ms/step - loss: 0.0181 - val_loss: 0.0213\n",
      "Epoch 13/50\n",
      "71/71 [==============================] - 13s 178ms/step - loss: 0.0182 - val_loss: 0.0216\n",
      "Epoch 14/50\n",
      "71/71 [==============================] - 13s 176ms/step - loss: 0.0183 - val_loss: 0.0220\n",
      "Epoch 15/50\n",
      "71/71 [==============================] - 13s 178ms/step - loss: 0.0178 - val_loss: 0.0222\n",
      "Epoch 16/50\n",
      "71/71 [==============================] - 13s 176ms/step - loss: 0.0187 - val_loss: 0.0225\n",
      "Epoch 17/50\n",
      "71/71 [==============================] - 13s 178ms/step - loss: 0.0183 - val_loss: 0.0218\n",
      "Epoch 18/50\n",
      "71/71 [==============================] - 13s 177ms/step - loss: 0.0182 - val_loss: 0.0205\n",
      "Epoch 19/50\n",
      "71/71 [==============================] - 13s 178ms/step - loss: 0.0185 - val_loss: 0.0215\n",
      "Epoch 20/50\n",
      "71/71 [==============================] - 13s 176ms/step - loss: 0.0183 - val_loss: 0.0216\n",
      "Epoch 21/50\n",
      "71/71 [==============================] - 13s 178ms/step - loss: 0.0185 - val_loss: 0.0220\n",
      "Epoch 22/50\n",
      "71/71 [==============================] - 13s 176ms/step - loss: 0.0186 - val_loss: 0.0226\n",
      "Epoch 23/50\n",
      "71/71 [==============================] - 13s 178ms/step - loss: 0.0192 - val_loss: 0.0209\n",
      "Epoch 24/50\n",
      "71/71 [==============================] - 13s 176ms/step - loss: 0.0190 - val_loss: 0.0227\n",
      "Epoch 25/50\n",
      "71/71 [==============================] - 12s 176ms/step - loss: 0.0180 - val_loss: 0.0208\n",
      "Epoch 26/50\n",
      "71/71 [==============================] - 13s 178ms/step - loss: 0.0186 - val_loss: 0.0226\n",
      "Epoch 27/50\n",
      "71/71 [==============================] - 13s 176ms/step - loss: 0.0183 - val_loss: 0.0218\n",
      "Epoch 28/50\n",
      "71/71 [==============================] - 13s 178ms/step - loss: 0.0180 - val_loss: 0.0226\n",
      "Epoch 29/50\n",
      "71/71 [==============================] - 12s 176ms/step - loss: 0.0184 - val_loss: 0.0216\n",
      "Epoch 30/50\n",
      "71/71 [==============================] - 13s 178ms/step - loss: 0.0185 - val_loss: 0.0218\n",
      "Epoch 31/50\n",
      "71/71 [==============================] - 13s 176ms/step - loss: 0.0179 - val_loss: 0.0215\n",
      "Epoch 32/50\n",
      "71/71 [==============================] - 13s 178ms/step - loss: 0.0182 - val_loss: 0.0249\n",
      "Epoch 33/50\n",
      "71/71 [==============================] - 13s 176ms/step - loss: 0.0177 - val_loss: 0.0217\n",
      "Epoch 34/50\n",
      "71/71 [==============================] - 13s 178ms/step - loss: 0.0189 - val_loss: 0.0210\n",
      "Epoch 35/50\n",
      "71/71 [==============================] - 13s 176ms/step - loss: 0.0182 - val_loss: 0.0225\n",
      "Epoch 36/50\n",
      "71/71 [==============================] - 13s 178ms/step - loss: 0.0177 - val_loss: 0.0203\n",
      "Epoch 37/50\n",
      "71/71 [==============================] - 13s 176ms/step - loss: 0.0186 - val_loss: 0.0202\n",
      "Epoch 38/50\n",
      "71/71 [==============================] - 13s 178ms/step - loss: 0.0174 - val_loss: 0.0212\n",
      "Epoch 39/50\n",
      "71/71 [==============================] - 13s 176ms/step - loss: 0.0185 - val_loss: 0.0215\n",
      "Epoch 40/50\n",
      "71/71 [==============================] - 13s 178ms/step - loss: 0.0183 - val_loss: 0.0212\n",
      "Epoch 41/50\n",
      "71/71 [==============================] - 13s 176ms/step - loss: 0.0188 - val_loss: 0.0211\n",
      "Epoch 42/50\n",
      "71/71 [==============================] - 13s 178ms/step - loss: 0.0187 - val_loss: 0.0202\n",
      "Epoch 43/50\n",
      "71/71 [==============================] - 13s 176ms/step - loss: 0.0181 - val_loss: 0.0217\n",
      "Epoch 44/50\n",
      "71/71 [==============================] - 13s 178ms/step - loss: 0.0186 - val_loss: 0.0204\n",
      "Epoch 45/50\n",
      "71/71 [==============================] - 13s 176ms/step - loss: 0.0180 - val_loss: 0.0215\n",
      "Epoch 46/50\n",
      "71/71 [==============================] - 13s 178ms/step - loss: 0.0180 - val_loss: 0.0216\n",
      "Epoch 47/50\n",
      "71/71 [==============================] - 13s 177ms/step - loss: 0.0183 - val_loss: 0.0219\n",
      "Epoch 48/50\n",
      "71/71 [==============================] - 13s 178ms/step - loss: 0.0179 - val_loss: 0.0209\n",
      "Epoch 49/50\n",
      "71/71 [==============================] - 13s 176ms/step - loss: 0.0178 - val_loss: 0.0205\n",
      "Epoch 50/50\n",
      "71/71 [==============================] - 13s 178ms/step - loss: 0.0185 - val_loss: 0.0198\n"
     ]
    },
    {
     "name": "stderr",
     "output_type": "stream",
     "text": [
      "  2% (2 of 71) |                         | Elapsed Time: 0:00:00 ETA:   0:00:04"
     ]
    },
    {
     "name": "stdout",
     "output_type": "stream",
     "text": [
      "calculating histogram\n"
     ]
    },
    {
     "name": "stderr",
     "output_type": "stream",
     "text": [
      "100% (71 of 71) |########################| Elapsed Time: 0:00:04 Time:  0:00:04\n",
      "100% (71 of 71) |########################| Elapsed Time: 0:00:04 Time:  0:00:04\n",
      "100% (71 of 71) |########################| Elapsed Time: 0:00:04 Time:  0:00:04\n",
      "100% (71 of 71) |########################| Elapsed Time: 0:00:04 Time:  0:00:04\n",
      "100% (71 of 71) |########################| Elapsed Time: 0:00:04 Time:  0:00:04\n"
     ]
    },
    {
     "name": "stdout",
     "output_type": "stream",
     "text": [
      "saving to uri: s3://tau-astro/almogh/workdir3/model_saves/NN/simple___2021_12_06___21_36_21___Kernels_31_Filters_64_32_16_8_4_Hiddens_512_128_tanh/loss_hist_after_250_epochs.png\n",
      "saving to uri: s3://tau-astro/almogh/workdir3/model_saves/NN/simple___2021_12_06___21_36_21___Kernels_31_Filters_64_32_16_8_4_Hiddens_512_128_tanh/loss.png\n",
      "saving to uri: s3://tau-astro/almogh/workdir3/model_saves/NN/simple___2021_12_06___21_36_21___Kernels_31_Filters_64_32_16_8_4_Hiddens_512_128_tanh/loss.npy\n",
      "saving to uri: s3://tau-astro/almogh/workdir3/model_saves/NN/simple___2021_12_06___21_36_21___Kernels_31_Filters_64_32_16_8_4_Hiddens_512_128_tanh/val_loss.npy\n",
      "-------------------------------------\n",
      "epochs 251-300:\n",
      "-------------------------------------\n",
      "Epoch 1/50\n",
      "71/71 [==============================] - 13s 178ms/step - loss: 0.0183 - val_loss: 0.0207\n",
      "Epoch 2/50\n",
      "71/71 [==============================] - 12s 176ms/step - loss: 0.0181 - val_loss: 0.0217\n",
      "Epoch 3/50\n",
      "71/71 [==============================] - 13s 178ms/step - loss: 0.0186 - val_loss: 0.0210\n",
      "Epoch 4/50\n",
      "71/71 [==============================] - 13s 176ms/step - loss: 0.0177 - val_loss: 0.0205\n",
      "Epoch 5/50\n",
      "71/71 [==============================] - 13s 178ms/step - loss: 0.0176 - val_loss: 0.0197\n",
      "Epoch 6/50\n",
      "71/71 [==============================] - 13s 177ms/step - loss: 0.0183 - val_loss: 0.0223\n",
      "Epoch 7/50\n",
      "71/71 [==============================] - 13s 178ms/step - loss: 0.0181 - val_loss: 0.0216\n",
      "Epoch 8/50\n",
      "71/71 [==============================] - 13s 176ms/step - loss: 0.0176 - val_loss: 0.0199\n",
      "Epoch 9/50\n",
      "71/71 [==============================] - 13s 178ms/step - loss: 0.0177 - val_loss: 0.0203\n",
      "Epoch 10/50\n",
      "71/71 [==============================] - 13s 176ms/step - loss: 0.0185 - val_loss: 0.0216\n",
      "Epoch 11/50\n",
      "71/71 [==============================] - 13s 178ms/step - loss: 0.0181 - val_loss: 0.0228\n",
      "Epoch 12/50\n",
      "71/71 [==============================] - 13s 176ms/step - loss: 0.0179 - val_loss: 0.0202\n",
      "Epoch 13/50\n",
      "71/71 [==============================] - 13s 178ms/step - loss: 0.0180 - val_loss: 0.0220\n",
      "Epoch 14/50\n",
      "71/71 [==============================] - 13s 177ms/step - loss: 0.0180 - val_loss: 0.0198\n",
      "Epoch 15/50\n",
      "71/71 [==============================] - 13s 178ms/step - loss: 0.0175 - val_loss: 0.0212\n",
      "Epoch 16/50\n",
      "71/71 [==============================] - 13s 176ms/step - loss: 0.0181 - val_loss: 0.0216\n",
      "Epoch 17/50\n",
      "71/71 [==============================] - 13s 178ms/step - loss: 0.0180 - val_loss: 0.0203\n",
      "Epoch 18/50\n",
      "71/71 [==============================] - 13s 176ms/step - loss: 0.0187 - val_loss: 0.0222\n",
      "Epoch 19/50\n",
      "71/71 [==============================] - 13s 178ms/step - loss: 0.0185 - val_loss: 0.0220\n",
      "Epoch 20/50\n",
      "71/71 [==============================] - 13s 176ms/step - loss: 0.0186 - val_loss: 0.0206\n",
      "Epoch 21/50\n",
      "71/71 [==============================] - 13s 178ms/step - loss: 0.0184 - val_loss: 0.0230\n",
      "Epoch 22/50\n",
      "71/71 [==============================] - 13s 176ms/step - loss: 0.0189 - val_loss: 0.0211\n",
      "Epoch 23/50\n",
      "71/71 [==============================] - 13s 178ms/step - loss: 0.0181 - val_loss: 0.0218\n",
      "Epoch 24/50\n",
      "71/71 [==============================] - 13s 176ms/step - loss: 0.0180 - val_loss: 0.0209\n",
      "Epoch 25/50\n",
      "71/71 [==============================] - 13s 178ms/step - loss: 0.0195 - val_loss: 0.0209\n",
      "Epoch 26/50\n",
      "71/71 [==============================] - 12s 176ms/step - loss: 0.0183 - val_loss: 0.0212\n",
      "Epoch 27/50\n",
      "71/71 [==============================] - 13s 178ms/step - loss: 0.0183 - val_loss: 0.0203\n",
      "Epoch 28/50\n",
      "71/71 [==============================] - 13s 176ms/step - loss: 0.0179 - val_loss: 0.0209\n",
      "Epoch 29/50\n",
      "71/71 [==============================] - 13s 178ms/step - loss: 0.0183 - val_loss: 0.0206\n",
      "Epoch 30/50\n",
      "71/71 [==============================] - 13s 176ms/step - loss: 0.0180 - val_loss: 0.0216\n",
      "Epoch 31/50\n",
      "71/71 [==============================] - 13s 178ms/step - loss: 0.0188 - val_loss: 0.0221\n",
      "Epoch 32/50\n",
      "71/71 [==============================] - 13s 177ms/step - loss: 0.0185 - val_loss: 0.0225\n",
      "Epoch 33/50\n",
      "71/71 [==============================] - 13s 178ms/step - loss: 0.0182 - val_loss: 0.0212\n",
      "Epoch 34/50\n",
      "71/71 [==============================] - 13s 177ms/step - loss: 0.0182 - val_loss: 0.0230\n",
      "Epoch 35/50\n",
      "71/71 [==============================] - 13s 178ms/step - loss: 0.0181 - val_loss: 0.0219\n",
      "Epoch 36/50\n",
      "71/71 [==============================] - 13s 176ms/step - loss: 0.0185 - val_loss: 0.0229\n",
      "Epoch 37/50\n",
      "71/71 [==============================] - 13s 178ms/step - loss: 0.0183 - val_loss: 0.0198\n",
      "Epoch 38/50\n",
      "71/71 [==============================] - 13s 176ms/step - loss: 0.0178 - val_loss: 0.0215\n",
      "Epoch 39/50\n",
      "71/71 [==============================] - 13s 178ms/step - loss: 0.0177 - val_loss: 0.0200\n",
      "Epoch 40/50\n",
      "71/71 [==============================] - 13s 176ms/step - loss: 0.0177 - val_loss: 0.0214\n",
      "Epoch 41/50\n",
      "71/71 [==============================] - 12s 176ms/step - loss: 0.0181 - val_loss: 0.0219\n",
      "Epoch 42/50\n",
      "71/71 [==============================] - 13s 178ms/step - loss: 0.0180 - val_loss: 0.0197\n",
      "Epoch 43/50\n",
      "71/71 [==============================] - 13s 176ms/step - loss: 0.0184 - val_loss: 0.0219\n",
      "Epoch 44/50\n",
      "71/71 [==============================] - 13s 178ms/step - loss: 0.0177 - val_loss: 0.0230\n",
      "Epoch 45/50\n",
      "71/71 [==============================] - 13s 176ms/step - loss: 0.0184 - val_loss: 0.0230\n",
      "Epoch 46/50\n",
      "71/71 [==============================] - 13s 178ms/step - loss: 0.0177 - val_loss: 0.0206\n",
      "Epoch 47/50\n",
      "71/71 [==============================] - 13s 176ms/step - loss: 0.0177 - val_loss: 0.0196\n",
      "Epoch 48/50\n",
      "71/71 [==============================] - 13s 178ms/step - loss: 0.0179 - val_loss: 0.0210\n",
      "Epoch 49/50\n",
      "71/71 [==============================] - 13s 176ms/step - loss: 0.0183 - val_loss: 0.0216\n",
      "Epoch 50/50\n",
      "71/71 [==============================] - 13s 178ms/step - loss: 0.0187 - val_loss: 0.0246\n"
     ]
    },
    {
     "name": "stderr",
     "output_type": "stream",
     "text": [
      "  2% (2 of 71) |                         | Elapsed Time: 0:00:00 ETA:   0:00:04"
     ]
    },
    {
     "name": "stdout",
     "output_type": "stream",
     "text": [
      "calculating histogram\n"
     ]
    },
    {
     "name": "stderr",
     "output_type": "stream",
     "text": [
      "100% (71 of 71) |########################| Elapsed Time: 0:00:04 Time:  0:00:04\n",
      "100% (71 of 71) |########################| Elapsed Time: 0:00:04 Time:  0:00:04\n",
      "100% (71 of 71) |########################| Elapsed Time: 0:00:04 Time:  0:00:04\n",
      "100% (71 of 71) |########################| Elapsed Time: 0:00:04 Time:  0:00:04\n",
      "100% (71 of 71) |########################| Elapsed Time: 0:00:04 Time:  0:00:04\n"
     ]
    },
    {
     "name": "stdout",
     "output_type": "stream",
     "text": [
      "saving to uri: s3://tau-astro/almogh/workdir3/model_saves/NN/simple___2021_12_06___21_36_21___Kernels_31_Filters_64_32_16_8_4_Hiddens_512_128_tanh/loss_hist_after_300_epochs.png\n",
      "saving to uri: s3://tau-astro/almogh/workdir3/model_saves/NN/simple___2021_12_06___21_36_21___Kernels_31_Filters_64_32_16_8_4_Hiddens_512_128_tanh/loss.png\n",
      "saving to uri: s3://tau-astro/almogh/workdir3/model_saves/NN/simple___2021_12_06___21_36_21___Kernels_31_Filters_64_32_16_8_4_Hiddens_512_128_tanh/loss.npy\n",
      "saving to uri: s3://tau-astro/almogh/workdir3/model_saves/NN/simple___2021_12_06___21_36_21___Kernels_31_Filters_64_32_16_8_4_Hiddens_512_128_tanh/val_loss.npy\n",
      "TOTAL TIME = 1.096 hours\n"
     ]
    },
    {
     "data": {
      "image/png": "[encoded data removed]",
      "text/plain": [
       "<Figure size 1080x576 with 1 Axes>"
      ]
     },
     "metadata": {
      "needs_background": "light"
     },
     "output_type": "display_data"
    },
    {
     "data": {
      "image/png": "[encoded data removed]",
      "text/plain": [
       "<Figure size 1080x576 with 1 Axes>"
      ]
     },
     "metadata": {
      "needs_background": "light"
     },
     "output_type": "display_data"
    }
   ],
   "source": [
    "if not load_NN:\n",
    "\n",
    "    epochs = 300\n",
    "    sub_epochs = 50\n",
    "    hist_epochs = 5\n",
    "    from progressbar import progressbar\n",
    "    N = 1000\n",
    "    edges = np.linspace(0,1,N+1)\n",
    "    centers = (edges[:-1]+edges[1:])/2\n",
    "    N_chunks = int(epochs/sub_epochs)\n",
    "    loss_history = []\n",
    "    val_loss_history = []\n",
    "    \n",
    "    # create the figures for the histogram and for the loss\n",
    "    from matplotlib import pyplot as plt\n",
    "    hist_fig, hist_ax = plt.subplots(figsize=(15,8))\n",
    "    hist_ax.set_title('Loss histogram')\n",
    "    hist_ax.set_xlabel('loss')\n",
    "    hist_ax.set_ylabel('freq')\n",
    "    hist_ax.grid()\n",
    "    loss_fig, loss_ax = plt.subplots(figsize=(15,8))\n",
    "    loss_ax.set_title('Training curve')\n",
    "    loss_ax.set_xlabel('epoch')\n",
    "    loss_ax.set_ylabel('loss')\n",
    "    loss_ax.grid()\n",
    "    \n",
    "    import time\n",
    "    start_time = time.time()\n",
    "\n",
    "    for i_chunk in range(N_chunks):\n",
    "        \n",
    "        print('-------------------------------------')\n",
    "        print('epochs {0}-{1}:'.format(i_chunk*sub_epochs+1, (i_chunk+1)*sub_epochs))\n",
    "        print('-------------------------------------')\n",
    "    \n",
    "        # train\n",
    "        try:\n",
    "            # for some reason, the first call to fit will throw KeyError...\n",
    "            history = siamese_model.fit(train_gen, epochs=sub_epochs, validation_data=val_gen)\n",
    "        except KeyError:\n",
    "            history = siamese_model.fit(train_gen, epochs=sub_epochs, validation_data=val_gen)\n",
    "        loss_history += history.history['loss']\n",
    "        val_loss_history += history.history['val_loss']\n",
    "            \n",
    "        # calculate histogram\n",
    "        print('calculating histogram')\n",
    "        counts = np.zeros(shape=(N,), dtype=int)\n",
    "        for _ in range(hist_epochs):\n",
    "            for data in progressbar(train_gen):\n",
    "                l = siamese_model._compute_loss(data)\n",
    "                hist,_ = np.histogram(l, bins=edges)\n",
    "                counts += hist\n",
    "        counts = np.divide(counts, np.sum(counts))\n",
    "        \n",
    "        # plot the histogram\n",
    "        curr_epochs = (i_chunk+1)*sub_epochs\n",
    "        hist_ax.plot(centers[:150],counts[:150],label='{0} epochs'.format(curr_epochs))\n",
    "        hist_ax.legend()\n",
    "        \n",
    "        # plot the loss\n",
    "        e = np.arange(curr_epochs)+1\n",
    "        loss_ax.plot(e, loss_history, label='training')\n",
    "        loss_ax.plot(e, val_loss_history, label='test')\n",
    "        loss_ax.legend()\n",
    "        \n",
    "        if save_NN:\n",
    "            to_s3_fig(hist_fig, s3_client, bucket_name, os.path.join(s3_save_NN_dir_path, 'loss_hist_after_{0}_epochs.png'.format((i_chunk+1)*sub_epochs)))\n",
    "            to_s3_fig(loss_fig, s3_client, bucket_name, os.path.join(s3_save_NN_dir_path, 'loss.png'))\n",
    "            to_s3_npy(np.array(loss_history), s3_client, bucket_name, os.path.join(s3_save_NN_dir_path, 'loss.npy'))\n",
    "            to_s3_npy(np.array(val_loss_history), s3_client, bucket_name, os.path.join(s3_save_NN_dir_path, 'val_loss.npy'))\n",
    "            \n",
    "    end_time = time.time()\n",
    "    print('TOTAL TIME = {0:.3f} hours'.format((end_time - start_time)/3600))"
   ]
  },
  {
   "cell_type": "code",
   "execution_count": 27,
   "metadata": {},
   "outputs": [
    {
     "name": "stdout",
     "output_type": "stream",
     "text": [
      "saving to uri: s3://tau-astro/almogh/workdir3/model_saves/NN/simple___2021_12_06___21_36_21___Kernels_31_Filters_64_32_16_8_4_Hiddens_512_128_tanh/loss.png\n",
      "saving to uri: s3://tau-astro/almogh/workdir3/model_saves/NN/simple___2021_12_06___21_36_21___Kernels_31_Filters_64_32_16_8_4_Hiddens_512_128_tanh/loss_log.png\n"
     ]
    },
    {
     "data": {
      "image/png": "[encoded data removed]",
      "text/plain": [
       "<Figure size 1080x576 with 1 Axes>"
      ]
     },
     "metadata": {
      "needs_background": "light"
     },
     "output_type": "display_data"
    }
   ],
   "source": [
    "if not load_NN:\n",
    "\n",
    "    # plot the loss\n",
    "    from matplotlib import pyplot as plt\n",
    "    fig,ax = plt.subplots(figsize=(15,8))\n",
    "    e = np.arange(epochs)+1\n",
    "    ax.plot(e, loss_history, label='training')\n",
    "    ax.plot(e, val_loss_history, label='test')\n",
    "    ax.set_title('Training curve')\n",
    "    ax.set_xlabel('epoch')\n",
    "    ax.set_ylabel('loss')\n",
    "    ax.legend()\n",
    "    ax.grid()\n",
    "    \n",
    "    if save_NN:\n",
    "        to_s3_fig(fig, s3_client, bucket_name, os.path.join(s3_save_NN_dir_path, 'loss.png'))\n",
    "        ax.set_yscale('log')\n",
    "        to_s3_fig(fig, s3_client, bucket_name, os.path.join(s3_save_NN_dir_path, 'loss_log.png'))"
   ]
  },
  {
   "cell_type": "code",
   "execution_count": 28,
   "metadata": {},
   "outputs": [
    {
     "name": "stdout",
     "output_type": "stream",
     "text": [
      "saving to uri: s3://tau-astro/almogh/workdir3/model_saves/NN/simple___2021_12_06___21_36_21___Kernels_31_Filters_64_32_16_8_4_Hiddens_512_128_tanh/NN_log.txt\n"
     ]
    },
    {
     "name": "stderr",
     "output_type": "stream",
     "text": [
      "2021-12-06 22:42:16.432334: W tensorflow/python/util/util.cc:348] Sets are not currently considered sequences, but this may change in the future, so consider avoiding using them.\n"
     ]
    },
    {
     "name": "stdout",
     "output_type": "stream",
     "text": [
      "INFO:tensorflow:Assets written to: /tmp/tmpf1yllveg/model/assets\n",
      "saving to uri: s3://tau-astro/almogh/workdir3/model_saves/NN/simple___2021_12_06___21_36_21___Kernels_31_Filters_64_32_16_8_4_Hiddens_512_128_tanh/model\n"
     ]
    }
   ],
   "source": [
    "if save_NN:\n",
    "\n",
    "    # get model summary\n",
    "    stringlist = []\n",
    "    embedding.summary(print_fn=lambda x: stringlist.append(x))\n",
    "    embedding_summary = \"\\n\".join(stringlist)\n",
    "    stringlist = []\n",
    "    siamese_network.summary(print_fn=lambda x: stringlist.append(x))\n",
    "    siamese_network_summary = \"\\n\".join(stringlist)\n",
    "    \n",
    "    # the path of the RF this NN was trained on\n",
    "    s3_save_RF_path = 'RF not save'\n",
    "    if save_RF:\n",
    "        s3_save_RF_path = s3_save_dir_path\n",
    "    if load_RF:\n",
    "        s3_save_RF_path = s3_load_dir_path\n",
    "\n",
    "    # save log\n",
    "    from s3 import log_s3\n",
    "    log_s3(s3_client, bucket_name, s3_save_NN_dir_path, 'NN_log.txt',\n",
    "        s3_save_RF_path = s3_save_RF_path,\n",
    "        embedding_summary = embedding_summary,\n",
    "        siamese_network_summary = siamese_network_summary\n",
    "        )\n",
    "    \n",
    "    # save the network\n",
    "    s3_model_path = os.path.join(s3_save_NN_dir_path, 'model')\n",
    "    from s3 import s3_save_TF_model\n",
    "    s3_save_TF_model(siamese_model, s3_client, bucket_name, s3_model_path)"
   ]
  }
 ],
 "metadata": {
  "kernelspec": {
   "display_name": "Python 3",
   "language": "python",
   "name": "python3"
  },
  "language_info": {
   "codemirror_mode": {
    "name": "ipython",
    "version": 3
   },
   "file_extension": ".py",
   "mimetype": "text/x-python",
   "name": "python",
   "nbconvert_exporter": "python",
   "pygments_lexer": "ipython3",
   "version": "3.8.5"
  }
 },
 "nbformat": 4,
 "nbformat_minor": 5
}
