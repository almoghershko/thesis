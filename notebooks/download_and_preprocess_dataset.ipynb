{
 "cells": [
  {
   "cell_type": "code",
   "execution_count": 1,
   "metadata": {},
   "outputs": [],
   "source": [
    "# imports\n",
    "import pandas as pd\n",
    "import numpy as np\n",
    "import os\n",
    "import sys\n",
    "\n",
    "# files paths\n",
    "home_dir_path = os.path.expanduser(\"~\")\n",
    "work_dir_path = os.path.join(home_dir_path, 'workdir3')\n",
    "code_dir_path = os.path.join(work_dir_path , 'code')\n",
    "data_dir_path = os.path.join(work_dir_path , 'data')\n",
    "final_table_csv_path = os.path.join(data_dir_path, 'SDSS_DR16_all.csv')\n",
    "\n",
    "# adding code folder to path\n",
    "sys.path.insert(1, code_dir_path)"
   ]
  },
  {
   "cell_type": "code",
   "execution_count": 2,
   "metadata": {},
   "outputs": [],
   "source": [
    "# loading the table\n",
    "gs = pd.read_csv(final_table_csv_path, header = 0, dtype = {\n",
    "    'specobjid' : str,\n",
    "    'z' : float,\n",
    "    'z_noqso' : float,\n",
    "    'snMedian' : float,\n",
    "    'run2d' : str,\n",
    "    'ra' : float,\n",
    "    'dec' : float,\n",
    "    'plate' : int,\n",
    "    'mjd' : int,\n",
    "    'fiberid' : int,\n",
    "    'waveMin' : float,\n",
    "    'waveMax' : float\n",
    "    })"
   ]
  },
  {
   "cell_type": "code",
   "execution_count": 3,
   "metadata": {},
   "outputs": [],
   "source": [
    "# taking only high SNR samples\n",
    "gs = gs.sort_values(by='snMedian', ascending=False)\n",
    "gs = gs[gs.snMedian>20]\n",
    "\n",
    "# loading the wl_grid\n",
    "wl_grid = np.load(os.path.join(data_dir_path, 'wl_grid.npy'))"
   ]
  },
  {
   "cell_type": "code",
   "execution_count": 4,
   "metadata": {},
   "outputs": [
    {
     "data": {
      "text/html": [
       "<div>\n",
       "<style scoped>\n",
       "    .dataframe tbody tr th:only-of-type {\n",
       "        vertical-align: middle;\n",
       "    }\n",
       "\n",
       "    .dataframe tbody tr th {\n",
       "        vertical-align: top;\n",
       "    }\n",
       "\n",
       "    .dataframe thead th {\n",
       "        text-align: right;\n",
       "    }\n",
       "</style>\n",
       "<table border=\"1\" class=\"dataframe\">\n",
       "  <thead>\n",
       "    <tr style=\"text-align: right;\">\n",
       "      <th></th>\n",
       "      <th>specobjid</th>\n",
       "      <th>snMedian</th>\n",
       "      <th>run2d</th>\n",
       "      <th>ra</th>\n",
       "      <th>dec</th>\n",
       "      <th>plate</th>\n",
       "      <th>mjd</th>\n",
       "      <th>fiberid</th>\n",
       "      <th>waveMin</th>\n",
       "      <th>waveMax</th>\n",
       "      <th>z</th>\n",
       "    </tr>\n",
       "  </thead>\n",
       "  <tbody>\n",
       "    <tr>\n",
       "      <th>2973151</th>\n",
       "      <td>10594794674823909376</td>\n",
       "      <td>20.00016</td>\n",
       "      <td>v5_13_0</td>\n",
       "      <td>7.065789</td>\n",
       "      <td>0.713201</td>\n",
       "      <td>9410</td>\n",
       "      <td>58069</td>\n",
       "      <td>278</td>\n",
       "      <td>3601.637</td>\n",
       "      <td>10327.610</td>\n",
       "      <td>0.305970</td>\n",
       "    </tr>\n",
       "    <tr>\n",
       "      <th>849365</th>\n",
       "      <td>2656066114152327168</td>\n",
       "      <td>20.00014</td>\n",
       "      <td>26</td>\n",
       "      <td>163.312000</td>\n",
       "      <td>26.887018</td>\n",
       "      <td>2359</td>\n",
       "      <td>53826</td>\n",
       "      <td>248</td>\n",
       "      <td>3815.927</td>\n",
       "      <td>9191.788</td>\n",
       "      <td>0.021212</td>\n",
       "    </tr>\n",
       "    <tr>\n",
       "      <th>73770</th>\n",
       "      <td>495559817868371968</td>\n",
       "      <td>20.00009</td>\n",
       "      <td>26</td>\n",
       "      <td>124.660970</td>\n",
       "      <td>49.222123</td>\n",
       "      <td>440</td>\n",
       "      <td>51885</td>\n",
       "      <td>596</td>\n",
       "      <td>3824.723</td>\n",
       "      <td>9215.099</td>\n",
       "      <td>0.132998</td>\n",
       "    </tr>\n",
       "    <tr>\n",
       "      <th>966090</th>\n",
       "      <td>2947700589712140288</td>\n",
       "      <td>20.00009</td>\n",
       "      <td>26</td>\n",
       "      <td>197.942130</td>\n",
       "      <td>20.641125</td>\n",
       "      <td>2618</td>\n",
       "      <td>54506</td>\n",
       "      <td>344</td>\n",
       "      <td>3822.082</td>\n",
       "      <td>9215.099</td>\n",
       "      <td>0.139639</td>\n",
       "    </tr>\n",
       "    <tr>\n",
       "      <th>247246</th>\n",
       "      <td>721848111839864832</td>\n",
       "      <td>20.00005</td>\n",
       "      <td>26</td>\n",
       "      <td>323.683710</td>\n",
       "      <td>-6.832992</td>\n",
       "      <td>641</td>\n",
       "      <td>52176</td>\n",
       "      <td>532</td>\n",
       "      <td>3809.781</td>\n",
       "      <td>9206.615</td>\n",
       "      <td>0.159956</td>\n",
       "    </tr>\n",
       "  </tbody>\n",
       "</table>\n",
       "</div>"
      ],
      "text/plain": [
       "                    specobjid  snMedian    run2d          ra        dec  \\\n",
       "2973151  10594794674823909376  20.00016  v5_13_0    7.065789   0.713201   \n",
       "849365    2656066114152327168  20.00014       26  163.312000  26.887018   \n",
       "73770      495559817868371968  20.00009       26  124.660970  49.222123   \n",
       "966090    2947700589712140288  20.00009       26  197.942130  20.641125   \n",
       "247246     721848111839864832  20.00005       26  323.683710  -6.832992   \n",
       "\n",
       "         plate    mjd  fiberid   waveMin    waveMax         z  \n",
       "2973151   9410  58069      278  3601.637  10327.610  0.305970  \n",
       "849365    2359  53826      248  3815.927   9191.788  0.021212  \n",
       "73770      440  51885      596  3824.723   9215.099  0.132998  \n",
       "966090    2618  54506      344  3822.082   9215.099  0.139639  \n",
       "247246     641  52176      532  3809.781   9206.615  0.159956  "
      ]
     },
     "execution_count": 4,
     "metadata": {},
     "output_type": "execute_result"
    }
   ],
   "source": [
    "gs.tail()"
   ]
  },
  {
   "cell_type": "code",
   "execution_count": 5,
   "metadata": {},
   "outputs": [
    {
     "name": "stdout",
     "output_type": "stream",
     "text": [
      "Estimated dataset size: 21.1GB\n"
     ]
    }
   ],
   "source": [
    "print('Estimated dataset size: %.1fGB' % (len(gs)*len(wl_grid)*8/1024/1024/1024))"
   ]
  },
  {
   "cell_type": "code",
   "execution_count": 6,
   "metadata": {},
   "outputs": [],
   "source": [
    "# taking a small slice just to test the code\n",
    "gs = gs[:12000]"
   ]
  },
  {
   "cell_type": "code",
   "execution_count": 7,
   "metadata": {},
   "outputs": [],
   "source": [
    "# create a wrapper that returns the index also\n",
    "from pre_processing import download_spectrum\n",
    "def download_spectrum_wrapper(i):\n",
    "    spec, _, ivar = download_spectrum(gs.iloc[i], pre_proc=True, wl_grid=wl_grid)\n",
    "    return i, spec, ivar"
   ]
  },
  {
   "cell_type": "code",
   "execution_count": 8,
   "metadata": {},
   "outputs": [
    {
     "name": "stderr",
     "output_type": "stream",
     "text": [
      "[Parallel(n_jobs=-1)]: Using backend ThreadingBackend with 16 concurrent workers.\n",
      "[Parallel(n_jobs=-1)]: Done  40 tasks      | elapsed:    8.2s\n",
      "[Parallel(n_jobs=-1)]: Done 130 tasks      | elapsed:   18.6s\n",
      "[Parallel(n_jobs=-1)]: Done 256 tasks      | elapsed:   32.4s\n",
      "[Parallel(n_jobs=-1)]: Done 418 tasks      | elapsed:   50.2s\n",
      "[Parallel(n_jobs=-1)]: Done 616 tasks      | elapsed:  1.2min\n",
      "[Parallel(n_jobs=-1)]: Done 850 tasks      | elapsed:  1.6min\n",
      "[Parallel(n_jobs=-1)]: Done 1120 tasks      | elapsed:  2.1min\n",
      "[Parallel(n_jobs=-1)]: Done 1426 tasks      | elapsed:  2.7min\n",
      "[Parallel(n_jobs=-1)]: Done 1768 tasks      | elapsed:  3.4min\n",
      "[Parallel(n_jobs=-1)]: Done 2146 tasks      | elapsed:  4.1min\n",
      "[Parallel(n_jobs=-1)]: Done 2560 tasks      | elapsed:  4.8min\n",
      "[Parallel(n_jobs=-1)]: Done 3010 tasks      | elapsed:  5.6min\n",
      "[Parallel(n_jobs=-1)]: Done 3496 tasks      | elapsed:  6.5min\n",
      "[Parallel(n_jobs=-1)]: Done 4018 tasks      | elapsed:  7.5min\n",
      "[Parallel(n_jobs=-1)]: Done 4576 tasks      | elapsed:  8.6min\n",
      "[Parallel(n_jobs=-1)]: Done 5170 tasks      | elapsed:  9.8min\n",
      "[Parallel(n_jobs=-1)]: Done 5800 tasks      | elapsed: 10.9min\n",
      "[Parallel(n_jobs=-1)]: Done 6466 tasks      | elapsed: 12.2min\n",
      "[Parallel(n_jobs=-1)]: Done 7168 tasks      | elapsed: 13.5min\n",
      "[Parallel(n_jobs=-1)]: Done 7906 tasks      | elapsed: 14.8min\n",
      "[Parallel(n_jobs=-1)]: Done 8680 tasks      | elapsed: 18.8min\n",
      "[Parallel(n_jobs=-1)]: Done 9490 tasks      | elapsed: 20.3min\n",
      "[Parallel(n_jobs=-1)]: Done 10336 tasks      | elapsed: 21.8min\n",
      "[Parallel(n_jobs=-1)]: Done 11218 tasks      | elapsed: 23.5min\n",
      "[Parallel(n_jobs=-1)]: Done 12000 out of 12000 | elapsed: 24.9min finished\n"
     ]
    }
   ],
   "source": [
    "# create jobs to download and preprocess\n",
    "from joblib import Parallel, delayed\n",
    "res = Parallel(n_jobs=-1, verbose=5, prefer=\"threads\")(delayed(download_spectrum_wrapper)(i) for i in range(len(gs)))\n",
    "\n",
    "# fiter the good results only (exception encountered during download will return empty arrays)\n",
    "res = sorted(res, key=lambda x: x[0])\n",
    "goodRes = [len(val[1]) > 0 for val in res]\n",
    "gs = gs[goodRes]\n",
    "gs.index = range(len(gs))\n",
    "from itertools import compress\n",
    "res = list(compress(res, goodRes))"
   ]
  },
  {
   "cell_type": "code",
   "execution_count": 9,
   "metadata": {},
   "outputs": [],
   "source": [
    "# save the dataframe\n",
    "autoencoder_dataset_dir = os.path.join(data_dir_path,'HighSNR_12K_V1')\n",
    "if not os.path.exists(autoencoder_dataset_dir):\n",
    "    os.mkdir(autoencoder_dataset_dir)\n",
    "dataset_dataframe_path = os.path.join(autoencoder_dataset_dir,'gs.pkl')\n",
    "gs.to_pickle(dataset_dataframe_path)"
   ]
  },
  {
   "cell_type": "code",
   "execution_count": 10,
   "metadata": {},
   "outputs": [],
   "source": [
    "# save the spectra\n",
    "spec = np.stack([x[1] for x in res], axis=0)\n",
    "spec_npy_path = os.path.join(autoencoder_dataset_dir,'spec.npy')\n",
    "np.save(spec_npy_path, spec)"
   ]
  },
  {
   "cell_type": "code",
   "execution_count": 11,
   "metadata": {},
   "outputs": [],
   "source": [
    "# save the ivar\n",
    "ivar = np.stack([x[2] for x in res], axis=0)\n",
    "ivar_npy_path = os.path.join(autoencoder_dataset_dir,'ivar.npy')\n",
    "np.save(ivar_npy_path, ivar)"
   ]
  },
  {
   "cell_type": "markdown",
   "metadata": {},
   "source": [
    "# Splitting data from res (Memory issues)"
   ]
  },
  {
   "cell_type": "code",
   "execution_count": null,
   "metadata": {},
   "outputs": [],
   "source": [
    "import pickle\n",
    "autoencoder_dataset_dir = os.path.join(data_dir_path,'AutoEncoderDataset')\n",
    "res_path = os.path.join(autoencoder_dataset_dir,'res.pkl')\n",
    "with open(res_path,'rb') as f:\n",
    "    res = pickle.load(f)"
   ]
  },
  {
   "cell_type": "code",
   "execution_count": null,
   "metadata": {},
   "outputs": [],
   "source": [
    "ivar_list = [x[2].astype(np.float32) for x in res]"
   ]
  },
  {
   "cell_type": "code",
   "execution_count": null,
   "metadata": {},
   "outputs": [],
   "source": [
    "del res"
   ]
  },
  {
   "cell_type": "code",
   "execution_count": null,
   "metadata": {},
   "outputs": [],
   "source": [
    "import gc\n",
    "gc.collect()"
   ]
  },
  {
   "cell_type": "code",
   "execution_count": null,
   "metadata": {},
   "outputs": [],
   "source": [
    "ivar = np.stack(ivar_list, axis=0)"
   ]
  },
  {
   "cell_type": "code",
   "execution_count": null,
   "metadata": {},
   "outputs": [],
   "source": [
    "del ivar_list"
   ]
  },
  {
   "cell_type": "code",
   "execution_count": null,
   "metadata": {},
   "outputs": [],
   "source": [
    "import gc\n",
    "gc.collect()"
   ]
  },
  {
   "cell_type": "code",
   "execution_count": null,
   "metadata": {},
   "outputs": [],
   "source": [
    "ivar_npy_path = os.path.join(autoencoder_dataset_dir,'ivar.npy')\n",
    "np.save(ivar_npy_path, ivar)"
   ]
  },
  {
   "cell_type": "code",
   "execution_count": null,
   "metadata": {},
   "outputs": [],
   "source": [
    "import sys\n",
    "\n",
    "local_vars = list(locals().items())\n",
    "for var, obj in local_vars:\n",
    "    print(var, sys.getsizeof(obj))"
   ]
  },
  {
   "cell_type": "code",
   "execution_count": null,
   "metadata": {},
   "outputs": [],
   "source": [
    "import psutil\n",
    "dict(psutil.virtual_memory()._asdict())['available']/(1024**3)"
   ]
  }
 ],
 "metadata": {
  "kernelspec": {
   "display_name": "Python 3",
   "language": "python",
   "name": "python3"
  },
  "language_info": {
   "codemirror_mode": {
    "name": "ipython",
    "version": 3
   },
   "file_extension": ".py",
   "mimetype": "text/x-python",
   "name": "python",
   "nbconvert_exporter": "python",
   "pygments_lexer": "ipython3",
   "version": "3.8.5"
  }
 },
 "nbformat": 4,
 "nbformat_minor": 4
}
